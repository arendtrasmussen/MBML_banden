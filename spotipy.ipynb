{
 "cells": [
  {
   "cell_type": "code",
   "execution_count": 1,
   "metadata": {},
   "outputs": [],
   "source": [
    "import sys\n",
    "import spotipy\n",
    "import json\n",
    "import webbrowser\n",
    "import spotipy.util as util\n",
    "from json.decoder import JSONDecodeError\n"
   ]
  },
  {
   "cell_type": "code",
   "execution_count": 2,
   "metadata": {
    "scrolled": true
   },
   "outputs": [
    {
     "data": {
      "text/plain": [
       "'BQDqhNkyjQ4KLzLyYSNELO2fmF6SB3m_369FUyovWpKA_H4RPzbBdXd4Hbrfy1HJ-8aPYU8khbGxRn749txIC6cHkBW4CRpkHo3XKlr5tp_bEBqC8DQ9ayD4OqKiZpPEPqs8e_v_TSQqdGeCu7EyyyHVlzvnm43ppgm8zWPO6k-8W-OVEjM'"
      ]
     },
     "execution_count": 2,
     "metadata": {},
     "output_type": "execute_result"
    }
   ],
   "source": [
    "# Get user name\n",
    "\n",
    "\n",
    "# Username: yts1nrqgvqjmau92w6fq1y3kx\n",
    "username='yts1nrqgvqjmau92w6fq1y3kx'\n",
    "scope = 'user-library-read'\n",
    "client_id='78c22596fdaf488090979ee83028d942'\n",
    "client_secret='58a6bf1864b34e2682d9d57487e1ec60'\n",
    "redirect_uri='http://localhost/'\n",
    "\n",
    "util.prompt_for_user_token(username,scope,client_id,client_secret,redirect_uri)\n",
    "   \n"
   ]
  },
  {
   "cell_type": "markdown",
   "metadata": {},
   "source": [
    "## Prints the album and "
   ]
  },
  {
   "cell_type": "code",
   "execution_count": 3,
   "metadata": {
    "scrolled": true
   },
   "outputs": [
    {
     "name": "stdout",
     "output_type": "stream",
     "text": [
      "Delicate - Taylor Swift\n",
      "Aftergold - Big Wild\n"
     ]
    }
   ],
   "source": [
    "\n",
    "#TEST\n",
    "\n",
    "import sys\n",
    "import spotipy\n",
    "import spotipy.util as util\n",
    "\n",
    "scope = 'user-library-read'\n",
    "\n",
    "username='yts1nrqgvqjmau92w6fq1y3kx'\n",
    "client_id='78c22596fdaf488090979ee83028d942'\n",
    "client_secret='58a6bf1864b34e2682d9d57487e1ec60'\n",
    "redirect_uri='http://localhost/'\n",
    "\n",
    "token = util.prompt_for_user_token(username,scope,client_id,client_secret,redirect_uri)\n",
    "\n",
    "if token:\n",
    "    sp = spotipy.Spotify(auth=token)\n",
    "    results = sp.current_user_saved_tracks()\n",
    "    for item in results['items']:\n",
    "        track = item['track']\n",
    "        print( track['name'] + ' - ' + track['artists'][0]['name'])\n",
    "else:\n",
    "    print(\"Can't get token for\", username)"
   ]
  },
  {
   "cell_type": "markdown",
   "metadata": {},
   "source": [
    "## Prints the audio features"
   ]
  },
  {
   "cell_type": "code",
   "execution_count": 4,
   "metadata": {},
   "outputs": [
    {
     "name": "stdout",
     "output_type": "stream",
     "text": [
      "[None]\n"
     ]
    }
   ],
   "source": [
    "import spotipy\n",
    "import spotipy.oauth2\n",
    "\n",
    "credentials = spotipy.oauth2.SpotifyClientCredentials(client_id, client_secret)\n",
    "spotify = spotipy.Spotify(client_credentials_manager=credentials)\n",
    "#print(spotify.audio_features(['4uLU6hMCjMI75M1A2tKUQC']))\n",
    "#print(spotify.audio_features(['https://open.spotify.com/playlist/37i9dQZF1Ejh1DqQpLOGMI']))\n",
    "#print(spotify.audio_features(['4JpKVNYnVcJ8tuMKjAj50A,2NRANZE9UCmPAS5XVbXL40,24JygzOLM0EmRQeGtFcIcG']))\n",
    "#print(spotify.audio_analysis('4JpKVNYnVcJ8tuMKjAj50A'))\n",
    "\n",
    "#https://open.spotify.com/album/3idhSBAaROCp9U4fQCj4Xs\n",
    "print(spotify.audio_features(['party']))\n",
    "\n"
   ]
  },
  {
   "cell_type": "markdown",
   "metadata": {},
   "source": [
    "### TEST"
   ]
  },
  {
   "cell_type": "code",
   "execution_count": 6,
   "metadata": {},
   "outputs": [
    {
     "name": "stdout",
     "output_type": "stream",
     "text": [
      "Time to run this code (in seconds): 1.602753908847653\n"
     ]
    }
   ],
   "source": [
    "# timeit library to measure the time needed to run this code\n",
    "import timeit\n",
    "start = timeit.default_timer()\n",
    "\n",
    "# create empty lists where the results are going to be stored\n",
    "artist_name = []\n",
    "track_name = []\n",
    "popularity = []\n",
    "track_id = []\n",
    "\n",
    "for i in range(0,1000,50):\n",
    "    track_results = sp.search(q='year:2018', type='track', limit=50,offset=i)\n",
    "    for i, t in enumerate(track_results['tracks']['items']):\n",
    "        artist_name.append(t['artists'][0]['name'])\n",
    "        track_name.append(t['name'])\n",
    "        track_id.append(t['id'])\n",
    "        popularity.append(t['popularity'])\n",
    "\n",
    "    \n",
    "stop = timeit.default_timer()\n",
    "print ('Time to run this code (in seconds):', stop - start)"
   ]
  },
  {
   "cell_type": "code",
   "execution_count": 7,
   "metadata": {},
   "outputs": [
    {
     "name": "stdout",
     "output_type": "stream",
     "text": [
      "(100, 4)\n"
     ]
    },
    {
     "data": {
      "text/html": [
       "<div>\n",
       "<style scoped>\n",
       "    .dataframe tbody tr th:only-of-type {\n",
       "        vertical-align: middle;\n",
       "    }\n",
       "\n",
       "    .dataframe tbody tr th {\n",
       "        vertical-align: top;\n",
       "    }\n",
       "\n",
       "    .dataframe thead th {\n",
       "        text-align: right;\n",
       "    }\n",
       "</style>\n",
       "<table border=\"1\" class=\"dataframe\">\n",
       "  <thead>\n",
       "    <tr style=\"text-align: right;\">\n",
       "      <th></th>\n",
       "      <th>artist_name</th>\n",
       "      <th>track_name</th>\n",
       "      <th>track_id</th>\n",
       "      <th>popularity</th>\n",
       "    </tr>\n",
       "  </thead>\n",
       "  <tbody>\n",
       "    <tr>\n",
       "      <th>0</th>\n",
       "      <td>Post Malone</td>\n",
       "      <td>Wow.</td>\n",
       "      <td>6MWtB6iiXyIwun0YzU6DFP</td>\n",
       "      <td>98</td>\n",
       "    </tr>\n",
       "    <tr>\n",
       "      <th>1</th>\n",
       "      <td>Lady Gaga</td>\n",
       "      <td>Shallow</td>\n",
       "      <td>2VxeLyX666F8uXCJ0dZF8B</td>\n",
       "      <td>96</td>\n",
       "    </tr>\n",
       "    <tr>\n",
       "      <th>2</th>\n",
       "      <td>Alec Benjamin</td>\n",
       "      <td>Let Me Down Slowly</td>\n",
       "      <td>2qxmye6gAegTMjLKEBoR3d</td>\n",
       "      <td>93</td>\n",
       "    </tr>\n",
       "    <tr>\n",
       "      <th>3</th>\n",
       "      <td>Ava Max</td>\n",
       "      <td>Sweet but Psycho</td>\n",
       "      <td>25sgk305KZfyuqVBQIahim</td>\n",
       "      <td>96</td>\n",
       "    </tr>\n",
       "    <tr>\n",
       "      <th>4</th>\n",
       "      <td>Halsey</td>\n",
       "      <td>Without Me</td>\n",
       "      <td>5p7ujcrUXASCNwRaWNHR1C</td>\n",
       "      <td>96</td>\n",
       "    </tr>\n",
       "  </tbody>\n",
       "</table>\n",
       "</div>"
      ],
      "text/plain": [
       "     artist_name          track_name                track_id  popularity\n",
       "0    Post Malone                Wow.  6MWtB6iiXyIwun0YzU6DFP          98\n",
       "1      Lady Gaga             Shallow  2VxeLyX666F8uXCJ0dZF8B          96\n",
       "2  Alec Benjamin  Let Me Down Slowly  2qxmye6gAegTMjLKEBoR3d          93\n",
       "3        Ava Max    Sweet but Psycho  25sgk305KZfyuqVBQIahim          96\n",
       "4         Halsey          Without Me  5p7ujcrUXASCNwRaWNHR1C          96"
      ]
     },
     "execution_count": 7,
     "metadata": {},
     "output_type": "execute_result"
    }
   ],
   "source": [
    "\n",
    "import pandas as pd\n",
    "df_tracks = pd.DataFrame({'artist_name':artist_name,'track_name':track_name,'track_id':track_id,'popularity':popularity})\n",
    "print(df_tracks.shape)\n",
    "df_tracks.head()"
   ]
  },
  {
   "cell_type": "code",
   "execution_count": 8,
   "metadata": {},
   "outputs": [
    {
     "data": {
      "text/plain": [
       "(100, 4)"
      ]
     },
     "execution_count": 8,
     "metadata": {},
     "output_type": "execute_result"
    }
   ],
   "source": [
    "# group the entries by artist_name and track_name and check for duplicates\n",
    "\n",
    "grouped = df_tracks.groupby(['artist_name','track_name'], as_index=True).size()\n",
    "grouped[grouped > 1].count()\n",
    "\n",
    "\n",
    "\n",
    "df_tracks.drop_duplicates(subset=['artist_name','track_name'], inplace=True)\n",
    "\n",
    "\n",
    "\n",
    "# doing the same grouping as before to verify the solution\n",
    "grouped_after_dropping = df_tracks.groupby(['artist_name','track_name'], as_index=True).size()\n",
    "grouped_after_dropping[grouped_after_dropping > 1].count()\n",
    "\n",
    "\n",
    "df_tracks[df_tracks.duplicated(subset=['artist_name','track_name'],keep=False)].count()\n",
    "\n",
    "df_tracks.shape"
   ]
  },
  {
   "cell_type": "code",
   "execution_count": 9,
   "metadata": {},
   "outputs": [
    {
     "name": "stdout",
     "output_type": "stream",
     "text": [
      "Number of tracks where no audio features were available: 0\n",
      "Time to run this code (in seconds): 0.45664954204868735\n"
     ]
    }
   ],
   "source": [
    "# again measuring the time\n",
    "start = timeit.default_timer()\n",
    "\n",
    "# empty list, batchsize and the counter for None results\n",
    "rows = []\n",
    "batchsize = 100\n",
    "None_counter = 0\n",
    "\n",
    "for i in range(0,len(df_tracks['track_id']),batchsize):\n",
    "    batch = df_tracks['track_id'][i:i+batchsize]\n",
    "    feature_results = sp.audio_features(batch)\n",
    "    for i, t in enumerate(feature_results):\n",
    "        if t == None:\n",
    "            None_counter = None_counter + 1\n",
    "        else:\n",
    "            rows.append(t)\n",
    "            \n",
    "print('Number of tracks where no audio features were available:',None_counter)\n",
    "\n",
    "stop = timeit.default_timer()\n",
    "print ('Time to run this code (in seconds):',stop - start)"
   ]
  },
  {
   "cell_type": "code",
   "execution_count": 12,
   "metadata": {},
   "outputs": [
    {
     "name": "stdout",
     "output_type": "stream",
     "text": [
      "number of elements in the track_id list: 100\n"
     ]
    }
   ],
   "source": [
    "print('number of elements in the track_id list:', len(rows))"
   ]
  },
  {
   "cell_type": "code",
   "execution_count": 13,
   "metadata": {},
   "outputs": [
    {
     "name": "stdout",
     "output_type": "stream",
     "text": [
      "Shape of the dataset: (100, 18)\n"
     ]
    },
    {
     "data": {
      "text/html": [
       "<div>\n",
       "<style scoped>\n",
       "    .dataframe tbody tr th:only-of-type {\n",
       "        vertical-align: middle;\n",
       "    }\n",
       "\n",
       "    .dataframe tbody tr th {\n",
       "        vertical-align: top;\n",
       "    }\n",
       "\n",
       "    .dataframe thead th {\n",
       "        text-align: right;\n",
       "    }\n",
       "</style>\n",
       "<table border=\"1\" class=\"dataframe\">\n",
       "  <thead>\n",
       "    <tr style=\"text-align: right;\">\n",
       "      <th></th>\n",
       "      <th>acousticness</th>\n",
       "      <th>analysis_url</th>\n",
       "      <th>danceability</th>\n",
       "      <th>duration_ms</th>\n",
       "      <th>energy</th>\n",
       "      <th>id</th>\n",
       "      <th>instrumentalness</th>\n",
       "      <th>key</th>\n",
       "      <th>liveness</th>\n",
       "      <th>loudness</th>\n",
       "      <th>mode</th>\n",
       "      <th>speechiness</th>\n",
       "      <th>tempo</th>\n",
       "      <th>time_signature</th>\n",
       "      <th>track_href</th>\n",
       "      <th>type</th>\n",
       "      <th>uri</th>\n",
       "      <th>valence</th>\n",
       "    </tr>\n",
       "  </thead>\n",
       "  <tbody>\n",
       "    <tr>\n",
       "      <th>0</th>\n",
       "      <td>0.1630</td>\n",
       "      <td>https://api.spotify.com/v1/audio-analysis/6MWt...</td>\n",
       "      <td>0.833</td>\n",
       "      <td>149520</td>\n",
       "      <td>0.539</td>\n",
       "      <td>6MWtB6iiXyIwun0YzU6DFP</td>\n",
       "      <td>0.000002</td>\n",
       "      <td>11</td>\n",
       "      <td>0.1010</td>\n",
       "      <td>-7.399</td>\n",
       "      <td>0</td>\n",
       "      <td>0.1780</td>\n",
       "      <td>99.947</td>\n",
       "      <td>4</td>\n",
       "      <td>https://api.spotify.com/v1/tracks/6MWtB6iiXyIw...</td>\n",
       "      <td>audio_features</td>\n",
       "      <td>spotify:track:6MWtB6iiXyIwun0YzU6DFP</td>\n",
       "      <td>0.385</td>\n",
       "    </tr>\n",
       "    <tr>\n",
       "      <th>1</th>\n",
       "      <td>0.3710</td>\n",
       "      <td>https://api.spotify.com/v1/audio-analysis/2Vxe...</td>\n",
       "      <td>0.572</td>\n",
       "      <td>215733</td>\n",
       "      <td>0.385</td>\n",
       "      <td>2VxeLyX666F8uXCJ0dZF8B</td>\n",
       "      <td>0.000000</td>\n",
       "      <td>7</td>\n",
       "      <td>0.2310</td>\n",
       "      <td>-6.362</td>\n",
       "      <td>1</td>\n",
       "      <td>0.0308</td>\n",
       "      <td>95.799</td>\n",
       "      <td>4</td>\n",
       "      <td>https://api.spotify.com/v1/tracks/2VxeLyX666F8...</td>\n",
       "      <td>audio_features</td>\n",
       "      <td>spotify:track:2VxeLyX666F8uXCJ0dZF8B</td>\n",
       "      <td>0.323</td>\n",
       "    </tr>\n",
       "    <tr>\n",
       "      <th>2</th>\n",
       "      <td>0.7400</td>\n",
       "      <td>https://api.spotify.com/v1/audio-analysis/2qxm...</td>\n",
       "      <td>0.652</td>\n",
       "      <td>169354</td>\n",
       "      <td>0.557</td>\n",
       "      <td>2qxmye6gAegTMjLKEBoR3d</td>\n",
       "      <td>0.000000</td>\n",
       "      <td>1</td>\n",
       "      <td>0.1240</td>\n",
       "      <td>-5.714</td>\n",
       "      <td>0</td>\n",
       "      <td>0.0318</td>\n",
       "      <td>150.073</td>\n",
       "      <td>4</td>\n",
       "      <td>https://api.spotify.com/v1/tracks/2qxmye6gAegT...</td>\n",
       "      <td>audio_features</td>\n",
       "      <td>spotify:track:2qxmye6gAegTMjLKEBoR3d</td>\n",
       "      <td>0.483</td>\n",
       "    </tr>\n",
       "    <tr>\n",
       "      <th>3</th>\n",
       "      <td>0.0691</td>\n",
       "      <td>https://api.spotify.com/v1/audio-analysis/25sg...</td>\n",
       "      <td>0.719</td>\n",
       "      <td>187436</td>\n",
       "      <td>0.704</td>\n",
       "      <td>25sgk305KZfyuqVBQIahim</td>\n",
       "      <td>0.000000</td>\n",
       "      <td>1</td>\n",
       "      <td>0.1660</td>\n",
       "      <td>-4.724</td>\n",
       "      <td>1</td>\n",
       "      <td>0.0476</td>\n",
       "      <td>133.002</td>\n",
       "      <td>4</td>\n",
       "      <td>https://api.spotify.com/v1/tracks/25sgk305KZfy...</td>\n",
       "      <td>audio_features</td>\n",
       "      <td>spotify:track:25sgk305KZfyuqVBQIahim</td>\n",
       "      <td>0.628</td>\n",
       "    </tr>\n",
       "    <tr>\n",
       "      <th>4</th>\n",
       "      <td>0.2970</td>\n",
       "      <td>https://api.spotify.com/v1/audio-analysis/5p7u...</td>\n",
       "      <td>0.752</td>\n",
       "      <td>201661</td>\n",
       "      <td>0.488</td>\n",
       "      <td>5p7ujcrUXASCNwRaWNHR1C</td>\n",
       "      <td>0.000009</td>\n",
       "      <td>6</td>\n",
       "      <td>0.0936</td>\n",
       "      <td>-7.050</td>\n",
       "      <td>1</td>\n",
       "      <td>0.0705</td>\n",
       "      <td>136.041</td>\n",
       "      <td>4</td>\n",
       "      <td>https://api.spotify.com/v1/tracks/5p7ujcrUXASC...</td>\n",
       "      <td>audio_features</td>\n",
       "      <td>spotify:track:5p7ujcrUXASCNwRaWNHR1C</td>\n",
       "      <td>0.533</td>\n",
       "    </tr>\n",
       "  </tbody>\n",
       "</table>\n",
       "</div>"
      ],
      "text/plain": [
       "   acousticness                                       analysis_url  \\\n",
       "0        0.1630  https://api.spotify.com/v1/audio-analysis/6MWt...   \n",
       "1        0.3710  https://api.spotify.com/v1/audio-analysis/2Vxe...   \n",
       "2        0.7400  https://api.spotify.com/v1/audio-analysis/2qxm...   \n",
       "3        0.0691  https://api.spotify.com/v1/audio-analysis/25sg...   \n",
       "4        0.2970  https://api.spotify.com/v1/audio-analysis/5p7u...   \n",
       "\n",
       "   danceability  duration_ms  energy                      id  \\\n",
       "0         0.833       149520   0.539  6MWtB6iiXyIwun0YzU6DFP   \n",
       "1         0.572       215733   0.385  2VxeLyX666F8uXCJ0dZF8B   \n",
       "2         0.652       169354   0.557  2qxmye6gAegTMjLKEBoR3d   \n",
       "3         0.719       187436   0.704  25sgk305KZfyuqVBQIahim   \n",
       "4         0.752       201661   0.488  5p7ujcrUXASCNwRaWNHR1C   \n",
       "\n",
       "   instrumentalness  key  liveness  loudness  mode  speechiness    tempo  \\\n",
       "0          0.000002   11    0.1010    -7.399     0       0.1780   99.947   \n",
       "1          0.000000    7    0.2310    -6.362     1       0.0308   95.799   \n",
       "2          0.000000    1    0.1240    -5.714     0       0.0318  150.073   \n",
       "3          0.000000    1    0.1660    -4.724     1       0.0476  133.002   \n",
       "4          0.000009    6    0.0936    -7.050     1       0.0705  136.041   \n",
       "\n",
       "   time_signature                                         track_href  \\\n",
       "0               4  https://api.spotify.com/v1/tracks/6MWtB6iiXyIw...   \n",
       "1               4  https://api.spotify.com/v1/tracks/2VxeLyX666F8...   \n",
       "2               4  https://api.spotify.com/v1/tracks/2qxmye6gAegT...   \n",
       "3               4  https://api.spotify.com/v1/tracks/25sgk305KZfy...   \n",
       "4               4  https://api.spotify.com/v1/tracks/5p7ujcrUXASC...   \n",
       "\n",
       "             type                                   uri  valence  \n",
       "0  audio_features  spotify:track:6MWtB6iiXyIwun0YzU6DFP    0.385  \n",
       "1  audio_features  spotify:track:2VxeLyX666F8uXCJ0dZF8B    0.323  \n",
       "2  audio_features  spotify:track:2qxmye6gAegTMjLKEBoR3d    0.483  \n",
       "3  audio_features  spotify:track:25sgk305KZfyuqVBQIahim    0.628  \n",
       "4  audio_features  spotify:track:5p7ujcrUXASCNwRaWNHR1C    0.533  "
      ]
     },
     "execution_count": 13,
     "metadata": {},
     "output_type": "execute_result"
    }
   ],
   "source": [
    "df_audio_features = pd.DataFrame.from_dict(rows,orient='columns')\n",
    "print(\"Shape of the dataset:\", df_audio_features.shape)\n",
    "df_audio_features.head()"
   ]
  },
  {
   "cell_type": "code",
   "execution_count": 14,
   "metadata": {},
   "outputs": [
    {
     "name": "stdout",
     "output_type": "stream",
     "text": [
      "<class 'pandas.core.frame.DataFrame'>\n",
      "RangeIndex: 100 entries, 0 to 99\n",
      "Data columns (total 18 columns):\n",
      "acousticness        100 non-null float64\n",
      "analysis_url        100 non-null object\n",
      "danceability        100 non-null float64\n",
      "duration_ms         100 non-null int64\n",
      "energy              100 non-null float64\n",
      "id                  100 non-null object\n",
      "instrumentalness    100 non-null float64\n",
      "key                 100 non-null int64\n",
      "liveness            100 non-null float64\n",
      "loudness            100 non-null float64\n",
      "mode                100 non-null int64\n",
      "speechiness         100 non-null float64\n",
      "tempo               100 non-null float64\n",
      "time_signature      100 non-null int64\n",
      "track_href          100 non-null object\n",
      "type                100 non-null object\n",
      "uri                 100 non-null object\n",
      "valence             100 non-null float64\n",
      "dtypes: float64(9), int64(4), object(5)\n",
      "memory usage: 14.1+ KB\n"
     ]
    }
   ],
   "source": [
    "df_audio_features.info()"
   ]
  },
  {
   "cell_type": "code",
   "execution_count": 15,
   "metadata": {},
   "outputs": [
    {
     "data": {
      "text/plain": [
       "(100, 14)"
      ]
     },
     "execution_count": 15,
     "metadata": {},
     "output_type": "execute_result"
    }
   ],
   "source": [
    "columns_to_drop = ['analysis_url','track_href','type','uri']\n",
    "df_audio_features.drop(columns_to_drop, axis=1,inplace=True)\n",
    "\n",
    "df_audio_features.rename(columns={'id': 'track_id'}, inplace=True)\n",
    "\n",
    "df_audio_features.shape"
   ]
  },
  {
   "cell_type": "code",
   "execution_count": 16,
   "metadata": {},
   "outputs": [
    {
     "name": "stdout",
     "output_type": "stream",
     "text": [
      "Shape of the dataset: (100, 14)\n"
     ]
    },
    {
     "data": {
      "text/html": [
       "<div>\n",
       "<style scoped>\n",
       "    .dataframe tbody tr th:only-of-type {\n",
       "        vertical-align: middle;\n",
       "    }\n",
       "\n",
       "    .dataframe tbody tr th {\n",
       "        vertical-align: top;\n",
       "    }\n",
       "\n",
       "    .dataframe thead th {\n",
       "        text-align: right;\n",
       "    }\n",
       "</style>\n",
       "<table border=\"1\" class=\"dataframe\">\n",
       "  <thead>\n",
       "    <tr style=\"text-align: right;\">\n",
       "      <th></th>\n",
       "      <th>artist_name</th>\n",
       "      <th>track_name</th>\n",
       "      <th>track_id</th>\n",
       "      <th>popularity</th>\n",
       "      <th>acousticness</th>\n",
       "      <th>danceability</th>\n",
       "      <th>duration_ms</th>\n",
       "      <th>energy</th>\n",
       "      <th>instrumentalness</th>\n",
       "      <th>key</th>\n",
       "      <th>liveness</th>\n",
       "      <th>loudness</th>\n",
       "      <th>mode</th>\n",
       "      <th>speechiness</th>\n",
       "      <th>tempo</th>\n",
       "      <th>time_signature</th>\n",
       "      <th>valence</th>\n",
       "    </tr>\n",
       "  </thead>\n",
       "  <tbody>\n",
       "    <tr>\n",
       "      <th>0</th>\n",
       "      <td>Post Malone</td>\n",
       "      <td>Wow.</td>\n",
       "      <td>6MWtB6iiXyIwun0YzU6DFP</td>\n",
       "      <td>98</td>\n",
       "      <td>0.1630</td>\n",
       "      <td>0.833</td>\n",
       "      <td>149520</td>\n",
       "      <td>0.539</td>\n",
       "      <td>0.000002</td>\n",
       "      <td>11</td>\n",
       "      <td>0.1010</td>\n",
       "      <td>-7.399</td>\n",
       "      <td>0</td>\n",
       "      <td>0.1780</td>\n",
       "      <td>99.947</td>\n",
       "      <td>4</td>\n",
       "      <td>0.385</td>\n",
       "    </tr>\n",
       "    <tr>\n",
       "      <th>1</th>\n",
       "      <td>Lady Gaga</td>\n",
       "      <td>Shallow</td>\n",
       "      <td>2VxeLyX666F8uXCJ0dZF8B</td>\n",
       "      <td>96</td>\n",
       "      <td>0.3710</td>\n",
       "      <td>0.572</td>\n",
       "      <td>215733</td>\n",
       "      <td>0.385</td>\n",
       "      <td>0.000000</td>\n",
       "      <td>7</td>\n",
       "      <td>0.2310</td>\n",
       "      <td>-6.362</td>\n",
       "      <td>1</td>\n",
       "      <td>0.0308</td>\n",
       "      <td>95.799</td>\n",
       "      <td>4</td>\n",
       "      <td>0.323</td>\n",
       "    </tr>\n",
       "    <tr>\n",
       "      <th>2</th>\n",
       "      <td>Alec Benjamin</td>\n",
       "      <td>Let Me Down Slowly</td>\n",
       "      <td>2qxmye6gAegTMjLKEBoR3d</td>\n",
       "      <td>93</td>\n",
       "      <td>0.7400</td>\n",
       "      <td>0.652</td>\n",
       "      <td>169354</td>\n",
       "      <td>0.557</td>\n",
       "      <td>0.000000</td>\n",
       "      <td>1</td>\n",
       "      <td>0.1240</td>\n",
       "      <td>-5.714</td>\n",
       "      <td>0</td>\n",
       "      <td>0.0318</td>\n",
       "      <td>150.073</td>\n",
       "      <td>4</td>\n",
       "      <td>0.483</td>\n",
       "    </tr>\n",
       "    <tr>\n",
       "      <th>3</th>\n",
       "      <td>Ava Max</td>\n",
       "      <td>Sweet but Psycho</td>\n",
       "      <td>25sgk305KZfyuqVBQIahim</td>\n",
       "      <td>96</td>\n",
       "      <td>0.0691</td>\n",
       "      <td>0.719</td>\n",
       "      <td>187436</td>\n",
       "      <td>0.704</td>\n",
       "      <td>0.000000</td>\n",
       "      <td>1</td>\n",
       "      <td>0.1660</td>\n",
       "      <td>-4.724</td>\n",
       "      <td>1</td>\n",
       "      <td>0.0476</td>\n",
       "      <td>133.002</td>\n",
       "      <td>4</td>\n",
       "      <td>0.628</td>\n",
       "    </tr>\n",
       "    <tr>\n",
       "      <th>4</th>\n",
       "      <td>Halsey</td>\n",
       "      <td>Without Me</td>\n",
       "      <td>5p7ujcrUXASCNwRaWNHR1C</td>\n",
       "      <td>96</td>\n",
       "      <td>0.2970</td>\n",
       "      <td>0.752</td>\n",
       "      <td>201661</td>\n",
       "      <td>0.488</td>\n",
       "      <td>0.000009</td>\n",
       "      <td>6</td>\n",
       "      <td>0.0936</td>\n",
       "      <td>-7.050</td>\n",
       "      <td>1</td>\n",
       "      <td>0.0705</td>\n",
       "      <td>136.041</td>\n",
       "      <td>4</td>\n",
       "      <td>0.533</td>\n",
       "    </tr>\n",
       "  </tbody>\n",
       "</table>\n",
       "</div>"
      ],
      "text/plain": [
       "     artist_name          track_name                track_id  popularity  \\\n",
       "0    Post Malone                Wow.  6MWtB6iiXyIwun0YzU6DFP          98   \n",
       "1      Lady Gaga             Shallow  2VxeLyX666F8uXCJ0dZF8B          96   \n",
       "2  Alec Benjamin  Let Me Down Slowly  2qxmye6gAegTMjLKEBoR3d          93   \n",
       "3        Ava Max    Sweet but Psycho  25sgk305KZfyuqVBQIahim          96   \n",
       "4         Halsey          Without Me  5p7ujcrUXASCNwRaWNHR1C          96   \n",
       "\n",
       "   acousticness  danceability  duration_ms  energy  instrumentalness  key  \\\n",
       "0        0.1630         0.833       149520   0.539          0.000002   11   \n",
       "1        0.3710         0.572       215733   0.385          0.000000    7   \n",
       "2        0.7400         0.652       169354   0.557          0.000000    1   \n",
       "3        0.0691         0.719       187436   0.704          0.000000    1   \n",
       "4        0.2970         0.752       201661   0.488          0.000009    6   \n",
       "\n",
       "   liveness  loudness  mode  speechiness    tempo  time_signature  valence  \n",
       "0    0.1010    -7.399     0       0.1780   99.947               4    0.385  \n",
       "1    0.2310    -6.362     1       0.0308   95.799               4    0.323  \n",
       "2    0.1240    -5.714     0       0.0318  150.073               4    0.483  \n",
       "3    0.1660    -4.724     1       0.0476  133.002               4    0.628  \n",
       "4    0.0936    -7.050     1       0.0705  136.041               4    0.533  "
      ]
     },
     "execution_count": 16,
     "metadata": {},
     "output_type": "execute_result"
    }
   ],
   "source": [
    "# merge both dataframes\n",
    "# the 'inner' method will make sure that we only keep track IDs present in both datasets\n",
    "df = pd.merge(df_tracks,df_audio_features,on='track_id',how='inner')\n",
    "print(\"Shape of the dataset:\", df_audio_features.shape)\n",
    "df.head()"
   ]
  },
  {
   "cell_type": "code",
   "execution_count": 17,
   "metadata": {},
   "outputs": [
    {
     "name": "stdout",
     "output_type": "stream",
     "text": [
      "<class 'pandas.core.frame.DataFrame'>\n",
      "Int64Index: 100 entries, 0 to 99\n",
      "Data columns (total 17 columns):\n",
      "artist_name         100 non-null object\n",
      "track_name          100 non-null object\n",
      "track_id            100 non-null object\n",
      "popularity          100 non-null int64\n",
      "acousticness        100 non-null float64\n",
      "danceability        100 non-null float64\n",
      "duration_ms         100 non-null int64\n",
      "energy              100 non-null float64\n",
      "instrumentalness    100 non-null float64\n",
      "key                 100 non-null int64\n",
      "liveness            100 non-null float64\n",
      "loudness            100 non-null float64\n",
      "mode                100 non-null int64\n",
      "speechiness         100 non-null float64\n",
      "tempo               100 non-null float64\n",
      "time_signature      100 non-null int64\n",
      "valence             100 non-null float64\n",
      "dtypes: float64(9), int64(5), object(3)\n",
      "memory usage: 14.1+ KB\n"
     ]
    }
   ],
   "source": [
    "df.info()"
   ]
  },
  {
   "cell_type": "code",
   "execution_count": 18,
   "metadata": {},
   "outputs": [
    {
     "data": {
      "text/html": [
       "<div>\n",
       "<style scoped>\n",
       "    .dataframe tbody tr th:only-of-type {\n",
       "        vertical-align: middle;\n",
       "    }\n",
       "\n",
       "    .dataframe tbody tr th {\n",
       "        vertical-align: top;\n",
       "    }\n",
       "\n",
       "    .dataframe thead th {\n",
       "        text-align: right;\n",
       "    }\n",
       "</style>\n",
       "<table border=\"1\" class=\"dataframe\">\n",
       "  <thead>\n",
       "    <tr style=\"text-align: right;\">\n",
       "      <th></th>\n",
       "      <th>artist_name</th>\n",
       "      <th>track_name</th>\n",
       "      <th>track_id</th>\n",
       "      <th>popularity</th>\n",
       "      <th>acousticness</th>\n",
       "      <th>danceability</th>\n",
       "      <th>duration_ms</th>\n",
       "      <th>energy</th>\n",
       "      <th>instrumentalness</th>\n",
       "      <th>key</th>\n",
       "      <th>liveness</th>\n",
       "      <th>loudness</th>\n",
       "      <th>mode</th>\n",
       "      <th>speechiness</th>\n",
       "      <th>tempo</th>\n",
       "      <th>time_signature</th>\n",
       "      <th>valence</th>\n",
       "    </tr>\n",
       "  </thead>\n",
       "  <tbody>\n",
       "  </tbody>\n",
       "</table>\n",
       "</div>"
      ],
      "text/plain": [
       "Empty DataFrame\n",
       "Columns: [artist_name, track_name, track_id, popularity, acousticness, danceability, duration_ms, energy, instrumentalness, key, liveness, loudness, mode, speechiness, tempo, time_signature, valence]\n",
       "Index: []"
      ]
     },
     "execution_count": 18,
     "metadata": {},
     "output_type": "execute_result"
    }
   ],
   "source": [
    "df[df.duplicated(subset=['artist_name','track_name'],keep=False)]"
   ]
  },
  {
   "cell_type": "code",
   "execution_count": null,
   "metadata": {},
   "outputs": [],
   "source": [
    "df.to_csv('SpotifyAudioFeatures08082018.csv')"
   ]
  }
 ],
 "metadata": {
  "kernelspec": {
   "display_name": "Python 3",
   "language": "python",
   "name": "python3"
  },
  "language_info": {
   "codemirror_mode": {
    "name": "ipython",
    "version": 3
   },
   "file_extension": ".py",
   "mimetype": "text/x-python",
   "name": "python",
   "nbconvert_exporter": "python",
   "pygments_lexer": "ipython3",
   "version": "3.6.7"
  }
 },
 "nbformat": 4,
 "nbformat_minor": 2
}
