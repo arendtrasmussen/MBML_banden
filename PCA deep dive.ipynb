{
 "cells": [
  {
   "cell_type": "markdown",
   "metadata": {},
   "source": [
    "# PCA-testing\n",
    "\n",
    "### Testing which variables explain the variance the most for an other variable - popularity is excluded."
   ]
  },
  {
   "cell_type": "code",
   "execution_count": 1,
   "metadata": {},
   "outputs": [],
   "source": [
    "#import pystan\n",
    "#import pystan_utils\n",
    "import pandas as pd\n",
    "from pandas import *\n",
    "from pylab import *\n",
    "import numpy as np\n",
    "import seaborn as sns\n",
    "from pandas.plotting import scatter_matrix\n",
    "import matplotlib.pyplot as plt\n",
    "from matplotlib import interactive\n",
    "%matplotlib inline\n",
    "import spotipy\n",
    "import random\n",
    "import math\n"
   ]
  },
  {
   "cell_type": "markdown",
   "metadata": {},
   "source": [
    "#### Loading the data from 2017, 2018 and 2019"
   ]
  },
  {
   "cell_type": "code",
   "execution_count": 2,
   "metadata": {},
   "outputs": [
    {
     "data": {
      "text/html": [
       "<div>\n",
       "<style scoped>\n",
       "    .dataframe tbody tr th:only-of-type {\n",
       "        vertical-align: middle;\n",
       "    }\n",
       "\n",
       "    .dataframe tbody tr th {\n",
       "        vertical-align: top;\n",
       "    }\n",
       "\n",
       "    .dataframe thead th {\n",
       "        text-align: right;\n",
       "    }\n",
       "</style>\n",
       "<table border=\"1\" class=\"dataframe\">\n",
       "  <thead>\n",
       "    <tr style=\"text-align: right;\">\n",
       "      <th></th>\n",
       "      <th>Unnamed: 0</th>\n",
       "      <th>artist_name</th>\n",
       "      <th>track_name</th>\n",
       "      <th>track_id</th>\n",
       "      <th>popularity</th>\n",
       "      <th>acousticness</th>\n",
       "      <th>danceability</th>\n",
       "      <th>duration_ms</th>\n",
       "      <th>energy</th>\n",
       "      <th>instrumentalness</th>\n",
       "      <th>key</th>\n",
       "      <th>liveness</th>\n",
       "      <th>loudness</th>\n",
       "      <th>mode</th>\n",
       "      <th>speechiness</th>\n",
       "      <th>tempo</th>\n",
       "      <th>time_signature</th>\n",
       "      <th>valence</th>\n",
       "    </tr>\n",
       "  </thead>\n",
       "  <tbody>\n",
       "    <tr>\n",
       "      <th>0</th>\n",
       "      <td>0</td>\n",
       "      <td>Loud Luxury</td>\n",
       "      <td>Body (feat. brando)</td>\n",
       "      <td>7K7MUBCnzgBAvMVW2RTWNs</td>\n",
       "      <td>69</td>\n",
       "      <td>0.0476</td>\n",
       "      <td>0.752</td>\n",
       "      <td>163216</td>\n",
       "      <td>0.764</td>\n",
       "      <td>0.000094</td>\n",
       "      <td>1</td>\n",
       "      <td>0.0543</td>\n",
       "      <td>-4.399</td>\n",
       "      <td>1</td>\n",
       "      <td>0.0380</td>\n",
       "      <td>121.958</td>\n",
       "      <td>4</td>\n",
       "      <td>0.582</td>\n",
       "    </tr>\n",
       "    <tr>\n",
       "      <th>1</th>\n",
       "      <td>1</td>\n",
       "      <td>XXXTENTACION</td>\n",
       "      <td>Jocelyn Flores</td>\n",
       "      <td>7m9OqQk4RVRkw9JJdeAw96</td>\n",
       "      <td>89</td>\n",
       "      <td>0.4690</td>\n",
       "      <td>0.872</td>\n",
       "      <td>119133</td>\n",
       "      <td>0.391</td>\n",
       "      <td>0.000004</td>\n",
       "      <td>0</td>\n",
       "      <td>0.2970</td>\n",
       "      <td>-9.144</td>\n",
       "      <td>0</td>\n",
       "      <td>0.2420</td>\n",
       "      <td>134.021</td>\n",
       "      <td>4</td>\n",
       "      <td>0.437</td>\n",
       "    </tr>\n",
       "    <tr>\n",
       "      <th>2</th>\n",
       "      <td>2</td>\n",
       "      <td>Billie Eilish</td>\n",
       "      <td>idontwannabeyouanymore</td>\n",
       "      <td>41zXlQxzTi6cGAjpOXyLYH</td>\n",
       "      <td>89</td>\n",
       "      <td>0.7370</td>\n",
       "      <td>0.483</td>\n",
       "      <td>203569</td>\n",
       "      <td>0.412</td>\n",
       "      <td>0.000000</td>\n",
       "      <td>7</td>\n",
       "      <td>0.1160</td>\n",
       "      <td>-8.461</td>\n",
       "      <td>1</td>\n",
       "      <td>0.0402</td>\n",
       "      <td>170.163</td>\n",
       "      <td>3</td>\n",
       "      <td>0.247</td>\n",
       "    </tr>\n",
       "    <tr>\n",
       "      <th>3</th>\n",
       "      <td>3</td>\n",
       "      <td>Ed Sheeran</td>\n",
       "      <td>Perfect</td>\n",
       "      <td>0tgVpDi06FyKpA1z0VMD4v</td>\n",
       "      <td>89</td>\n",
       "      <td>0.1630</td>\n",
       "      <td>0.599</td>\n",
       "      <td>263400</td>\n",
       "      <td>0.448</td>\n",
       "      <td>0.000000</td>\n",
       "      <td>8</td>\n",
       "      <td>0.1060</td>\n",
       "      <td>-6.312</td>\n",
       "      <td>1</td>\n",
       "      <td>0.0232</td>\n",
       "      <td>95.050</td>\n",
       "      <td>3</td>\n",
       "      <td>0.168</td>\n",
       "    </tr>\n",
       "    <tr>\n",
       "      <th>4</th>\n",
       "      <td>4</td>\n",
       "      <td>Ed Sheeran</td>\n",
       "      <td>Happier</td>\n",
       "      <td>2RttW7RAu5nOAfq6YFvApB</td>\n",
       "      <td>86</td>\n",
       "      <td>0.5360</td>\n",
       "      <td>0.522</td>\n",
       "      <td>207520</td>\n",
       "      <td>0.385</td>\n",
       "      <td>0.000000</td>\n",
       "      <td>0</td>\n",
       "      <td>0.1350</td>\n",
       "      <td>-7.355</td>\n",
       "      <td>1</td>\n",
       "      <td>0.0288</td>\n",
       "      <td>89.792</td>\n",
       "      <td>4</td>\n",
       "      <td>0.236</td>\n",
       "    </tr>\n",
       "  </tbody>\n",
       "</table>\n",
       "</div>"
      ],
      "text/plain": [
       "   Unnamed: 0    artist_name              track_name                track_id  \\\n",
       "0           0    Loud Luxury     Body (feat. brando)  7K7MUBCnzgBAvMVW2RTWNs   \n",
       "1           1   XXXTENTACION          Jocelyn Flores  7m9OqQk4RVRkw9JJdeAw96   \n",
       "2           2  Billie Eilish  idontwannabeyouanymore  41zXlQxzTi6cGAjpOXyLYH   \n",
       "3           3     Ed Sheeran                 Perfect  0tgVpDi06FyKpA1z0VMD4v   \n",
       "4           4     Ed Sheeran                 Happier  2RttW7RAu5nOAfq6YFvApB   \n",
       "\n",
       "   popularity  acousticness  danceability  duration_ms  energy  \\\n",
       "0          69        0.0476         0.752       163216   0.764   \n",
       "1          89        0.4690         0.872       119133   0.391   \n",
       "2          89        0.7370         0.483       203569   0.412   \n",
       "3          89        0.1630         0.599       263400   0.448   \n",
       "4          86        0.5360         0.522       207520   0.385   \n",
       "\n",
       "   instrumentalness  key  liveness  loudness  mode  speechiness    tempo  \\\n",
       "0          0.000094    1    0.0543    -4.399     1       0.0380  121.958   \n",
       "1          0.000004    0    0.2970    -9.144     0       0.2420  134.021   \n",
       "2          0.000000    7    0.1160    -8.461     1       0.0402  170.163   \n",
       "3          0.000000    8    0.1060    -6.312     1       0.0232   95.050   \n",
       "4          0.000000    0    0.1350    -7.355     1       0.0288   89.792   \n",
       "\n",
       "   time_signature  valence  \n",
       "0               4    0.582  \n",
       "1               4    0.437  \n",
       "2               3    0.247  \n",
       "3               3    0.168  \n",
       "4               4    0.236  "
      ]
     },
     "execution_count": 2,
     "metadata": {},
     "output_type": "execute_result"
    }
   ],
   "source": [
    "data1 = pd.read_csv(\"SpotifyAudioFeatures2017.csv\")\n",
    "data2 = pd.read_csv(\"SpotifyAudioFeatures2018.csv\")\n",
    "data3 = pd.read_csv(\"SpotifyAudioFeatures2019.csv\")\n",
    "\n",
    "df_tracks = pd.concat([data1, data2,data3])\n",
    "df_tracks.head()"
   ]
  },
  {
   "cell_type": "markdown",
   "metadata": {},
   "source": [
    "#### Remove duplicates of tracks in the dataset"
   ]
  },
  {
   "cell_type": "code",
   "execution_count": 3,
   "metadata": {},
   "outputs": [
    {
     "name": "stdout",
     "output_type": "stream",
     "text": [
      "Dimensions of the dataset:  (6247, 18)\n"
     ]
    }
   ],
   "source": [
    "# Group the entries by artist_name and track_name and check for duplicates\n",
    "grouped = df_tracks.groupby(['artist_name','track_name'], as_index=True).size()\n",
    "grouped[grouped > 1].count()\n",
    "df_tracks.drop_duplicates(subset=['artist_name','track_name'], inplace=True)\n",
    "\n",
    "# doing the same grouping as before to verify the solution\n",
    "grouped_after_dropping = df_tracks.groupby(['artist_name','track_name'], as_index=True).size()\n",
    "grouped_after_dropping[grouped_after_dropping > 1].count()\n",
    "\n",
    "\n",
    "df_tracks[df_tracks.duplicated(subset=['artist_name','track_name'],keep=False)].count()\n",
    "data = df_tracks\n",
    "print(\"Dimensions of the dataset: \", df_tracks.shape)"
   ]
  },
  {
   "cell_type": "markdown",
   "metadata": {},
   "source": [
    "### PCA\n"
   ]
  },
  {
   "cell_type": "markdown",
   "metadata": {},
   "source": [
    "#### 1.test: Acousticness vs. danceability, energy, instrumentalness, key, liveness, loudness, mode, speechiness, tempo, valence"
   ]
  },
  {
   "cell_type": "code",
   "execution_count": 4,
   "metadata": {},
   "outputs": [],
   "source": [
    "#Standardization\n",
    "\n",
    "from sklearn.preprocessing import StandardScaler\n",
    "features = ['danceability', 'energy',\n",
    "       'instrumentalness', 'key', 'liveness', 'loudness', 'mode',\n",
    "       'speechiness', 'tempo', 'valence']\n",
    "# Separating out the features\n",
    "x = data.loc[:, features].values\n",
    "# Separating out the target\n",
    "y = data.loc[:,['acousticness']].values\n",
    "# Standardizing the features\n",
    "x = StandardScaler().fit_transform(x)\n"
   ]
  },
  {
   "cell_type": "code",
   "execution_count": 5,
   "metadata": {},
   "outputs": [],
   "source": [
    "#Projection\n",
    "\n",
    "from sklearn.decomposition import PCA\n",
    "pca = PCA(n_components=len(features))\n",
    "principalComponents = pca.fit_transform(x)"
   ]
  },
  {
   "cell_type": "code",
   "execution_count": 6,
   "metadata": {},
   "outputs": [
    {
     "data": {
      "text/plain": [
       "array([0.28292978, 0.1163255 , 0.11574364, 0.10289634, 0.09666445,\n",
       "       0.08438716, 0.07362543, 0.05768775, 0.05097323, 0.01876672])"
      ]
     },
     "execution_count": 6,
     "metadata": {},
     "output_type": "execute_result"
    }
   ],
   "source": [
    "pca.explained_variance_ratio_"
   ]
  },
  {
   "cell_type": "code",
   "execution_count": 7,
   "metadata": {},
   "outputs": [
    {
     "data": {
      "image/png": "[encoded data removed]",
      "text/plain": [
       "<Figure size 432x288 with 1 Axes>"
      ]
     },
     "metadata": {
      "needs_background": "light"
     },
     "output_type": "display_data"
    }
   ],
   "source": [
    "height = principalComponents[0]\n",
    "bars = features\n",
    "y_pos = np.arange(len(bars))\n",
    " \n",
    "# Create bars\n",
    "p1 = plt.bar(y_pos, height)\n",
    " \n",
    "# Create names on the x-axis\n",
    "plt.xticks(y_pos, bars, rotation = 90)\n",
    "plt.title(\"PC1 and the magnitude of the respective features for acousticness\")\n",
    "\n",
    "# Activivates a function which in the end will display all plots\n",
    "interactive(True)\n",
    "\n",
    "# Show graphic\n",
    "plt.show()"
   ]
  },
  {
   "cell_type": "code",
   "execution_count": null,
   "metadata": {},
   "outputs": [],
   "source": [
    "cnt = 0\n",
    "for i in features: \n",
    "    plt.figure()\n",
    "    cnt = cnt + 1\n",
    "    #plt.subplot(6,2,cnt)\n",
    "    plt.scatter(data[i],popdata)\n",
    "    plt.xlabel(i)\n",
    "    plt.ylabel('popularity')"
   ]
  },
  {
   "cell_type": "markdown",
   "metadata": {},
   "source": [
    "#### 2.test: danceability vs. Acousticness, energy, instrumentalness, key, liveness, loudness, mode, speechiness, tempo, valence"
   ]
  },
  {
   "cell_type": "code",
   "execution_count": 8,
   "metadata": {},
   "outputs": [],
   "source": [
    "#Standardization\n",
    "\n",
    "from sklearn.preprocessing import StandardScaler\n",
    "features = ['acousticness', 'energy',\n",
    "       'instrumentalness', 'key', 'liveness', 'loudness', 'mode',\n",
    "       'speechiness', 'tempo', 'valence']\n",
    "# Separating out the features\n",
    "x = data.loc[:, features].values\n",
    "# Separating out the target\n",
    "y = data.loc[:,['danceability']].values\n",
    "# Standardizing the features\n",
    "x = StandardScaler().fit_transform(x)\n"
   ]
  },
  {
   "cell_type": "code",
   "execution_count": 9,
   "metadata": {},
   "outputs": [],
   "source": [
    "#Projection\n",
    "\n",
    "from sklearn.decomposition import PCA\n",
    "pca = PCA(n_components=len(features))\n",
    "principalComponents = pca.fit_transform(x)"
   ]
  },
  {
   "cell_type": "code",
   "execution_count": 10,
   "metadata": {},
   "outputs": [
    {
     "data": {
      "text/plain": [
       "array([0.29598673, 0.11605212, 0.11184262, 0.10276627, 0.09485211,\n",
       "       0.08484935, 0.07306319, 0.0712418 , 0.03072718, 0.01861864])"
      ]
     },
     "execution_count": 10,
     "metadata": {},
     "output_type": "execute_result"
    }
   ],
   "source": [
    "pca.explained_variance_ratio_"
   ]
  },
  {
   "cell_type": "code",
   "execution_count": 11,
   "metadata": {},
   "outputs": [
    {
     "data": {
      "text/plain": [
       "Text(0.5, 1.0, 'PC1 and the magnitude of the respective features for danceability')"
      ]
     },
     "execution_count": 11,
     "metadata": {},
     "output_type": "execute_result"
    },
    {
     "data": {
      "image/png": "[encoded data removed]",
      "text/plain": [
       "<Figure size 432x288 with 1 Axes>"
      ]
     },
     "metadata": {
      "needs_background": "light"
     },
     "output_type": "display_data"
    }
   ],
   "source": [
    "height = principalComponents[0]\n",
    "bars = features\n",
    "y_pos = np.arange(len(bars))\n",
    " \n",
    "# Create bars\n",
    "p2=plt.bar(y_pos, height)\n",
    " \n",
    "# Create names on the x-axis\n",
    "plt.xticks(y_pos, bars, rotation = 90)\n",
    "plt.title(\"PC1 and the magnitude of the respective features for danceability\")\n",
    "# Show graphic\n",
    "plt.show()"
   ]
  },
  {
   "cell_type": "markdown",
   "metadata": {},
   "source": [
    "#### 3.test: energy vs. danceability, acousticness, instrumentalness, key, liveness, loudness, mode, speechiness, tempo, valence"
   ]
  },
  {
   "cell_type": "code",
   "execution_count": 12,
   "metadata": {},
   "outputs": [],
   "source": [
    "#Standardization\n",
    "\n",
    "from sklearn.preprocessing import StandardScaler\n",
    "features = ['acousticness','danceability' ,\n",
    "       'instrumentalness', 'key', 'liveness', 'loudness', 'mode',\n",
    "       'speechiness', 'tempo', 'valence']\n",
    "# Separating out the features\n",
    "x = data.loc[:, features].values\n",
    "# Separating out the target\n",
    "y = data.loc[:,['energy']].values\n",
    "# Standardizing the features\n",
    "x = StandardScaler().fit_transform(x)\n"
   ]
  },
  {
   "cell_type": "code",
   "execution_count": 13,
   "metadata": {},
   "outputs": [],
   "source": [
    "#Projection\n",
    "\n",
    "from sklearn.decomposition import PCA\n",
    "pca = PCA(n_components=len(features))\n",
    "principalComponents = pca.fit_transform(x)"
   ]
  },
  {
   "cell_type": "code",
   "execution_count": 14,
   "metadata": {},
   "outputs": [
    {
     "data": {
      "text/plain": [
       "array([0.27501822, 0.1160913 , 0.11372728, 0.09944336, 0.09650701,\n",
       "       0.0853231 , 0.07237204, 0.06651228, 0.04821985, 0.02678557])"
      ]
     },
     "execution_count": 14,
     "metadata": {},
     "output_type": "execute_result"
    }
   ],
   "source": [
    "pca.explained_variance_ratio_"
   ]
  },
  {
   "cell_type": "code",
   "execution_count": 15,
   "metadata": {},
   "outputs": [
    {
     "data": {
      "text/plain": [
       "Text(0.5, 1.0, 'PC1 and the magnitude of the respective features for energy')"
      ]
     },
     "execution_count": 15,
     "metadata": {},
     "output_type": "execute_result"
    },
    {
     "data": {
      "image/png": "[encoded data removed]",
      "text/plain": [
       "<Figure size 432x288 with 1 Axes>"
      ]
     },
     "metadata": {
      "needs_background": "light"
     },
     "output_type": "display_data"
    }
   ],
   "source": [
    "height = principalComponents[0]\n",
    "bars = features\n",
    "y_pos = np.arange(len(bars))\n",
    " \n",
    "# Create bars\n",
    "p3 = plt.bar(y_pos, height)\n",
    " \n",
    "# Create names on the x-axis\n",
    "plt.xticks(y_pos, bars, rotation = 90)\n",
    "plt.title(\"PC1 and the magnitude of the respective features for energy\")\n",
    "# Show graphic\n",
    "plt.show()"
   ]
  },
  {
   "cell_type": "markdown",
   "metadata": {},
   "source": [
    "#### 4.test:  instrumentalness vs. energy, danceability, acousticness, key, liveness, loudness, mode, speechiness, tempo, valence"
   ]
  },
  {
   "cell_type": "code",
   "execution_count": 16,
   "metadata": {},
   "outputs": [],
   "source": [
    "#Standardization\n",
    "\n",
    "from sklearn.preprocessing import StandardScaler\n",
    "features = ['acousticness','danceability' ,'energy', \n",
    "            'key', 'liveness', 'loudness', 'mode',\n",
    "       'speechiness', 'tempo', 'valence']\n",
    "# Separating out the features\n",
    "x = data.loc[:, features].values\n",
    "# Separating out the target\n",
    "y = data.loc[:,['instrumentalness']].values\n",
    "# Standardizing the features\n",
    "x = StandardScaler().fit_transform(x)\n"
   ]
  },
  {
   "cell_type": "code",
   "execution_count": 17,
   "metadata": {},
   "outputs": [],
   "source": [
    "#Projection\n",
    "\n",
    "from sklearn.decomposition import PCA\n",
    "pca = PCA(n_components=len(features))\n",
    "principalComponents = pca.fit_transform(x)"
   ]
  },
  {
   "cell_type": "code",
   "execution_count": 18,
   "metadata": {},
   "outputs": [
    {
     "data": {
      "text/plain": [
       "array([0.2936539 , 0.12275846, 0.11487005, 0.1043889 , 0.09661125,\n",
       "       0.08449857, 0.07131918, 0.05292696, 0.03836887, 0.02060387])"
      ]
     },
     "execution_count": 18,
     "metadata": {},
     "output_type": "execute_result"
    }
   ],
   "source": [
    "pca.explained_variance_ratio_"
   ]
  },
  {
   "cell_type": "code",
   "execution_count": 19,
   "metadata": {},
   "outputs": [
    {
     "data": {
      "text/plain": [
       "Text(0.5, 1.0, 'PC1 and the magnitude of the respective features for instrumentalness')"
      ]
     },
     "execution_count": 19,
     "metadata": {},
     "output_type": "execute_result"
    },
    {
     "data": {
      "image/png": "[encoded data removed]",
      "text/plain": [
       "<Figure size 432x288 with 1 Axes>"
      ]
     },
     "metadata": {
      "needs_background": "light"
     },
     "output_type": "display_data"
    }
   ],
   "source": [
    "height = principalComponents[0]\n",
    "bars = features\n",
    "y_pos = np.arange(len(bars))\n",
    " \n",
    "# Create bars\n",
    "p4 = plt.bar(y_pos, height)\n",
    " \n",
    "# Create names on the x-axis\n",
    "plt.xticks(y_pos, bars, rotation = 90)\n",
    "plt.title(\"PC1 and the magnitude of the respective features for instrumentalness\")\n",
    "# Show graphic\n",
    "plt.show()"
   ]
  },
  {
   "cell_type": "markdown",
   "metadata": {},
   "source": [
    "#### 5. test: key vs.  instrumentalness, energy, danceability, acousticness, liveness, loudness, mode, speechiness, tempo, valence"
   ]
  },
  {
   "cell_type": "code",
   "execution_count": 20,
   "metadata": {},
   "outputs": [],
   "source": [
    "#Standardization\n",
    "\n",
    "from sklearn.preprocessing import StandardScaler\n",
    "features = ['instrumentalness','acousticness','danceability' ,'energy' \n",
    "            , 'liveness', 'loudness', 'mode',\n",
    "       'speechiness', 'tempo', 'valence']\n",
    "# Separating out the features\n",
    "x = data.loc[:, features].values\n",
    "# Separating out the target\n",
    "y = data.loc[:,['key']].values\n",
    "# Standardizing the features\n",
    "x = StandardScaler().fit_transform(x)\n"
   ]
  },
  {
   "cell_type": "code",
   "execution_count": 21,
   "metadata": {},
   "outputs": [],
   "source": [
    "#Projection\n",
    "\n",
    "from sklearn.decomposition import PCA\n",
    "pca = PCA(n_components=len(features))\n",
    "principalComponents = pca.fit_transform(x)"
   ]
  },
  {
   "cell_type": "code",
   "execution_count": 22,
   "metadata": {},
   "outputs": [
    {
     "data": {
      "text/plain": [
       "array([0.32732685, 0.12519798, 0.10520361, 0.10122022, 0.09534107,\n",
       "       0.07421234, 0.07209438, 0.05186785, 0.03055968, 0.01697602])"
      ]
     },
     "execution_count": 22,
     "metadata": {},
     "output_type": "execute_result"
    }
   ],
   "source": [
    "pca.explained_variance_ratio_"
   ]
  },
  {
   "cell_type": "code",
   "execution_count": 23,
   "metadata": {},
   "outputs": [
    {
     "data": {
      "text/plain": [
       "Text(0.5, 1.0, 'PC1 and the magnitude of the respective features for key')"
      ]
     },
     "execution_count": 23,
     "metadata": {},
     "output_type": "execute_result"
    },
    {
     "data": {
      "image/png": "[encoded data removed]",
      "text/plain": [
       "<Figure size 432x288 with 1 Axes>"
      ]
     },
     "metadata": {
      "needs_background": "light"
     },
     "output_type": "display_data"
    }
   ],
   "source": [
    "height = principalComponents[0]\n",
    "bars = features\n",
    "y_pos = np.arange(len(bars))\n",
    " \n",
    "# Create bars\n",
    "p5 = plt.bar(y_pos, height)\n",
    " \n",
    "# Create names on the x-axis\n",
    "plt.xticks(y_pos, bars, rotation = 90)\n",
    "plt.title(\"PC1 and the magnitude of the respective features for key\")\n",
    "# Show graphic\n",
    "plt.show()"
   ]
  },
  {
   "cell_type": "markdown",
   "metadata": {},
   "source": [
    "#### 6. test: liveness vs. instrumentalness, energy, danceability, acousticness, key, loudness, mode, speechiness, tempo, valence"
   ]
  },
  {
   "cell_type": "code",
   "execution_count": 24,
   "metadata": {},
   "outputs": [],
   "source": [
    "#Standardization\n",
    "\n",
    "from sklearn.preprocessing import StandardScaler\n",
    "features = ['instrumentalness','acousticness','danceability' ,'energy' \n",
    "            ,'key' , 'loudness', 'mode',\n",
    "       'speechiness', 'tempo', 'valence']\n",
    "# Separating out the features\n",
    "x = data.loc[:, features].values\n",
    "# Separating out the target\n",
    "y = data.loc[:,['liveness']].values\n",
    "# Standardizing the features\n",
    "x = StandardScaler().fit_transform(x)\n"
   ]
  },
  {
   "cell_type": "code",
   "execution_count": 25,
   "metadata": {},
   "outputs": [],
   "source": [
    "#Projection\n",
    "\n",
    "from sklearn.decomposition import PCA\n",
    "pca = PCA(n_components=len(features))\n",
    "principalComponents = pca.fit_transform(x)"
   ]
  },
  {
   "cell_type": "code",
   "execution_count": 26,
   "metadata": {},
   "outputs": [
    {
     "data": {
      "text/plain": [
       "array([0.32740216, 0.11645097, 0.11069691, 0.10170316, 0.08820819,\n",
       "       0.07848815, 0.07368377, 0.05564087, 0.03054813, 0.0171777 ])"
      ]
     },
     "execution_count": 26,
     "metadata": {},
     "output_type": "execute_result"
    }
   ],
   "source": [
    "pca.explained_variance_ratio_"
   ]
  },
  {
   "cell_type": "code",
   "execution_count": 27,
   "metadata": {},
   "outputs": [
    {
     "data": {
      "text/plain": [
       "Text(0.5, 1.0, 'PC1 and the magnitude of the respective features for liveness')"
      ]
     },
     "execution_count": 27,
     "metadata": {},
     "output_type": "execute_result"
    },
    {
     "data": {
      "image/png": "[encoded data removed]",
      "text/plain": [
       "<Figure size 432x288 with 1 Axes>"
      ]
     },
     "metadata": {
      "needs_background": "light"
     },
     "output_type": "display_data"
    }
   ],
   "source": [
    "height = principalComponents[0]\n",
    "bars = features\n",
    "y_pos = np.arange(len(bars))\n",
    " \n",
    "# Create bars\n",
    "p6 = plt.bar(y_pos, height)\n",
    " \n",
    "# Create names on the x-axis\n",
    "plt.xticks(y_pos, bars, rotation = 90)\n",
    "plt.title(\"PC1 and the magnitude of the respective features for liveness\")\n",
    "# Show graphic\n",
    "plt.show()"
   ]
  },
  {
   "cell_type": "markdown",
   "metadata": {},
   "source": [
    "#### 7. test: loudness vs. instrumentalness, energy, danceability, acousticness, key, liveness, mode, speechiness, tempo, valence"
   ]
  },
  {
   "cell_type": "code",
   "execution_count": 28,
   "metadata": {},
   "outputs": [],
   "source": [
    "#Standardization\n",
    "\n",
    "from sklearn.preprocessing import StandardScaler\n",
    "features = ['instrumentalness','acousticness','danceability' ,'energy' \n",
    "            ,'key' ,'liveness' , 'mode',\n",
    "       'speechiness', 'tempo', 'valence']\n",
    "# Separating out the features\n",
    "x = data.loc[:, features].values\n",
    "# Separating out the target\n",
    "y = data.loc[:,['loudness']].values\n",
    "# Standardizing the features\n",
    "x = StandardScaler().fit_transform(x)\n"
   ]
  },
  {
   "cell_type": "code",
   "execution_count": 29,
   "metadata": {},
   "outputs": [],
   "source": [
    "#Projection\n",
    "\n",
    "from sklearn.decomposition import PCA\n",
    "pca = PCA(n_components=len(features))\n",
    "principalComponents = pca.fit_transform(x)"
   ]
  },
  {
   "cell_type": "code",
   "execution_count": 30,
   "metadata": {},
   "outputs": [
    {
     "data": {
      "text/plain": [
       "array([0.26075162, 0.12531344, 0.11511132, 0.10014916, 0.09621466,\n",
       "       0.08507371, 0.07124496, 0.06988352, 0.05166624, 0.02459138])"
      ]
     },
     "execution_count": 30,
     "metadata": {},
     "output_type": "execute_result"
    }
   ],
   "source": [
    "pca.explained_variance_ratio_"
   ]
  },
  {
   "cell_type": "code",
   "execution_count": 31,
   "metadata": {},
   "outputs": [
    {
     "data": {
      "text/plain": [
       "Text(0.5, 1.0, 'PC1 and the magnitude of the respective features for loudness')"
      ]
     },
     "execution_count": 31,
     "metadata": {},
     "output_type": "execute_result"
    },
    {
     "data": {
      "image/png": "[encoded data removed]",
      "text/plain": [
       "<Figure size 432x288 with 1 Axes>"
      ]
     },
     "metadata": {
      "needs_background": "light"
     },
     "output_type": "display_data"
    }
   ],
   "source": [
    "height = principalComponents[0]\n",
    "bars = features\n",
    "y_pos = np.arange(len(bars))\n",
    " \n",
    "# Create bars\n",
    "p7 = plt.bar(y_pos, height)\n",
    " \n",
    "# Create names on the x-axis\n",
    "plt.xticks(y_pos, bars, rotation = 90)\n",
    "plt.title(\"PC1 and the magnitude of the respective features for loudness\")\n",
    "# Show graphic\n",
    "plt.show()"
   ]
  },
  {
   "cell_type": "markdown",
   "metadata": {},
   "source": [
    "#### 8. test: mode vs. instrumentalness, energy, danceability, acousticness, key, liveness, loudness, speechiness, tempo, valence"
   ]
  },
  {
   "cell_type": "code",
   "execution_count": 32,
   "metadata": {},
   "outputs": [],
   "source": [
    "#Standardization\n",
    "\n",
    "from sklearn.preprocessing import StandardScaler\n",
    "features = ['instrumentalness','acousticness','danceability' ,'energy' \n",
    "            ,'key' ,'liveness' , 'loudness',\n",
    "       'speechiness', 'tempo', 'valence']\n",
    "# Separating out the features\n",
    "x = data.loc[:, features].values\n",
    "# Separating out the target\n",
    "y = data.loc[:,['mode']].values\n",
    "# Standardizing the features\n",
    "x = StandardScaler().fit_transform(x)\n"
   ]
  },
  {
   "cell_type": "code",
   "execution_count": 33,
   "metadata": {},
   "outputs": [],
   "source": [
    "#Projection\n",
    "\n",
    "from sklearn.decomposition import PCA\n",
    "pca = PCA(n_components=len(features))\n",
    "principalComponents = pca.fit_transform(x)"
   ]
  },
  {
   "cell_type": "code",
   "execution_count": 34,
   "metadata": {},
   "outputs": [
    {
     "data": {
      "text/plain": [
       "array([0.32598874, 0.12531528, 0.10501661, 0.10006762, 0.09658499,\n",
       "       0.07554443, 0.07215673, 0.05177718, 0.03055194, 0.01699649])"
      ]
     },
     "execution_count": 34,
     "metadata": {},
     "output_type": "execute_result"
    }
   ],
   "source": [
    "pca.explained_variance_ratio_"
   ]
  },
  {
   "cell_type": "code",
   "execution_count": 35,
   "metadata": {},
   "outputs": [
    {
     "data": {
      "text/plain": [
       "Text(0.5, 1.0, 'PC1 and the magnitude of the respective features for mode')"
      ]
     },
     "execution_count": 35,
     "metadata": {},
     "output_type": "execute_result"
    },
    {
     "data": {
      "image/png": "[encoded data removed]",
      "text/plain": [
       "<Figure size 432x288 with 1 Axes>"
      ]
     },
     "metadata": {
      "needs_background": "light"
     },
     "output_type": "display_data"
    }
   ],
   "source": [
    "height = principalComponents[0]\n",
    "bars = features\n",
    "y_pos = np.arange(len(bars))\n",
    " \n",
    "# Create bars\n",
    "p8 = plt.bar(y_pos, height)\n",
    " \n",
    "# Create names on the x-axis\n",
    "plt.xticks(y_pos, bars, rotation = 90)\n",
    "plt.title(\"PC1 and the magnitude of the respective features for mode\")\n",
    "# Show graphic\n",
    "plt.show()"
   ]
  },
  {
   "cell_type": "markdown",
   "metadata": {},
   "source": [
    "#### 9. test: speechiness vs. instrumentalness, energy, danceability, acousticness, key, liveness, loudness, mode, tempo, valence"
   ]
  },
  {
   "cell_type": "code",
   "execution_count": 36,
   "metadata": {},
   "outputs": [],
   "source": [
    "#Standardization\n",
    "\n",
    "from sklearn.preprocessing import StandardScaler\n",
    "features = ['instrumentalness','acousticness','danceability' ,'energy' \n",
    "            ,'key' ,'liveness' , 'loudness',\n",
    "       'mode', 'tempo', 'valence']\n",
    "# Separating out the features\n",
    "x = data.loc[:, features].values\n",
    "# Separating out the target\n",
    "y = data.loc[:,['speechiness']].values\n",
    "# Standardizing the features\n",
    "x = StandardScaler().fit_transform(x)\n"
   ]
  },
  {
   "cell_type": "code",
   "execution_count": 37,
   "metadata": {},
   "outputs": [],
   "source": [
    "#Projection\n",
    "\n",
    "from sklearn.decomposition import PCA\n",
    "pca = PCA(n_components=len(features))\n",
    "principalComponents = pca.fit_transform(x)"
   ]
  },
  {
   "cell_type": "code",
   "execution_count": 38,
   "metadata": {},
   "outputs": [
    {
     "data": {
      "text/plain": [
       "array([0.32310904, 0.12520097, 0.11574187, 0.09670642, 0.08581415,\n",
       "       0.07681877, 0.07379565, 0.05395706, 0.03158691, 0.01726915])"
      ]
     },
     "execution_count": 38,
     "metadata": {},
     "output_type": "execute_result"
    }
   ],
   "source": [
    "pca.explained_variance_ratio_"
   ]
  },
  {
   "cell_type": "code",
   "execution_count": 39,
   "metadata": {},
   "outputs": [
    {
     "data": {
      "text/plain": [
       "Text(0.5, 1.0, 'PC1 and the magnitude of the respective features for speechness')"
      ]
     },
     "execution_count": 39,
     "metadata": {},
     "output_type": "execute_result"
    },
    {
     "data": {
      "image/png": "[encoded data removed]",
      "text/plain": [
       "<Figure size 432x288 with 1 Axes>"
      ]
     },
     "metadata": {
      "needs_background": "light"
     },
     "output_type": "display_data"
    }
   ],
   "source": [
    "height = principalComponents[0]\n",
    "bars = features\n",
    "y_pos = np.arange(len(bars))\n",
    " \n",
    "# Create bars\n",
    "p9 = plt.bar(y_pos, height)\n",
    " \n",
    "# Create names on the x-axis\n",
    "plt.xticks(y_pos, bars, rotation = 90)\n",
    "plt.title(\"PC1 and the magnitude of the respective features for speechness\")\n",
    "# Show graphic\n",
    "plt.show()"
   ]
  },
  {
   "cell_type": "markdown",
   "metadata": {},
   "source": [
    "#### 10. test: tempo vs. instrumentalness, energy, danceability, acousticness, key, liveness, loudness, mode, speechiness, valence"
   ]
  },
  {
   "cell_type": "code",
   "execution_count": 40,
   "metadata": {},
   "outputs": [],
   "source": [
    "#Standardization\n",
    "\n",
    "from sklearn.preprocessing import StandardScaler\n",
    "features = ['instrumentalness','acousticness','danceability' ,'energy' \n",
    "            ,'key' ,'liveness' , 'loudness',\n",
    "       'mode', 'speechiness', 'valence']\n",
    "# Separating out the features\n",
    "x = data.loc[:, features].values\n",
    "# Separating out the target\n",
    "y = data.loc[:,['tempo']].values\n",
    "# Standardizing the features\n",
    "x = StandardScaler().fit_transform(x)\n"
   ]
  },
  {
   "cell_type": "code",
   "execution_count": 41,
   "metadata": {},
   "outputs": [],
   "source": [
    "#Projection\n",
    "\n",
    "from sklearn.decomposition import PCA\n",
    "pca = PCA(n_components=len(features))\n",
    "principalComponents = pca.fit_transform(x)"
   ]
  },
  {
   "cell_type": "code",
   "execution_count": 42,
   "metadata": {},
   "outputs": [
    {
     "data": {
      "text/plain": [
       "array([0.32157535, 0.12438974, 0.11583758, 0.10373098, 0.08561299,\n",
       "       0.07520027, 0.07359983, 0.05219221, 0.03082403, 0.01703701])"
      ]
     },
     "execution_count": 42,
     "metadata": {},
     "output_type": "execute_result"
    }
   ],
   "source": [
    "pca.explained_variance_ratio_"
   ]
  },
  {
   "cell_type": "code",
   "execution_count": 43,
   "metadata": {},
   "outputs": [
    {
     "data": {
      "text/plain": [
       "Text(0.5, 1.0, 'PC1 and the magnitude of the respective features for tempo')"
      ]
     },
     "execution_count": 43,
     "metadata": {},
     "output_type": "execute_result"
    },
    {
     "data": {
      "image/png": "[encoded data removed]",
      "text/plain": [
       "<Figure size 432x288 with 1 Axes>"
      ]
     },
     "metadata": {
      "needs_background": "light"
     },
     "output_type": "display_data"
    }
   ],
   "source": [
    "height = principalComponents[0]\n",
    "bars = features\n",
    "y_pos = np.arange(len(bars))\n",
    " \n",
    "# Create bars\n",
    "p10 = plt.bar(y_pos, height)\n",
    " \n",
    "# Create names on the x-axis\n",
    "plt.xticks(y_pos, bars, rotation = 90)\n",
    "plt.title(\"PC1 and the magnitude of the respective features for tempo\")\n",
    "# Show graphic\n",
    "plt.show()"
   ]
  },
  {
   "cell_type": "markdown",
   "metadata": {},
   "source": [
    "#### 11. test: valence vs. instrumentalness, energy, danceability, acousticness, key, liveness, loudness, mode, speechiness, tempo"
   ]
  },
  {
   "cell_type": "code",
   "execution_count": 44,
   "metadata": {},
   "outputs": [],
   "source": [
    "#Standardization\n",
    "\n",
    "from sklearn.preprocessing import StandardScaler\n",
    "features = ['instrumentalness','acousticness','danceability' ,'energy' \n",
    "            ,'key' ,'liveness' , 'loudness',\n",
    "       'mode', 'speechiness', 'tempo']\n",
    "# Separating out the features\n",
    "x = data.loc[:, features].values\n",
    "# Separating out the target\n",
    "y = data.loc[:,['valence']].values\n",
    "# Standardizing the features\n",
    "x = StandardScaler().fit_transform(x)\n"
   ]
  },
  {
   "cell_type": "code",
   "execution_count": 45,
   "metadata": {},
   "outputs": [],
   "source": [
    "#Projection\n",
    "\n",
    "from sklearn.decomposition import PCA\n",
    "pca = PCA(n_components=len(features))\n",
    "principalComponents = pca.fit_transform(x)"
   ]
  },
  {
   "cell_type": "code",
   "execution_count": 46,
   "metadata": {},
   "outputs": [
    {
     "data": {
      "text/plain": [
       "array([0.30134588, 0.12030634, 0.11588089, 0.10406841, 0.09428194,\n",
       "       0.08530218, 0.07265722, 0.05627641, 0.03214323, 0.01773751])"
      ]
     },
     "execution_count": 46,
     "metadata": {},
     "output_type": "execute_result"
    }
   ],
   "source": [
    "pca.explained_variance_ratio_"
   ]
  },
  {
   "cell_type": "code",
   "execution_count": 52,
   "metadata": {},
   "outputs": [
    {
     "data": {
      "image/png": "[encoded data removed]",
      "text/plain": [
       "<Figure size 432x288 with 1 Axes>"
      ]
     },
     "metadata": {
      "needs_background": "light"
     },
     "output_type": "display_data"
    }
   ],
   "source": [
    "height = principalComponents[0]\n",
    "bars = features\n",
    "y_pos = np.arange(len(bars))\n",
    " \n",
    "# Create bars\n",
    "p11 = plt.bar(y_pos, height)\n",
    " \n",
    "# Create names on the x-axis\n",
    "plt.xticks(y_pos, bars, rotation = 90)\n",
    "plt.title(\"PC1 and the magnitude of the respective features for valence\")\n",
    "\n",
    "# Show graphic\n",
    "plt.show()"
   ]
  },
  {
   "cell_type": "code",
   "execution_count": 57,
   "metadata": {},
   "outputs": [
    {
     "ename": "TypeError",
     "evalue": "bad operand type for unary -: 'str'",
     "output_type": "error",
     "traceback": [
      "\u001b[1;31m---------------------------------------------------------------------------\u001b[0m",
      "\u001b[1;31mTypeError\u001b[0m                                 Traceback (most recent call last)",
      "\u001b[1;32m<ipython-input-57-7f9e193ed7e1>\u001b[0m in \u001b[0;36m<module>\u001b[1;34m\u001b[0m\n\u001b[0;32m      4\u001b[0m        'mode', 'speechiness', 'tempo']\n\u001b[0;32m      5\u001b[0m \u001b[1;31m# Separating out the features\u001b[0m\u001b[1;33m\u001b[0m\u001b[1;33m\u001b[0m\u001b[1;33m\u001b[0m\u001b[0m\n\u001b[1;32m----> 6\u001b[1;33m \u001b[0mx\u001b[0m \u001b[1;33m=\u001b[0m \u001b[0mdata\u001b[0m\u001b[1;33m.\u001b[0m\u001b[0mloc\u001b[0m\u001b[1;33m[\u001b[0m\u001b[1;33m:\u001b[0m\u001b[1;33m,\u001b[0m \u001b[1;33m-\u001b[0m \u001b[0mfeatures\u001b[0m\u001b[1;33m[\u001b[0m\u001b[1;36m1\u001b[0m\u001b[1;33m]\u001b[0m\u001b[1;33m]\u001b[0m\u001b[1;33m.\u001b[0m\u001b[0mvalues\u001b[0m\u001b[1;33m\u001b[0m\u001b[1;33m\u001b[0m\u001b[0m\n\u001b[0m\u001b[0;32m      7\u001b[0m \u001b[1;31m# Separating out the target\u001b[0m\u001b[1;33m\u001b[0m\u001b[1;33m\u001b[0m\u001b[1;33m\u001b[0m\u001b[0m\n\u001b[0;32m      8\u001b[0m \u001b[0my\u001b[0m \u001b[1;33m=\u001b[0m \u001b[0mdata\u001b[0m\u001b[1;33m.\u001b[0m\u001b[0mloc\u001b[0m\u001b[1;33m[\u001b[0m\u001b[1;33m:\u001b[0m\u001b[1;33m,\u001b[0m\u001b[0mfeatures\u001b[0m\u001b[1;33m[\u001b[0m\u001b[1;36m1\u001b[0m\u001b[1;33m]\u001b[0m\u001b[1;33m]\u001b[0m\u001b[1;33m.\u001b[0m\u001b[0mvalues\u001b[0m\u001b[1;33m\u001b[0m\u001b[1;33m\u001b[0m\u001b[0m\n",
      "\u001b[1;31mTypeError\u001b[0m: bad operand type for unary -: 'str'"
     ]
    }
   ],
   "source": [
    "from sklearn.preprocessing import StandardScaler\n",
    "features = ['instrumentalness','acousticness','danceability' ,'energy' \n",
    "            ,'key' ,'liveness' , 'loudness',\n",
    "       'mode', 'speechiness', 'tempo']\n",
    "# Separating out the features\n",
    "x = data.loc[:, features[1]].values\n",
    "# Separating out the target\n",
    "y = data.loc[:,features[1]].values\n"
   ]
  },
  {
   "cell_type": "code",
   "execution_count": null,
   "metadata": {},
   "outputs": [],
   "source": []
  }
 ],
 "metadata": {
  "kernelspec": {
   "display_name": "Python 3",
   "language": "python",
   "name": "python3"
  },
  "language_info": {
   "codemirror_mode": {
    "name": "ipython",
    "version": 3
   },
   "file_extension": ".py",
   "mimetype": "text/x-python",
   "name": "python",
   "nbconvert_exporter": "python",
   "pygments_lexer": "ipython3",
   "version": "3.6.7"
  }
 },
 "nbformat": 4,
 "nbformat_minor": 2
}
