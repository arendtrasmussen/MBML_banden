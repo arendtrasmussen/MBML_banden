{
 "cells": [
  {
   "cell_type": "markdown",
   "metadata": {},
   "source": [
    "# Classification of genre - logistic regression and hierarchical model"
   ]
  },
  {
   "cell_type": "markdown",
   "metadata": {},
   "source": [
    "For the purpose of this project in the course 42186 Model-based machine learning F19 , we have chosen to work with data from Spotify. We have extracted the data ourselves using the Spotipy Python library inspired by the Kaggle data set (https://www.kaggle.com/nadintamer/top-tracks-of-2017/version/1). We have around 6000 observations consisting of random tracks from official playlists from 2017, 2018 and 2019 (four first months), respectively. Each song has a set of audio features, including popularity danceability, energy, tempo, key, etc., and this leads us to our research question:"
   ]
  },
  {
   "cell_type": "markdown",
   "metadata": {},
   "source": [
    "### Research question\n",
    "How can audio features be used to predict the genre of a track?"
   ]
  },
  {
   "cell_type": "markdown",
   "metadata": {},
   "source": [
    "Importing required libraries:"
   ]
  },
  {
   "cell_type": "code",
   "execution_count": 1,
   "metadata": {},
   "outputs": [],
   "source": [
    "import numpy as np\n",
    "import pandas as pd\n",
    "from matplotlib import pyplot as plt\n",
    "from sklearn import linear_model\n",
    "import pystan\n",
    "import pystan_utils\n",
    "from sklearn.utils import shuffle\n",
    "\n",
    "# fix random generator seed (for reproducibility of results)\n",
    "np.random.seed(42)\n",
    "\n",
    "# matplotlib style options\n",
    "plt.style.use('ggplot')\n",
    "%matplotlib inline\n",
    "plt.rcParams['figure.figsize'] = (16, 10)"
   ]
  },
  {
   "cell_type": "markdown",
   "metadata": {},
   "source": [
    "Loading data:"
   ]
  },
  {
   "cell_type": "code",
   "execution_count": 4,
   "metadata": {},
   "outputs": [],
   "source": [
    "#### pop = 1 ####\n",
    "pop1 = pd.read_csv(\"SpotifyAudioFeatures2017.csv\")\n",
    "pop2 = pd.read_csv(\"SpotifyAudioFeatures2018.csv\")\n",
    "pop3 = pd.read_csv(\"SpotifyAudioFeatures2019.csv\")\n",
    "df_pop = pd.concat([pop1, pop2,pop3])\n",
    "df_pop[\"genre\"] = [1]*len(df_pop)\n",
    "\n",
    "#### metal = 2 ####\n",
    "met1 = pd.read_csv(\"SpotifyAudioFeatures2017metal.csv\")\n",
    "met2 = pd.read_csv(\"SpotifyAudioFeatures2018metal.csv\")\n",
    "met3 = pd.read_csv(\"SpotifyAudioFeatures2019metal.csv\")\n",
    "df_met = pd.concat([met1, met2, met3])\n",
    "#df_met = pd.read_csv(\"SpotifyAudioFeatures201720182019metal.csv\")\n",
    "df_met[\"genre\"] = [2]*len(df_met)\n",
    "\n",
    "#### classical = 3 ####\n",
    "df_clas = pd.read_csv(\"SpotifyAudioFeaturesclassical.csv\")\n",
    "df_clas[\"genre\"] = [3]*len(df_clas)\n",
    "\n",
    "#### rap = 4 ####\n",
    "rap1 = pd.read_csv(\"SpotifyAudioFeatures2017rap.csv\")\n",
    "rap2 = pd.read_csv(\"SpotifyAudioFeatures2018rap.csv\")\n",
    "rap3 = pd.read_csv(\"SpotifyAudioFeatures2019rap.csv\")\n",
    "df_rap = pd.concat([rap1, rap2, rap3])\n",
    "#df_rap = pd.read_csv(\"SpotifyAudioFeatures201720182019rap.csv\")\n",
    "df_rap[\"genre\"] = [4]*len(df_rap)\n",
    "\n",
    "df = pd.concat([df_rap,df_met,df_clas,df_pop])\n",
    "#df.to_csv(\"genredata.csv\")"
   ]
  },
  {
   "cell_type": "code",
   "execution_count": 5,
   "metadata": {},
   "outputs": [
    {
     "name": "stdout",
     "output_type": "stream",
     "text": [
      "Shape of pop (1):  (6018, 19)\n",
      "Shape of metal (2):  (6010, 19)\n",
      "Shape of classical (3):  (5040, 19)\n",
      "Shape of rap (4):  (5928, 19)\n"
     ]
    }
   ],
   "source": [
    "print(\"Shape of pop (1): \", df_pop.shape)\n",
    "print(\"Shape of metal (2): \", df_met.shape)\n",
    "print(\"Shape of classical (3): \", df_clas.shape) \n",
    "print(\"Shape of rap (4): \",df_rap.shape)"
   ]
  },
  {
   "cell_type": "code",
   "execution_count": 6,
   "metadata": {
    "scrolled": true
   },
   "outputs": [
    {
     "data": {
      "text/html": [
       "<div>\n",
       "<style scoped>\n",
       "    .dataframe tbody tr th:only-of-type {\n",
       "        vertical-align: middle;\n",
       "    }\n",
       "\n",
       "    .dataframe tbody tr th {\n",
       "        vertical-align: top;\n",
       "    }\n",
       "\n",
       "    .dataframe thead th {\n",
       "        text-align: right;\n",
       "    }\n",
       "</style>\n",
       "<table border=\"1\" class=\"dataframe\">\n",
       "  <thead>\n",
       "    <tr style=\"text-align: right;\">\n",
       "      <th></th>\n",
       "      <th>Unnamed: 0</th>\n",
       "      <th>artist_name</th>\n",
       "      <th>track_name</th>\n",
       "      <th>track_id</th>\n",
       "      <th>popularity</th>\n",
       "      <th>acousticness</th>\n",
       "      <th>danceability</th>\n",
       "      <th>duration_ms</th>\n",
       "      <th>energy</th>\n",
       "      <th>instrumentalness</th>\n",
       "      <th>key</th>\n",
       "      <th>liveness</th>\n",
       "      <th>loudness</th>\n",
       "      <th>mode</th>\n",
       "      <th>speechiness</th>\n",
       "      <th>tempo</th>\n",
       "      <th>time_signature</th>\n",
       "      <th>valence</th>\n",
       "      <th>genre</th>\n",
       "    </tr>\n",
       "  </thead>\n",
       "  <tbody>\n",
       "    <tr>\n",
       "      <th>0</th>\n",
       "      <td>0</td>\n",
       "      <td>Metro Boomin</td>\n",
       "      <td>Up To Something (feat. Travis Scott &amp; Young Thug)</td>\n",
       "      <td>4RGacGFT2ztXhGgzeaYzIR</td>\n",
       "      <td>66</td>\n",
       "      <td>0.3190</td>\n",
       "      <td>0.799</td>\n",
       "      <td>184360</td>\n",
       "      <td>0.616</td>\n",
       "      <td>0.000000</td>\n",
       "      <td>1</td>\n",
       "      <td>0.1340</td>\n",
       "      <td>-8.809</td>\n",
       "      <td>1</td>\n",
       "      <td>0.1570</td>\n",
       "      <td>114.014</td>\n",
       "      <td>4</td>\n",
       "      <td>0.6670</td>\n",
       "      <td>4</td>\n",
       "    </tr>\n",
       "    <tr>\n",
       "      <th>1</th>\n",
       "      <td>1</td>\n",
       "      <td>Bryson Tiller</td>\n",
       "      <td>Run Me Dry</td>\n",
       "      <td>5GG3knKdxKWrNboRijxeKF</td>\n",
       "      <td>70</td>\n",
       "      <td>0.3930</td>\n",
       "      <td>0.646</td>\n",
       "      <td>169267</td>\n",
       "      <td>0.756</td>\n",
       "      <td>0.000032</td>\n",
       "      <td>9</td>\n",
       "      <td>0.2020</td>\n",
       "      <td>-9.017</td>\n",
       "      <td>0</td>\n",
       "      <td>0.4870</td>\n",
       "      <td>193.881</td>\n",
       "      <td>4</td>\n",
       "      <td>0.5960</td>\n",
       "      <td>4</td>\n",
       "    </tr>\n",
       "    <tr>\n",
       "      <th>2</th>\n",
       "      <td>2</td>\n",
       "      <td>Denzel Curry</td>\n",
       "      <td>SUPER SAIYAN SUPERMAN | ZUPER ZA1YAN ZUPERMAN</td>\n",
       "      <td>3HXSQWIyz7CUEI96kUurwn</td>\n",
       "      <td>63</td>\n",
       "      <td>0.0543</td>\n",
       "      <td>0.760</td>\n",
       "      <td>132813</td>\n",
       "      <td>0.715</td>\n",
       "      <td>0.000009</td>\n",
       "      <td>1</td>\n",
       "      <td>0.1190</td>\n",
       "      <td>-7.128</td>\n",
       "      <td>1</td>\n",
       "      <td>0.0428</td>\n",
       "      <td>142.035</td>\n",
       "      <td>4</td>\n",
       "      <td>0.0479</td>\n",
       "      <td>4</td>\n",
       "    </tr>\n",
       "    <tr>\n",
       "      <th>3</th>\n",
       "      <td>3</td>\n",
       "      <td>Joey Bada$$</td>\n",
       "      <td>TEMPTATION</td>\n",
       "      <td>7L9g4cPfohScjJ8mGwLQWr</td>\n",
       "      <td>70</td>\n",
       "      <td>0.3970</td>\n",
       "      <td>0.775</td>\n",
       "      <td>244198</td>\n",
       "      <td>0.707</td>\n",
       "      <td>0.000000</td>\n",
       "      <td>10</td>\n",
       "      <td>0.8740</td>\n",
       "      <td>-5.339</td>\n",
       "      <td>0</td>\n",
       "      <td>0.1520</td>\n",
       "      <td>104.979</td>\n",
       "      <td>4</td>\n",
       "      <td>0.7800</td>\n",
       "      <td>4</td>\n",
       "    </tr>\n",
       "    <tr>\n",
       "      <th>4</th>\n",
       "      <td>4</td>\n",
       "      <td>Offset</td>\n",
       "      <td>Legacy (feat. Travis Scott &amp; 21 Savage)</td>\n",
       "      <td>7pMRoGLEJuFM2wl5pt0R99</td>\n",
       "      <td>85</td>\n",
       "      <td>0.1780</td>\n",
       "      <td>0.844</td>\n",
       "      <td>244941</td>\n",
       "      <td>0.513</td>\n",
       "      <td>0.000000</td>\n",
       "      <td>1</td>\n",
       "      <td>0.0845</td>\n",
       "      <td>-8.769</td>\n",
       "      <td>1</td>\n",
       "      <td>0.3350</td>\n",
       "      <td>128.085</td>\n",
       "      <td>4</td>\n",
       "      <td>0.3440</td>\n",
       "      <td>4</td>\n",
       "    </tr>\n",
       "  </tbody>\n",
       "</table>\n",
       "</div>"
      ],
      "text/plain": [
       "   Unnamed: 0    artist_name  \\\n",
       "0           0   Metro Boomin   \n",
       "1           1  Bryson Tiller   \n",
       "2           2   Denzel Curry   \n",
       "3           3    Joey Bada$$   \n",
       "4           4         Offset   \n",
       "\n",
       "                                          track_name                track_id  \\\n",
       "0  Up To Something (feat. Travis Scott & Young Thug)  4RGacGFT2ztXhGgzeaYzIR   \n",
       "1                                         Run Me Dry  5GG3knKdxKWrNboRijxeKF   \n",
       "2      SUPER SAIYAN SUPERMAN | ZUPER ZA1YAN ZUPERMAN  3HXSQWIyz7CUEI96kUurwn   \n",
       "3                                         TEMPTATION  7L9g4cPfohScjJ8mGwLQWr   \n",
       "4            Legacy (feat. Travis Scott & 21 Savage)  7pMRoGLEJuFM2wl5pt0R99   \n",
       "\n",
       "   popularity  acousticness  danceability  duration_ms  energy  \\\n",
       "0          66        0.3190         0.799       184360   0.616   \n",
       "1          70        0.3930         0.646       169267   0.756   \n",
       "2          63        0.0543         0.760       132813   0.715   \n",
       "3          70        0.3970         0.775       244198   0.707   \n",
       "4          85        0.1780         0.844       244941   0.513   \n",
       "\n",
       "   instrumentalness  key  liveness  loudness  mode  speechiness    tempo  \\\n",
       "0          0.000000    1    0.1340    -8.809     1       0.1570  114.014   \n",
       "1          0.000032    9    0.2020    -9.017     0       0.4870  193.881   \n",
       "2          0.000009    1    0.1190    -7.128     1       0.0428  142.035   \n",
       "3          0.000000   10    0.8740    -5.339     0       0.1520  104.979   \n",
       "4          0.000000    1    0.0845    -8.769     1       0.3350  128.085   \n",
       "\n",
       "   time_signature  valence  genre  \n",
       "0               4   0.6670      4  \n",
       "1               4   0.5960      4  \n",
       "2               4   0.0479      4  \n",
       "3               4   0.7800      4  \n",
       "4               4   0.3440      4  "
      ]
     },
     "execution_count": 6,
     "metadata": {},
     "output_type": "execute_result"
    }
   ],
   "source": [
    "# load csv\n",
    "df_tracks = pd.read_csv(\"genredata.csv\")\n",
    "df_tracks = df\n",
    "#df_tracks = df_tracks.drop(['Unnamed: 0','Unnamed: 0.1'], axis=1)\n",
    "df_tracks = df_tracks.dropna(axis = 0)\n",
    "df_tracks.head()"
   ]
  },
  {
   "cell_type": "markdown",
   "metadata": {},
   "source": [
    "Preprocessing data:"
   ]
  },
  {
   "cell_type": "code",
   "execution_count": 48,
   "metadata": {},
   "outputs": [
    {
     "data": {
      "text/plain": [
       "(13200, 19)"
      ]
     },
     "execution_count": 48,
     "metadata": {},
     "output_type": "execute_result"
    }
   ],
   "source": [
    "#df_tracks = shuffle(df_tracks)\n",
    "grouped = df_tracks.groupby(['artist_name','track_name'], as_index=True).size()\n",
    "grouped[grouped > 1].count()\n",
    "df_tracks.drop_duplicates(subset=['artist_name','track_name'], inplace=True)\n",
    "\n",
    "# doing the same grouping as before to verify the solution\n",
    "grouped_after_dropping = df_tracks.groupby(['artist_name','track_name'], as_index=True).size()\n",
    "grouped_after_dropping[grouped_after_dropping > 1].count()\n",
    "\n",
    "df_tracks[df_tracks.duplicated(subset=['artist_name','track_name'],keep=False)].count()\n",
    "df = df_tracks\n",
    "#df = shuffle(df)\n",
    "df.shape\n",
    "#ind = df[\"Unnamed: 0\"]\n",
    "#df.to_csv(\"genredata.csv\")"
   ]
  },
  {
   "cell_type": "markdown",
   "metadata": {},
   "source": [
    "# Working with dataset \"genredata.csv\""
   ]
  },
  {
   "cell_type": "code",
   "execution_count": 203,
   "metadata": {},
   "outputs": [],
   "source": [
    "import numpy as np\n",
    "import pandas as pd\n",
    "from matplotlib import pyplot as plt\n",
    "from sklearn import linear_model\n",
    "import pystan\n",
    "import pystan_utils\n",
    "from sklearn.utils import shuffle\n",
    "\n",
    "# fix random generator seed (for reproducibility of results)\n",
    "np.random.seed(42)\n",
    "\n",
    "# matplotlib style options\n",
    "plt.style.use('ggplot')\n",
    "%matplotlib inline\n",
    "plt.rcParams['figure.figsize'] = (16, 10)"
   ]
  },
  {
   "cell_type": "code",
   "execution_count": 204,
   "metadata": {},
   "outputs": [
    {
     "data": {
      "text/plain": [
       "6018"
      ]
     },
     "execution_count": 204,
     "metadata": {},
     "output_type": "execute_result"
    }
   ],
   "source": [
    "df = pd.read_csv(\"genredata.csv\")\n",
    "len(df[df[\"genre\"]==1])"
   ]
  },
  {
   "cell_type": "code",
   "execution_count": 205,
   "metadata": {
    "scrolled": false
   },
   "outputs": [
    {
     "data": {
      "image/png": "[encoded data removed]",
      "text/plain": [
       "<Figure size 1152x720 with 1 Axes>"
      ]
     },
     "metadata": {},
     "output_type": "display_data"
    }
   ],
   "source": [
    "plt.hist(df['genre'])\n",
    "plt.ylabel('Count')\n",
    "plt.title('Genre frequency')\n",
    "plt.xticks(rotation=90)\n",
    "plt.show()"
   ]
  },
  {
   "cell_type": "markdown",
   "metadata": {},
   "source": [
    "# Subset to make model less time-consuming"
   ]
  },
  {
   "cell_type": "code",
   "execution_count": 207,
   "metadata": {},
   "outputs": [],
   "source": [
    "df = shuffle(df)\n",
    "df = df[:200]"
   ]
  },
  {
   "cell_type": "code",
   "execution_count": 208,
   "metadata": {},
   "outputs": [],
   "source": [
    "# separate between features/inputs (X) and target/output variables (y)\n",
    "mat = df.drop(['artist_name','track_name','track_id','Unnamed: 0.1'],axis = 1)\n",
    "mat = mat.values"
   ]
  },
  {
   "cell_type": "code",
   "execution_count": 209,
   "metadata": {},
   "outputs": [
    {
     "data": {
      "text/plain": [
       "array([  1.,   2.,   3.,   4.,   5.,   6.,   7.,   8.,   9.,  10.,  11.,\n",
       "        12.,  13.,  14.,  15.,  16.,  17.,  18.,  19.,  20.,  21.,  22.,\n",
       "        23.,  24.,  25.,  26.,  27.,  28.,  29.,  30.,  31.,  32.,  33.,\n",
       "        34.,  35.,  36.,  37.,  38.,  39.,  40.,  41.,  42.,  43.,  44.,\n",
       "        45.,  46.,  47.,  48.,  49.,  50.,  51.,  52.,  53.,  54.,  55.,\n",
       "        56.,  57.,  58.,  59.,  60.,  61.,  62.,  63.,  64.,  65.,  66.,\n",
       "        67.,  68.,  69.,  70.,  71.,  72.,  73.,  74.,  75.,  76.,  77.,\n",
       "        78.,  79.,  80.,  81.,  82.,  83.,  84.,  85.,  86.,  87.,  88.,\n",
       "        89.,  90.,  91.,  92.,  93.,  94.,  95.,  96.,  97.,  98.,  99.,\n",
       "       100., 101., 102., 103., 104., 105., 106., 107., 108., 109., 110.,\n",
       "       111., 112., 113., 114., 115., 116., 117., 118., 119., 120., 121.,\n",
       "       122., 123., 124., 125., 126., 127., 128., 129., 130., 131., 132.,\n",
       "       133., 134., 135., 136., 137., 138., 139., 140., 141., 142., 143.,\n",
       "       144., 145., 146., 147., 148., 149., 150., 151., 152., 153., 154.,\n",
       "       155., 156., 157., 158., 159., 160., 161., 162., 163., 164., 165.,\n",
       "       166., 167., 168., 169., 170., 171., 172., 173., 174., 175., 176.,\n",
       "       177., 178., 179., 180., 181., 182., 183., 184., 185., 186., 187.,\n",
       "       188., 189., 190., 191., 192., 193., 194., 195., 196., 197., 198.,\n",
       "       199., 200.])"
      ]
     },
     "execution_count": 209,
     "metadata": {},
     "output_type": "execute_result"
    }
   ],
   "source": [
    "#re-enumrate track ids\n",
    "i = 0\n",
    "for i in range(len(mat)):\n",
    "    mat[i,0] = i+1\n",
    "mat[:,0]"
   ]
  },
  {
   "cell_type": "markdown",
   "metadata": {},
   "source": [
    "# Baseline model with sklearn"
   ]
  },
  {
   "cell_type": "code",
   "execution_count": 219,
   "metadata": {},
   "outputs": [
    {
     "name": "stdout",
     "output_type": "stream",
     "text": [
      "(200, 14)\n",
      "(200,)\n"
     ]
    }
   ],
   "source": [
    "X = mat[:,1:-1].astype(\"float\")\n",
    "print(X.shape)\n",
    "y = mat[:,-1].astype(\"int\")\n",
    "print(y.shape)\n",
    "#ind = mat[:,0].astype(\"int\")\n",
    "ind = mat[:,0].astype(\"int\")"
   ]
  },
  {
   "cell_type": "code",
   "execution_count": 221,
   "metadata": {},
   "outputs": [],
   "source": [
    "# standardize input features\n",
    "X_mean = X.mean(axis=0)\n",
    "X_std = X.std(axis=0)\n",
    "X = (X - X_mean) / X_std"
   ]
  },
  {
   "cell_type": "markdown",
   "metadata": {},
   "source": [
    "Train/test split:"
   ]
  },
  {
   "cell_type": "code",
   "execution_count": 222,
   "metadata": {},
   "outputs": [
    {
     "name": "stdout",
     "output_type": "stream",
     "text": [
      "num train: 160\n",
      "num test: 40\n"
     ]
    }
   ],
   "source": [
    "train_perc = 0.8 # percentage of training data\n",
    "split_point = int(train_perc*len(y))\n",
    "perm = np.random.permutation(len(y))\n",
    "ix_train = perm[:split_point]\n",
    "ix_test = perm[split_point:]\n",
    "X_train = X[ix_train,:]\n",
    "X_test = X[ix_test,:]\n",
    "ind_train = ind[ix_train]\n",
    "ind_test = ind[ix_test]\n",
    "y_train = y[ix_train]\n",
    "y_test = y[ix_test]\n",
    "print(\"num train: %d\" % len(y_train))\n",
    "print(\"num test: %d\" % len(y_test))"
   ]
  },
  {
   "cell_type": "code",
   "execution_count": 223,
   "metadata": {},
   "outputs": [
    {
     "name": "stdout",
     "output_type": "stream",
     "text": [
      "Predictions: [2 2 3 1 2 1 2 1 3 2 3 1 2 3 2 1 1 1 3 1 3 1 3 3 2 1 3 1 1 3 2 1 1 2 1 1 1\n",
      " 3 1 3]\n",
      "True values: [2 2 3 1 3 1 2 4 3 3 3 1 2 3 2 1 1 1 3 1 3 1 3 3 2 4 3 1 1 3 2 1 1 1 1 1 1\n",
      " 3 4 3]\n",
      "Accuracy: 0.85\n"
     ]
    }
   ],
   "source": [
    "# create and fit logistic regression model\n",
    "logreg = linear_model.LogisticRegression(solver='lbfgs', multi_class='ovr')\n",
    "logreg.fit(X_train, y_train)\n",
    "\n",
    "# make predictions for test set\n",
    "y_hat = logreg.predict(X_test)\n",
    "print(\"Predictions:\", y_hat)\n",
    "print(\"True values:\", y_test)\n",
    "\n",
    "# evaluate prediction accuracy\n",
    "print(\"Accuracy:\", 1.0*np.sum(y_hat == y_test) / len(y_test))"
   ]
  },
  {
   "cell_type": "markdown",
   "metadata": {},
   "source": [
    "## Hierarchical logistic regression in STAN\n",
    "\n",
    "Our dataset consists of multiple observations from various tracks. However, when we build our original logistic regression in STAN, our specification assumes that all tracks share a unique set of bias (alpha) coefficients (beta). In other words, this is equivalent to assuming, for example, that all tracks are equally biased towards a given genre (e.g. pop). This is obviously a very strong assumption. We should allow different tracks to have different biases (alpha).\n",
    "\n",
    "This can be done by placing a hierarchical prior on the intercepts (alpha). The generative process then becomes:\n",
    "\n",
    "1. For each class $c \\in \\{1,\\dots,C\\}$\n",
    "    2. Draw global mean parameters $\\mu_c \\sim \\mathcal{N}(0,10)$\n",
    "    3. Draw global variance parameters $\\sigma_c \\sim \\mbox{Cauchy}(0,10)$\n",
    "    5. For each track $i \\in \\{1,\\dots,I\\}$\n",
    "        4. Draw $\\beta_{i,c}$ such that $\\beta_{i,c} \\sim \\mathcal{N}(\\mu_c,\\sigma_c)$\n",
    "    6. For each track $i \\in \\{1,\\dots,I\\}$\n",
    "        5. Draw $\\alpha_{i,c}$ such that $\\alpha_{i,c} \\sim \\mathcal{N}(\\mu_c,\\sigma_c)$\n",
    "\n",
    "6. For each data point $n=\\{1,\\dots,N\\}$\n",
    "    7. Draw target class $y_n \\sim \\mbox{Multinomial}(\\mbox{Softmax}(\\textbf{x}_n,\\boldsymbol\\alpha_{i_n},\\boldsymbol\\beta_1,\\dots,\\boldsymbol\\beta_C))$\n",
    "    \n",
    "where $i_n$ is the track identifier for track $n$, and $\\boldsymbol\\mu=\\{\\mu_1\\dots\\mu_C\\}$ and $\\boldsymbol\\sigma=\\{\\sigma_1\\dots\\sigma_C\\}$."
   ]
  },
  {
   "cell_type": "code",
   "execution_count": 272,
   "metadata": {},
   "outputs": [],
   "source": [
    "# define Stan model\n",
    "model_definition = \"\"\"\n",
    "data {\n",
    "    int<lower = 1> N;\n",
    "    int<lower = 1> D;\n",
    "    int<lower = 1> C;\n",
    "    int<lower = 1> I;\n",
    "    int ind[N];\n",
    "    matrix[N,D] X;\n",
    "    int<lower=1,upper=C> y[N];\n",
    "}\n",
    "\n",
    "parameters {\n",
    "    vector<lower=1>[C] mu_prior;\n",
    "    vector<lower=1>[C] sigma_prior;\n",
    "    \n",
    "    matrix[I,C] alpha;\n",
    "    matrix[C,D] beta;  \n",
    "    \n",
    "    \n",
    "    \n",
    "}\n",
    "\n",
    "model {\n",
    "    for (c in 1:C) {\n",
    "        mu_prior[c] ~ normal(c,0.5);\n",
    "        sigma_prior[c] ~ cauchy(c,0.5);\n",
    "        \n",
    "        beta[c,1] ~ beta(0,1); //popularity\n",
    "        beta[c,2] ~ beta(0,1); //acousticness\n",
    "        beta[c,3] ~ beta(0,1); //danceability\n",
    "        beta[c,4] ~ normal(0,10); //duration\n",
    "        beta[c,5] ~ beta(0,1); //energy\n",
    "        beta[c,6] ~ beta(0,1); //instrumentalness\n",
    "        beta[c,7] ~ normal(0,10); //key - should be categorical...\n",
    "        beta[c,8] ~ normal(0.1,0.2); //liveness\n",
    "        beta[c,9] ~ normal(0,10); //loudness\n",
    "        beta[c,10] ~ normal(0,10); //mode - should be binomial...\n",
    "        beta[c,11] ~ normal(0.1,0.2); //speechiness\n",
    "        beta[c,12] ~ normal(0,10); //tempo\n",
    "        beta[c,13] ~ beta(0,1); //time_signature\n",
    "        beta[c,14] ~ normal(0.4,0.8); //valence\n",
    "        \n",
    "        \n",
    "        for (i in 1:I){\n",
    "            alpha[i,c] ~ normal(mu_prior[c],sigma_prior[c]);\n",
    "        }\n",
    "    }\n",
    "    for (n in 1:N){\n",
    "        y[n] ~ categorical(softmax(alpha[ind[n],:]' + beta * X[n]'));\n",
    "        \n",
    "    }    \n",
    "}\n",
    "\"\"\""
   ]
  },
  {
   "cell_type": "markdown",
   "metadata": {},
   "source": [
    "# Questions regarding the model...\n",
    "\n",
    "1. Do we set different mu and sigma for each class C? We observed that different mu for each class results in a higher accuracy (we get approximately +8% accuracy doing this...) \n",
    "2. How do we define beta parameters? \n",
    "3. How do we find a proper distribution for e.g. popularity (which is a mixture of exponential/normal)?\n",
    "4. How do we make distributions dependent on other distributions? \n",
    "5. We cant make beta[c,10] follow a binomial distribution because it expects beta to be an int (it is real in this case...). \n",
    "6. When compiling the model, we get the error: \"Initialization between (-2, 2) failed after 100 attempts. Try specifying initial values, reducing ranges of constrained values, or reparameterizing the model.\". How does one fix this? \n",
    "7. Why do we standardize the data? And should we make priors for the standardized data (or how is looked before)? "
   ]
  },
  {
   "cell_type": "markdown",
   "metadata": {},
   "source": [
    "Prepare input data for STAN, compile STAN program and run inference using ADVI (much faster in this case):"
   ]
  },
  {
   "cell_type": "code",
   "execution_count": 273,
   "metadata": {},
   "outputs": [
    {
     "name": "stdout",
     "output_type": "stream",
     "text": [
      "N=160, D=14, C=4, I=200\n"
     ]
    }
   ],
   "source": [
    "# prepare data for Stan model\n",
    "N, D = X_train.shape\n",
    "C = int(y_train.max())\n",
    "I = ind.max()\n",
    "print(\"N=%d, D=%d, C=%d, I=%d\" % (N,D,C,I))\n",
    "data = {'N': N, 'D': D, 'C': C, 'I':I, 'ind':ind_train, 'X': X_train, 'y': y_train}"
   ]
  },
  {
   "cell_type": "code",
   "execution_count": 274,
   "metadata": {},
   "outputs": [
    {
     "ename": "ValueError",
     "evalue": "Failed to parse Stan model 'anon_model_ba5402c35919680e1a6773fc31fb100f'. Error message:\nSYNTAX ERROR, MESSAGE(S) FROM PARSER:\n\nparameters or transformed parameters cannot be integer or integer array;  found declared type int, parameter name=beta\nProblem with declaration.\n  error in 'unknown file name' at line 18, column 18\n  -------------------------------------------------\n    16:     matrix[I,C] alpha;\n    17:     //matrix[C,D] beta;  \n    18:     int beta[C,D];\n                         ^\n    19:     \n  -------------------------------------------------\n\n",
     "output_type": "error",
     "traceback": [
      "\u001b[1;31m---------------------------------------------------------------------------\u001b[0m",
      "\u001b[1;31mValueError\u001b[0m                                Traceback (most recent call last)",
      "\u001b[1;32m<timed exec>\u001b[0m in \u001b[0;36m<module>\u001b[1;34m()\u001b[0m\n",
      "\u001b[1;32m~\\Anaconda3\\lib\\site-packages\\pystan\\model.py\u001b[0m in \u001b[0;36m__init__\u001b[1;34m(self, file, charset, model_name, model_code, stanc_ret, include_paths, boost_lib, eigen_lib, verbose, obfuscate_model_name, extra_compile_args)\u001b[0m\n\u001b[0;32m    221\u001b[0m                                          \u001b[0mverbose\u001b[0m\u001b[1;33m=\u001b[0m\u001b[0mverbose\u001b[0m\u001b[1;33m,\u001b[0m\u001b[1;33m\u001b[0m\u001b[0m\n\u001b[0;32m    222\u001b[0m                                          \u001b[0minclude_paths\u001b[0m\u001b[1;33m=\u001b[0m\u001b[0minclude_paths\u001b[0m\u001b[1;33m,\u001b[0m\u001b[1;33m\u001b[0m\u001b[0m\n\u001b[1;32m--> 223\u001b[1;33m                                          obfuscate_model_name=obfuscate_model_name)\n\u001b[0m\u001b[0;32m    224\u001b[0m \u001b[1;33m\u001b[0m\u001b[0m\n\u001b[0;32m    225\u001b[0m         \u001b[1;32mif\u001b[0m \u001b[1;32mnot\u001b[0m \u001b[0misinstance\u001b[0m\u001b[1;33m(\u001b[0m\u001b[0mstanc_ret\u001b[0m\u001b[1;33m,\u001b[0m \u001b[0mdict\u001b[0m\u001b[1;33m)\u001b[0m\u001b[1;33m:\u001b[0m\u001b[1;33m\u001b[0m\u001b[0m\n",
      "\u001b[1;32m~\\Anaconda3\\lib\\site-packages\\pystan\\api.py\u001b[0m in \u001b[0;36mstanc\u001b[1;34m(file, charset, model_code, model_name, include_paths, verbose, obfuscate_model_name)\u001b[0m\n\u001b[0;32m    165\u001b[0m             \u001b[0mmsg\u001b[0m \u001b[1;33m=\u001b[0m \u001b[0mmsg\u001b[0m\u001b[1;33m.\u001b[0m\u001b[0mencode\u001b[0m\u001b[1;33m(\u001b[0m\u001b[1;34m'ascii'\u001b[0m\u001b[1;33m,\u001b[0m \u001b[1;34m'replace'\u001b[0m\u001b[1;33m)\u001b[0m\u001b[1;33m\u001b[0m\u001b[0m\n\u001b[0;32m    166\u001b[0m         \u001b[0merror_msg\u001b[0m \u001b[1;33m=\u001b[0m \u001b[1;34m\"Failed to parse Stan model '{}'. Error message:\\n{}\"\u001b[0m\u001b[1;33m.\u001b[0m\u001b[0mformat\u001b[0m\u001b[1;33m(\u001b[0m\u001b[0mmodel_name\u001b[0m\u001b[1;33m,\u001b[0m \u001b[0mmsg\u001b[0m\u001b[1;33m)\u001b[0m\u001b[1;33m\u001b[0m\u001b[0m\n\u001b[1;32m--> 167\u001b[1;33m         \u001b[1;32mraise\u001b[0m \u001b[0mValueError\u001b[0m\u001b[1;33m(\u001b[0m\u001b[0merror_msg\u001b[0m\u001b[1;33m)\u001b[0m\u001b[1;33m\u001b[0m\u001b[0m\n\u001b[0m\u001b[0;32m    168\u001b[0m     \u001b[1;32melif\u001b[0m \u001b[0mresult\u001b[0m\u001b[1;33m[\u001b[0m\u001b[1;34m'status'\u001b[0m\u001b[1;33m]\u001b[0m \u001b[1;33m==\u001b[0m \u001b[1;36m0\u001b[0m\u001b[1;33m:\u001b[0m  \u001b[1;31m# SUCCESS_RC is 0\u001b[0m\u001b[1;33m\u001b[0m\u001b[0m\n\u001b[0;32m    169\u001b[0m         \u001b[0mlogger\u001b[0m\u001b[1;33m.\u001b[0m\u001b[0mdebug\u001b[0m\u001b[1;33m(\u001b[0m\u001b[1;34m\"Successfully parsed Stan model '{}'.\"\u001b[0m\u001b[1;33m.\u001b[0m\u001b[0mformat\u001b[0m\u001b[1;33m(\u001b[0m\u001b[0mmodel_name\u001b[0m\u001b[1;33m)\u001b[0m\u001b[1;33m)\u001b[0m\u001b[1;33m\u001b[0m\u001b[0m\n",
      "\u001b[1;31mValueError\u001b[0m: Failed to parse Stan model 'anon_model_ba5402c35919680e1a6773fc31fb100f'. Error message:\nSYNTAX ERROR, MESSAGE(S) FROM PARSER:\n\nparameters or transformed parameters cannot be integer or integer array;  found declared type int, parameter name=beta\nProblem with declaration.\n  error in 'unknown file name' at line 18, column 18\n  -------------------------------------------------\n    16:     matrix[I,C] alpha;\n    17:     //matrix[C,D] beta;  \n    18:     int beta[C,D];\n                         ^\n    19:     \n  -------------------------------------------------\n\n"
     ]
    }
   ],
   "source": [
    "%%time\n",
    "# create Stan model object\n",
    "sm = pystan.StanModel(model_code=model_definition)\n",
    "fit = sm.vb(data=data, iter=10000, algorithm=\"meanfield\", grad_samples=10, seed=42, verbose=True)"
   ]
  },
  {
   "cell_type": "markdown",
   "metadata": {},
   "source": [
    "Lets plot the posterior distributions of some of the parameters of our model (you may have called these variables something else...):"
   ]
  },
  {
   "cell_type": "code",
   "execution_count": 234,
   "metadata": {},
   "outputs": [
    {
     "data": {
      "image/png": "[encoded data removed]",
      "text/plain": [
       "<Figure size 1152x720 with 1 Axes>"
      ]
     },
     "metadata": {},
     "output_type": "display_data"
    }
   ],
   "source": [
    "pystan_utils.vb_plot_variables(fit, \"mu_prior\")"
   ]
  },
  {
   "cell_type": "code",
   "execution_count": 235,
   "metadata": {},
   "outputs": [
    {
     "data": {
      "image/png": "[encoded data removed]",
      "text/plain": [
       "<Figure size 1152x720 with 1 Axes>"
      ]
     },
     "metadata": {},
     "output_type": "display_data"
    }
   ],
   "source": [
    "pystan_utils.vb_plot_variables(fit, \"sigma_prior\")"
   ]
  },
  {
   "cell_type": "markdown",
   "metadata": {},
   "source": [
    "We can now use the inferred posteriors to make predictions. Lets first use the \"pystan_utils\" package to extract the expected values of the posterior distribution of the model parameters:"
   ]
  },
  {
   "cell_type": "code",
   "execution_count": 236,
   "metadata": {},
   "outputs": [],
   "source": [
    "# get fitted parameters\n",
    "mu_prior = pystan_utils.vb_extract_variable(fit, \"mu_prior\", var_type=\"vector\")\n",
    "sigma_prior = pystan_utils.vb_extract_variable(fit, \"sigma_prior\", var_type=\"vector\")\n",
    "alpha = pystan_utils.vb_extract_variable(fit, \"alpha\", var_type=\"matrix\", dims=(C,I))\n",
    "beta = pystan_utils.vb_extract_variable(fit, \"beta\", var_type=\"matrix\", dims=(C,D))"
   ]
  },
  {
   "cell_type": "markdown",
   "metadata": {},
   "source": [
    "Using expected values of the parameters, we can make predictions for the testset. However, we need to account for the fact that we now have different bias parameters per track. "
   ]
  },
  {
   "cell_type": "code",
   "execution_count": 237,
   "metadata": {},
   "outputs": [
    {
     "name": "stdout",
     "output_type": "stream",
     "text": [
      "predictions: [2 2 3 1 2 1 2 1 3 2 3 1 2 3 2 1 1 1 3 2 3 1 3 3 2 1 3 1 1 3 2 2 1 1 2 3 1\n",
      " 3 4 3]\n",
      "true values: [2 2 3 1 3 1 2 4 3 3 3 1 2 3 2 1 1 1 3 1 3 1 3 3 2 4 3 1 1 3 2 1 1 1 1 1 1\n",
      " 3 4 3]\n",
      "Accuracy: 0.8\n"
     ]
    }
   ],
   "source": [
    "# make predictions for test set\n",
    "y_hat = alpha[:,ind_test-1] + np.dot(beta, X_test.T)\n",
    "y_hat = np.argmax(y_hat, axis=0) + 1\n",
    "print(\"predictions:\", y_hat)\n",
    "print(\"true values:\", y_test)\n",
    "\n",
    "# evaluate prediction accuracy\n",
    "print(\"Accuracy:\", 1.0*np.sum(y_hat == y_test) / len(y_test))"
   ]
  },
  {
   "cell_type": "markdown",
   "metadata": {},
   "source": [
    "# Working model with wrong hyper-priors...\n",
    "Below is a working model in STAN with accuracy around 80% but with the wrong hyper-priors because the model fails otherwise..."
   ]
  },
  {
   "cell_type": "code",
   "execution_count": 277,
   "metadata": {},
   "outputs": [],
   "source": [
    "# define Stan model\n",
    "model_definition = \"\"\"\n",
    "data {\n",
    "    int<lower = 1> N;\n",
    "    int<lower = 1> D;\n",
    "    int<lower = 1> C;\n",
    "    int<lower = 1> I;\n",
    "    int ind[N];\n",
    "    matrix[N,D] X;\n",
    "    int<lower=1,upper=C> y[N];\n",
    "}\n",
    "\n",
    "parameters {\n",
    "    vector<lower=1>[C] mu_prior;\n",
    "    vector<lower=1>[C] sigma_prior;\n",
    "    \n",
    "    matrix[I,C] alpha;\n",
    "    matrix[C,D] beta;  \n",
    "    \n",
    "    \n",
    "    \n",
    "}\n",
    "\n",
    "model {\n",
    "    for (c in 1:C) {\n",
    "        mu_prior[c] ~ normal(c,0.5);\n",
    "        sigma_prior[c] ~ normal(c,0.5);\n",
    "        \n",
    "        beta[c,1] ~ normal(0,0.5); //popularity\n",
    "        beta[c,2] ~ normal(0.5,0.5); //acousticness\n",
    "        beta[c,3] ~ normal(0.5,0.25); //danceability\n",
    "        beta[c,4] ~ cauchy(0,0.5); //duration\n",
    "        beta[c,5] ~ normal(0,0.5); //energy\n",
    "        beta[c,6] ~ cauchy(0,1); //instrumentalness\n",
    "        beta[c,7] ~ normal(0,0.5); //key\n",
    "        beta[c,8] ~ cauchy(0.1,0.2); //liveness\n",
    "        beta[c,9] ~ cauchy(0,0.5); //loudness\n",
    "        beta[c,10] ~ normal(0.5,0.5); //mode\n",
    "        beta[c,11] ~ cauchy(0.1,0.2); //speechiness\n",
    "        beta[c,12] ~ normal(120,50); //tempo\n",
    "        beta[c,13] ~ normal(0,0.5); //time_signature\n",
    "        beta[c,14] ~ cauchy(0.4,0.8); //valence\n",
    "        \n",
    "        \n",
    "        for (i in 1:I){\n",
    "            alpha[i,c] ~ normal(mu_prior[c],sigma_prior[c]);\n",
    "        }\n",
    "    }\n",
    "    for (n in 1:N){\n",
    "        y[n] ~ categorical(softmax(alpha[ind[n],:]' + beta * X[n]'));\n",
    "        \n",
    "    }    \n",
    "}\n",
    "\"\"\""
   ]
  },
  {
   "cell_type": "code",
   "execution_count": 278,
   "metadata": {},
   "outputs": [
    {
     "name": "stdout",
     "output_type": "stream",
     "text": [
      "N=160, D=14, C=4, I=200\n"
     ]
    }
   ],
   "source": [
    "# prepare data for Stan model\n",
    "N, D = X_train.shape\n",
    "C = int(y_train.max())\n",
    "I = ind.max()\n",
    "print(\"N=%d, D=%d, C=%d, I=%d\" % (N,D,C,I))\n",
    "data = {'N': N, 'D': D, 'C': C, 'I':I, 'ind':ind_train, 'X': X_train, 'y': y_train}"
   ]
  },
  {
   "cell_type": "code",
   "execution_count": 279,
   "metadata": {},
   "outputs": [
    {
     "name": "stderr",
     "output_type": "stream",
     "text": [
      "INFO:pystan:COMPILING THE C++ CODE FOR MODEL anon_model_c7f3a42cecfb931cfe1c3618dfa44a70 NOW.\n",
      "WARNING:pystan:Automatic Differentiation Variational Inference (ADVI) is an EXPERIMENTAL ALGORITHM.\n",
      "WARNING:pystan:ADVI samples may be found on the filesystem in the file `C:\\Users\\CHRIST~1\\AppData\\Local\\Temp\\tmpjeb58beg\\output.csv`\n"
     ]
    },
    {
     "name": "stdout",
     "output_type": "stream",
     "text": [
      "Wall time: 1min 16s\n"
     ]
    }
   ],
   "source": [
    "%%time\n",
    "# create Stan model object\n",
    "sm = pystan.StanModel(model_code=model_definition)\n",
    "fit = sm.vb(data=data, iter=10000, algorithm=\"meanfield\", grad_samples=10, seed=42, verbose=True)"
   ]
  },
  {
   "cell_type": "code",
   "execution_count": 280,
   "metadata": {},
   "outputs": [
    {
     "name": "stdout",
     "output_type": "stream",
     "text": [
      "predictions: [2 2 3 1 2 1 2 1 3 2 3 1 2 3 2 1 1 1 3 2 3 1 3 3 2 1 3 1 1 3 2 2 1 1 2 3 1\n",
      " 3 4 3]\n",
      "true values: [2 2 3 1 3 1 2 4 3 3 3 1 2 3 2 1 1 1 3 1 3 1 3 3 2 4 3 1 1 3 2 1 1 1 1 1 1\n",
      " 3 4 3]\n",
      "Accuracy: 0.8\n"
     ]
    }
   ],
   "source": [
    "# make predictions for test set\n",
    "y_hat = alpha[:,ind_test-1] + np.dot(beta, X_test.T)\n",
    "y_hat = np.argmax(y_hat, axis=0) + 1\n",
    "print(\"predictions:\", y_hat)\n",
    "print(\"true values:\", y_test)\n",
    "\n",
    "# evaluate prediction accuracy\n",
    "print(\"Accuracy:\", 1.0*np.sum(y_hat == y_test) / len(y_test))"
   ]
  }
 ],
 "metadata": {
  "kernelspec": {
   "display_name": "Python 3",
   "language": "python",
   "name": "python3"
  },
  "language_info": {
   "codemirror_mode": {
    "name": "ipython",
    "version": 3
   },
   "file_extension": ".py",
   "mimetype": "text/x-python",
   "name": "python",
   "nbconvert_exporter": "python",
   "pygments_lexer": "ipython3",
   "version": "3.6.5"
  }
 },
 "nbformat": 4,
 "nbformat_minor": 2
}
