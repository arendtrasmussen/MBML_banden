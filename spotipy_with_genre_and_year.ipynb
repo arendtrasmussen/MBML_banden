{
 "cells": [
  {
   "cell_type": "code",
   "execution_count": 1,
   "metadata": {},
   "outputs": [],
   "source": [
    "import sys\n",
    "import spotipy\n",
    "import json\n",
    "import webbrowser\n",
    "import spotipy.util as util\n",
    "from json.decoder import JSONDecodeError\n",
    "from sklearn.utils import shuffle\n",
    "\n",
    "import matplotlib.pyplot as plt\n",
    "from matplotlib import interactive\n",
    "%matplotlib inline"
   ]
  },
  {
   "cell_type": "code",
   "execution_count": 2,
   "metadata": {
    "scrolled": true
   },
   "outputs": [
    {
     "data": {
      "text/plain": [
       "'BQDCPSuHl2poOyME9VcR7SF8LTcvGAyGnBAXkdLHum7i461gjpYHiUSk-HiUM1faRmHU0-KA4mhLq2veA9KJq3IbadsR74GAwxmlpPSha8GJzfHM-nELSEC2lKNtjaiD4UtbPWfp9dGnm_-qXZte9UXEGiUZzuVV3uipwpeBM2hyUwN6aQwJow'"
      ]
     },
     "execution_count": 2,
     "metadata": {},
     "output_type": "execute_result"
    }
   ],
   "source": [
    "# Get user name\n",
    "\n",
    "\n",
    "# Username: yts1nrqgvqjmau92w6fq1y3kx\n",
    "username='yts1nrqgvqjmau92w6fq1y3kx'\n",
    "scope = 'user-library-read'\n",
    "client_id='78c22596fdaf488090979ee83028d942'\n",
    "client_secret='58a6bf1864b34e2682d9d57487e1ec60'\n",
    "redirect_uri='http://localhost/'\n",
    "\n",
    "util.prompt_for_user_token(username,scope,client_id,client_secret,redirect_uri)\n",
    "   \n"
   ]
  },
  {
   "cell_type": "markdown",
   "metadata": {},
   "source": [
    "## Prints the album and "
   ]
  },
  {
   "cell_type": "code",
   "execution_count": 3,
   "metadata": {
    "scrolled": true
   },
   "outputs": [
    {
     "name": "stdout",
     "output_type": "stream",
     "text": [
      "Delicate - Taylor Swift\n",
      "Aftergold - Big Wild\n"
     ]
    }
   ],
   "source": [
    "\n",
    "#TEST\n",
    "\n",
    "import sys\n",
    "import spotipy\n",
    "import spotipy.util as util\n",
    "\n",
    "scope = 'user-library-read'\n",
    "\n",
    "username='yts1nrqgvqjmau92w6fq1y3kx'\n",
    "client_id='78c22596fdaf488090979ee83028d942'\n",
    "client_secret='58a6bf1864b34e2682d9d57487e1ec60'\n",
    "redirect_uri='http://localhost/'\n",
    "\n",
    "token = util.prompt_for_user_token(username,scope,client_id,client_secret,redirect_uri)\n",
    "\n",
    "if token:\n",
    "    sp = spotipy.Spotify(auth=token)\n",
    "    results = sp.current_user_saved_tracks()\n",
    "    for item in results['items']:\n",
    "        track = item['track']\n",
    "        print( track['name'] + ' - ' + track['artists'][0]['name'])\n",
    "else:\n",
    "    print(\"Can't get token for\", username)"
   ]
  },
  {
   "cell_type": "markdown",
   "metadata": {},
   "source": [
    "## Prints the audio features"
   ]
  },
  {
   "cell_type": "code",
   "execution_count": 4,
   "metadata": {},
   "outputs": [
    {
     "name": "stdout",
     "output_type": "stream",
     "text": [
      "[None]\n"
     ]
    }
   ],
   "source": [
    "import spotipy\n",
    "import spotipy.oauth2\n",
    "\n",
    "credentials = spotipy.oauth2.SpotifyClientCredentials(client_id, client_secret)\n",
    "spotify = spotipy.Spotify(client_credentials_manager=credentials)\n",
    "#print(spotify.audio_features(['4uLU6hMCjMI75M1A2tKUQC']))\n",
    "#print(spotify.audio_features(['https://open.spotify.com/playlist/37i9dQZF1Ejh1DqQpLOGMI']))\n",
    "#print(spotify.audio_features(['4JpKVNYnVcJ8tuMKjAj50A,2NRANZE9UCmPAS5XVbXL40,24JygzOLM0EmRQeGtFcIcG']))\n",
    "#print(spotify.audio_analysis('4JpKVNYnVcJ8tuMKjAj50A'))\n",
    "\n",
    "#https://open.spotify.com/album/3idhSBAaROCp9U4fQCj4Xs\n",
    "print(spotify.audio_features(['party']))\n",
    "\n"
   ]
  },
  {
   "cell_type": "markdown",
   "metadata": {},
   "source": [
    "### TEST"
   ]
  },
  {
   "cell_type": "code",
   "execution_count": 5,
   "metadata": {},
   "outputs": [
    {
     "name": "stdout",
     "output_type": "stream",
     "text": [
      "Time to run this code (in seconds): 61.11496344902321\n"
     ]
    }
   ],
   "source": [
    "# timeit library to measure the time needed to run this code\n",
    "import timeit\n",
    "start = timeit.default_timer()\n",
    "\n",
    "# create empty lists where the results are going to be stored\n",
    "artist_name = []\n",
    "track_name = []\n",
    "popularity = []\n",
    "track_id = []\n",
    "\n",
    "for i in range(0,6000,50):\n",
    "    #track_results = sp.search(q={'genre:jazz','year:2019'}, type='track', limit=50,offset=i, market='DK')\n",
    "    track_results = sp.search(q='genre:classical', type='track', limit=50,offset=i, market='DK')\n",
    "    for i, t in enumerate(track_results['tracks']['items']):\n",
    "        artist_name.append(t['artists'][0]['name'])\n",
    "        track_name.append(t['name'])\n",
    "        track_id.append(t['id'])\n",
    "        popularity.append(t['popularity'])\n",
    "\n",
    "    \n",
    "stop = timeit.default_timer()\n",
    "print ('Time to run this code (in seconds):', stop - start)"
   ]
  },
  {
   "cell_type": "code",
   "execution_count": 6,
   "metadata": {},
   "outputs": [
    {
     "name": "stdout",
     "output_type": "stream",
     "text": [
      "(6000, 4)\n"
     ]
    },
    {
     "data": {
      "text/html": [
       "<div>\n",
       "<style scoped>\n",
       "    .dataframe tbody tr th:only-of-type {\n",
       "        vertical-align: middle;\n",
       "    }\n",
       "\n",
       "    .dataframe tbody tr th {\n",
       "        vertical-align: top;\n",
       "    }\n",
       "\n",
       "    .dataframe thead th {\n",
       "        text-align: right;\n",
       "    }\n",
       "</style>\n",
       "<table border=\"1\" class=\"dataframe\">\n",
       "  <thead>\n",
       "    <tr style=\"text-align: right;\">\n",
       "      <th></th>\n",
       "      <th>artist_name</th>\n",
       "      <th>track_name</th>\n",
       "      <th>track_id</th>\n",
       "      <th>popularity</th>\n",
       "    </tr>\n",
       "  </thead>\n",
       "  <tbody>\n",
       "    <tr>\n",
       "      <th>0</th>\n",
       "      <td>Wolfgang Amadeus Mozart</td>\n",
       "      <td>Adagio in E-Flat Major, K. 15kk</td>\n",
       "      <td>0W5im1tQrvFFJsyN7vTkrn</td>\n",
       "      <td>9</td>\n",
       "    </tr>\n",
       "    <tr>\n",
       "      <th>1</th>\n",
       "      <td>Wolfgang Amadeus Mozart</td>\n",
       "      <td>Piano Concerto No. 22 in E-Flat Major, K. 482:...</td>\n",
       "      <td>6ocwwa81enSEm2V1v53Bd1</td>\n",
       "      <td>6</td>\n",
       "    </tr>\n",
       "    <tr>\n",
       "      <th>2</th>\n",
       "      <td>Wolfgang Amadeus Mozart</td>\n",
       "      <td>Flute Concerto No. 2 in D Major, K. 314: III. ...</td>\n",
       "      <td>29QCpPKYhugUzeHvsn0TGR</td>\n",
       "      <td>0</td>\n",
       "    </tr>\n",
       "    <tr>\n",
       "      <th>3</th>\n",
       "      <td>Wolfgang Amadeus Mozart</td>\n",
       "      <td>Symphony No. 41 in C Major, K. 551 \"Jupiter\": ...</td>\n",
       "      <td>2YD607JWYbXy16f7y3bYaZ</td>\n",
       "      <td>0</td>\n",
       "    </tr>\n",
       "    <tr>\n",
       "      <th>4</th>\n",
       "      <td>Wolfgang Amadeus Mozart</td>\n",
       "      <td>Don Giovanni, K. 527, Act I: \"Batti, batti o b...</td>\n",
       "      <td>2nkF3YTPHNTDnDCextgBmL</td>\n",
       "      <td>0</td>\n",
       "    </tr>\n",
       "  </tbody>\n",
       "</table>\n",
       "</div>"
      ],
      "text/plain": [
       "               artist_name                                         track_name  \\\n",
       "0  Wolfgang Amadeus Mozart                    Adagio in E-Flat Major, K. 15kk   \n",
       "1  Wolfgang Amadeus Mozart  Piano Concerto No. 22 in E-Flat Major, K. 482:...   \n",
       "2  Wolfgang Amadeus Mozart  Flute Concerto No. 2 in D Major, K. 314: III. ...   \n",
       "3  Wolfgang Amadeus Mozart  Symphony No. 41 in C Major, K. 551 \"Jupiter\": ...   \n",
       "4  Wolfgang Amadeus Mozart  Don Giovanni, K. 527, Act I: \"Batti, batti o b...   \n",
       "\n",
       "                 track_id  popularity  \n",
       "0  0W5im1tQrvFFJsyN7vTkrn           9  \n",
       "1  6ocwwa81enSEm2V1v53Bd1           6  \n",
       "2  29QCpPKYhugUzeHvsn0TGR           0  \n",
       "3  2YD607JWYbXy16f7y3bYaZ           0  \n",
       "4  2nkF3YTPHNTDnDCextgBmL           0  "
      ]
     },
     "execution_count": 6,
     "metadata": {},
     "output_type": "execute_result"
    }
   ],
   "source": [
    "\n",
    "import pandas as pd\n",
    "df_tracks = pd.DataFrame({'artist_name':artist_name,'track_name':track_name,'track_id':track_id,'popularity':popularity})\n",
    "print(df_tracks.shape)\n",
    "df_tracks.head()"
   ]
  },
  {
   "cell_type": "code",
   "execution_count": 7,
   "metadata": {},
   "outputs": [
    {
     "data": {
      "text/plain": [
       "(5040, 4)"
      ]
     },
     "execution_count": 7,
     "metadata": {},
     "output_type": "execute_result"
    }
   ],
   "source": [
    "# group the entries by artist_name and track_name and check for duplicates\n",
    "\n",
    "grouped = df_tracks.groupby(['artist_name','track_name'], as_index=True).size()\n",
    "grouped[grouped > 1].count()\n",
    "\n",
    "\n",
    "\n",
    "df_tracks.drop_duplicates(subset=['artist_name','track_name'], inplace=True)\n",
    "\n",
    "\n",
    "\n",
    "# doing the same grouping as before to verify the solution\n",
    "grouped_after_dropping = df_tracks.groupby(['artist_name','track_name'], as_index=True).size()\n",
    "grouped_after_dropping[grouped_after_dropping > 1].count()\n",
    "\n",
    "\n",
    "df_tracks[df_tracks.duplicated(subset=['artist_name','track_name'],keep=False)].count()\n",
    "df_tracks = shuffle(df_tracks)\n",
    "df_tracks.shape"
   ]
  },
  {
   "cell_type": "code",
   "execution_count": 8,
   "metadata": {},
   "outputs": [
    {
     "data": {
      "text/plain": [
       "<matplotlib.collections.PathCollection at 0xb4211d0>"
      ]
     },
     "execution_count": 8,
     "metadata": {},
     "output_type": "execute_result"
    },
    {
     "data": {
      "image/png": "[encoded data removed]",
      "text/plain": [
       "<Figure size 432x288 with 1 Axes>"
      ]
     },
     "metadata": {
      "needs_background": "light"
     },
     "output_type": "display_data"
    }
   ],
   "source": [
    "df = shuffle(df_tracks)\n",
    "plt.scatter(range(len(df)),df['popularity'])"
   ]
  },
  {
   "cell_type": "code",
   "execution_count": 9,
   "metadata": {},
   "outputs": [
    {
     "name": "stdout",
     "output_type": "stream",
     "text": [
      "Number of tracks where no audio features were available: 0\n",
      "Time to run this code (in seconds): 14.769107902999437\n"
     ]
    }
   ],
   "source": [
    "# again measuring the time\n",
    "start = timeit.default_timer()\n",
    "\n",
    "# empty list, batchsize and the counter for None results\n",
    "rows = []\n",
    "batchsize = 100\n",
    "None_counter = 0\n",
    "\n",
    "for i in range(0,len(df_tracks['track_id']),batchsize):\n",
    "    batch = df_tracks['track_id'][i:i+batchsize]\n",
    "    feature_results = sp.audio_features(batch)\n",
    "    for i, t in enumerate(feature_results):\n",
    "        if t == None:\n",
    "            None_counter = None_counter + 1\n",
    "        else:\n",
    "            rows.append(t)\n",
    "            \n",
    "print('Number of tracks where no audio features were available:',None_counter)\n",
    "\n",
    "stop = timeit.default_timer()\n",
    "print ('Time to run this code (in seconds):',stop - start)"
   ]
  },
  {
   "cell_type": "code",
   "execution_count": 10,
   "metadata": {},
   "outputs": [
    {
     "name": "stdout",
     "output_type": "stream",
     "text": [
      "number of elements in the track_id list: 5040\n"
     ]
    }
   ],
   "source": [
    "print('number of elements in the track_id list:', len(rows))"
   ]
  },
  {
   "cell_type": "code",
   "execution_count": 11,
   "metadata": {},
   "outputs": [
    {
     "name": "stdout",
     "output_type": "stream",
     "text": [
      "Shape of the dataset: (5040, 18)\n"
     ]
    },
    {
     "data": {
      "text/html": [
       "<div>\n",
       "<style scoped>\n",
       "    .dataframe tbody tr th:only-of-type {\n",
       "        vertical-align: middle;\n",
       "    }\n",
       "\n",
       "    .dataframe tbody tr th {\n",
       "        vertical-align: top;\n",
       "    }\n",
       "\n",
       "    .dataframe thead th {\n",
       "        text-align: right;\n",
       "    }\n",
       "</style>\n",
       "<table border=\"1\" class=\"dataframe\">\n",
       "  <thead>\n",
       "    <tr style=\"text-align: right;\">\n",
       "      <th></th>\n",
       "      <th>acousticness</th>\n",
       "      <th>analysis_url</th>\n",
       "      <th>danceability</th>\n",
       "      <th>duration_ms</th>\n",
       "      <th>energy</th>\n",
       "      <th>id</th>\n",
       "      <th>instrumentalness</th>\n",
       "      <th>key</th>\n",
       "      <th>liveness</th>\n",
       "      <th>loudness</th>\n",
       "      <th>mode</th>\n",
       "      <th>speechiness</th>\n",
       "      <th>tempo</th>\n",
       "      <th>time_signature</th>\n",
       "      <th>track_href</th>\n",
       "      <th>type</th>\n",
       "      <th>uri</th>\n",
       "      <th>valence</th>\n",
       "    </tr>\n",
       "  </thead>\n",
       "  <tbody>\n",
       "    <tr>\n",
       "      <th>0</th>\n",
       "      <td>0.99400</td>\n",
       "      <td>https://api.spotify.com/v1/audio-analysis/4Wjv...</td>\n",
       "      <td>0.305</td>\n",
       "      <td>218093</td>\n",
       "      <td>0.0272</td>\n",
       "      <td>4WjvJ6Ok5CLXokNX4YHbSS</td>\n",
       "      <td>0.771000</td>\n",
       "      <td>1</td>\n",
       "      <td>0.1150</td>\n",
       "      <td>-31.167</td>\n",
       "      <td>0</td>\n",
       "      <td>0.0420</td>\n",
       "      <td>79.243</td>\n",
       "      <td>3</td>\n",
       "      <td>https://api.spotify.com/v1/tracks/4WjvJ6Ok5CLX...</td>\n",
       "      <td>audio_features</td>\n",
       "      <td>spotify:track:4WjvJ6Ok5CLXokNX4YHbSS</td>\n",
       "      <td>0.1510</td>\n",
       "    </tr>\n",
       "    <tr>\n",
       "      <th>1</th>\n",
       "      <td>0.00438</td>\n",
       "      <td>https://api.spotify.com/v1/audio-analysis/2xCP...</td>\n",
       "      <td>0.434</td>\n",
       "      <td>562693</td>\n",
       "      <td>0.8840</td>\n",
       "      <td>2xCPy6z5qUIwHMHyRBRVSx</td>\n",
       "      <td>0.000676</td>\n",
       "      <td>7</td>\n",
       "      <td>0.2700</td>\n",
       "      <td>-6.342</td>\n",
       "      <td>1</td>\n",
       "      <td>0.0687</td>\n",
       "      <td>89.967</td>\n",
       "      <td>4</td>\n",
       "      <td>https://api.spotify.com/v1/tracks/2xCPy6z5qUIw...</td>\n",
       "      <td>audio_features</td>\n",
       "      <td>spotify:track:2xCPy6z5qUIwHMHyRBRVSx</td>\n",
       "      <td>0.2160</td>\n",
       "    </tr>\n",
       "    <tr>\n",
       "      <th>2</th>\n",
       "      <td>0.92700</td>\n",
       "      <td>https://api.spotify.com/v1/audio-analysis/1PY3...</td>\n",
       "      <td>0.614</td>\n",
       "      <td>197693</td>\n",
       "      <td>0.1970</td>\n",
       "      <td>1PY3j1faZLsURvoTXZ5rSw</td>\n",
       "      <td>0.810000</td>\n",
       "      <td>11</td>\n",
       "      <td>0.1390</td>\n",
       "      <td>-19.924</td>\n",
       "      <td>0</td>\n",
       "      <td>0.0346</td>\n",
       "      <td>81.294</td>\n",
       "      <td>4</td>\n",
       "      <td>https://api.spotify.com/v1/tracks/1PY3j1faZLsU...</td>\n",
       "      <td>audio_features</td>\n",
       "      <td>spotify:track:1PY3j1faZLsURvoTXZ5rSw</td>\n",
       "      <td>0.7590</td>\n",
       "    </tr>\n",
       "    <tr>\n",
       "      <th>3</th>\n",
       "      <td>0.98900</td>\n",
       "      <td>https://api.spotify.com/v1/audio-analysis/0uwQ...</td>\n",
       "      <td>0.409</td>\n",
       "      <td>339583</td>\n",
       "      <td>0.0340</td>\n",
       "      <td>0uwQ5v4To5HC2zhYTu2Qvb</td>\n",
       "      <td>0.926000</td>\n",
       "      <td>10</td>\n",
       "      <td>0.0868</td>\n",
       "      <td>-29.061</td>\n",
       "      <td>1</td>\n",
       "      <td>0.0571</td>\n",
       "      <td>81.051</td>\n",
       "      <td>4</td>\n",
       "      <td>https://api.spotify.com/v1/tracks/0uwQ5v4To5HC...</td>\n",
       "      <td>audio_features</td>\n",
       "      <td>spotify:track:0uwQ5v4To5HC2zhYTu2Qvb</td>\n",
       "      <td>0.0521</td>\n",
       "    </tr>\n",
       "    <tr>\n",
       "      <th>4</th>\n",
       "      <td>0.98100</td>\n",
       "      <td>https://api.spotify.com/v1/audio-analysis/2dW6...</td>\n",
       "      <td>0.504</td>\n",
       "      <td>55040</td>\n",
       "      <td>0.0816</td>\n",
       "      <td>2dW6B6Xlus66GLbHW6KCtp</td>\n",
       "      <td>0.000000</td>\n",
       "      <td>3</td>\n",
       "      <td>0.1400</td>\n",
       "      <td>-21.466</td>\n",
       "      <td>0</td>\n",
       "      <td>0.0806</td>\n",
       "      <td>74.789</td>\n",
       "      <td>1</td>\n",
       "      <td>https://api.spotify.com/v1/tracks/2dW6B6Xlus66...</td>\n",
       "      <td>audio_features</td>\n",
       "      <td>spotify:track:2dW6B6Xlus66GLbHW6KCtp</td>\n",
       "      <td>0.2300</td>\n",
       "    </tr>\n",
       "  </tbody>\n",
       "</table>\n",
       "</div>"
      ],
      "text/plain": [
       "   acousticness                                       analysis_url  \\\n",
       "0       0.99400  https://api.spotify.com/v1/audio-analysis/4Wjv...   \n",
       "1       0.00438  https://api.spotify.com/v1/audio-analysis/2xCP...   \n",
       "2       0.92700  https://api.spotify.com/v1/audio-analysis/1PY3...   \n",
       "3       0.98900  https://api.spotify.com/v1/audio-analysis/0uwQ...   \n",
       "4       0.98100  https://api.spotify.com/v1/audio-analysis/2dW6...   \n",
       "\n",
       "   danceability  duration_ms  energy                      id  \\\n",
       "0         0.305       218093  0.0272  4WjvJ6Ok5CLXokNX4YHbSS   \n",
       "1         0.434       562693  0.8840  2xCPy6z5qUIwHMHyRBRVSx   \n",
       "2         0.614       197693  0.1970  1PY3j1faZLsURvoTXZ5rSw   \n",
       "3         0.409       339583  0.0340  0uwQ5v4To5HC2zhYTu2Qvb   \n",
       "4         0.504        55040  0.0816  2dW6B6Xlus66GLbHW6KCtp   \n",
       "\n",
       "   instrumentalness  key  liveness  loudness  mode  speechiness   tempo  \\\n",
       "0          0.771000    1    0.1150   -31.167     0       0.0420  79.243   \n",
       "1          0.000676    7    0.2700    -6.342     1       0.0687  89.967   \n",
       "2          0.810000   11    0.1390   -19.924     0       0.0346  81.294   \n",
       "3          0.926000   10    0.0868   -29.061     1       0.0571  81.051   \n",
       "4          0.000000    3    0.1400   -21.466     0       0.0806  74.789   \n",
       "\n",
       "   time_signature                                         track_href  \\\n",
       "0               3  https://api.spotify.com/v1/tracks/4WjvJ6Ok5CLX...   \n",
       "1               4  https://api.spotify.com/v1/tracks/2xCPy6z5qUIw...   \n",
       "2               4  https://api.spotify.com/v1/tracks/1PY3j1faZLsU...   \n",
       "3               4  https://api.spotify.com/v1/tracks/0uwQ5v4To5HC...   \n",
       "4               1  https://api.spotify.com/v1/tracks/2dW6B6Xlus66...   \n",
       "\n",
       "             type                                   uri  valence  \n",
       "0  audio_features  spotify:track:4WjvJ6Ok5CLXokNX4YHbSS   0.1510  \n",
       "1  audio_features  spotify:track:2xCPy6z5qUIwHMHyRBRVSx   0.2160  \n",
       "2  audio_features  spotify:track:1PY3j1faZLsURvoTXZ5rSw   0.7590  \n",
       "3  audio_features  spotify:track:0uwQ5v4To5HC2zhYTu2Qvb   0.0521  \n",
       "4  audio_features  spotify:track:2dW6B6Xlus66GLbHW6KCtp   0.2300  "
      ]
     },
     "execution_count": 11,
     "metadata": {},
     "output_type": "execute_result"
    }
   ],
   "source": [
    "df_audio_features = pd.DataFrame.from_dict(rows,orient='columns')\n",
    "print(\"Shape of the dataset:\", df_audio_features.shape)\n",
    "df_audio_features.head()"
   ]
  },
  {
   "cell_type": "code",
   "execution_count": 12,
   "metadata": {},
   "outputs": [
    {
     "name": "stdout",
     "output_type": "stream",
     "text": [
      "<class 'pandas.core.frame.DataFrame'>\n",
      "RangeIndex: 5040 entries, 0 to 5039\n",
      "Data columns (total 18 columns):\n",
      "acousticness        5040 non-null float64\n",
      "analysis_url        5040 non-null object\n",
      "danceability        5040 non-null float64\n",
      "duration_ms         5040 non-null int64\n",
      "energy              5040 non-null float64\n",
      "id                  5040 non-null object\n",
      "instrumentalness    5040 non-null float64\n",
      "key                 5040 non-null int64\n",
      "liveness            5040 non-null float64\n",
      "loudness            5040 non-null float64\n",
      "mode                5040 non-null int64\n",
      "speechiness         5040 non-null float64\n",
      "tempo               5040 non-null float64\n",
      "time_signature      5040 non-null int64\n",
      "track_href          5040 non-null object\n",
      "type                5040 non-null object\n",
      "uri                 5040 non-null object\n",
      "valence             5040 non-null float64\n",
      "dtypes: float64(9), int64(4), object(5)\n",
      "memory usage: 708.8+ KB\n"
     ]
    }
   ],
   "source": [
    "df_audio_features.info()"
   ]
  },
  {
   "cell_type": "code",
   "execution_count": 13,
   "metadata": {},
   "outputs": [
    {
     "data": {
      "text/plain": [
       "(5040, 14)"
      ]
     },
     "execution_count": 13,
     "metadata": {},
     "output_type": "execute_result"
    }
   ],
   "source": [
    "columns_to_drop = ['analysis_url','track_href','type','uri']\n",
    "df_audio_features.drop(columns_to_drop, axis=1,inplace=True)\n",
    "\n",
    "df_audio_features.rename(columns={'id': 'track_id'}, inplace=True)\n",
    "\n",
    "df_audio_features.shape"
   ]
  },
  {
   "cell_type": "code",
   "execution_count": 14,
   "metadata": {},
   "outputs": [
    {
     "name": "stdout",
     "output_type": "stream",
     "text": [
      "Shape of the dataset: (5040, 14)\n"
     ]
    },
    {
     "data": {
      "text/html": [
       "<div>\n",
       "<style scoped>\n",
       "    .dataframe tbody tr th:only-of-type {\n",
       "        vertical-align: middle;\n",
       "    }\n",
       "\n",
       "    .dataframe tbody tr th {\n",
       "        vertical-align: top;\n",
       "    }\n",
       "\n",
       "    .dataframe thead th {\n",
       "        text-align: right;\n",
       "    }\n",
       "</style>\n",
       "<table border=\"1\" class=\"dataframe\">\n",
       "  <thead>\n",
       "    <tr style=\"text-align: right;\">\n",
       "      <th></th>\n",
       "      <th>artist_name</th>\n",
       "      <th>track_name</th>\n",
       "      <th>track_id</th>\n",
       "      <th>popularity</th>\n",
       "      <th>acousticness</th>\n",
       "      <th>danceability</th>\n",
       "      <th>duration_ms</th>\n",
       "      <th>energy</th>\n",
       "      <th>instrumentalness</th>\n",
       "      <th>key</th>\n",
       "      <th>liveness</th>\n",
       "      <th>loudness</th>\n",
       "      <th>mode</th>\n",
       "      <th>speechiness</th>\n",
       "      <th>tempo</th>\n",
       "      <th>time_signature</th>\n",
       "      <th>valence</th>\n",
       "    </tr>\n",
       "  </thead>\n",
       "  <tbody>\n",
       "    <tr>\n",
       "      <th>0</th>\n",
       "      <td>Frédéric Chopin</td>\n",
       "      <td>Waltz No. 7 in C-Sharp Minor, Op. 64, No. 2</td>\n",
       "      <td>4WjvJ6Ok5CLXokNX4YHbSS</td>\n",
       "      <td>50</td>\n",
       "      <td>0.99400</td>\n",
       "      <td>0.305</td>\n",
       "      <td>218093</td>\n",
       "      <td>0.0272</td>\n",
       "      <td>0.771000</td>\n",
       "      <td>1</td>\n",
       "      <td>0.1150</td>\n",
       "      <td>-31.167</td>\n",
       "      <td>0</td>\n",
       "      <td>0.0420</td>\n",
       "      <td>79.243</td>\n",
       "      <td>3</td>\n",
       "      <td>0.1510</td>\n",
       "    </tr>\n",
       "    <tr>\n",
       "      <th>1</th>\n",
       "      <td>Rhapsody Of Fire</td>\n",
       "      <td>March Against the Tyrant</td>\n",
       "      <td>2xCPy6z5qUIwHMHyRBRVSx</td>\n",
       "      <td>48</td>\n",
       "      <td>0.00438</td>\n",
       "      <td>0.434</td>\n",
       "      <td>562693</td>\n",
       "      <td>0.8840</td>\n",
       "      <td>0.000676</td>\n",
       "      <td>7</td>\n",
       "      <td>0.2700</td>\n",
       "      <td>-6.342</td>\n",
       "      <td>1</td>\n",
       "      <td>0.0687</td>\n",
       "      <td>89.967</td>\n",
       "      <td>4</td>\n",
       "      <td>0.2160</td>\n",
       "    </tr>\n",
       "    <tr>\n",
       "      <th>2</th>\n",
       "      <td>Johann Sebastian Bach</td>\n",
       "      <td>Orchestral Suite No. 4 in D Major, BWV 1069: I...</td>\n",
       "      <td>1PY3j1faZLsURvoTXZ5rSw</td>\n",
       "      <td>6</td>\n",
       "      <td>0.92700</td>\n",
       "      <td>0.614</td>\n",
       "      <td>197693</td>\n",
       "      <td>0.1970</td>\n",
       "      <td>0.810000</td>\n",
       "      <td>11</td>\n",
       "      <td>0.1390</td>\n",
       "      <td>-19.924</td>\n",
       "      <td>0</td>\n",
       "      <td>0.0346</td>\n",
       "      <td>81.294</td>\n",
       "      <td>4</td>\n",
       "      <td>0.7590</td>\n",
       "    </tr>\n",
       "    <tr>\n",
       "      <th>3</th>\n",
       "      <td>Frédéric Chopin</td>\n",
       "      <td>Nocturnes, Op. 9: II. Andante in E-Flat Major</td>\n",
       "      <td>0uwQ5v4To5HC2zhYTu2Qvb</td>\n",
       "      <td>8</td>\n",
       "      <td>0.98900</td>\n",
       "      <td>0.409</td>\n",
       "      <td>339583</td>\n",
       "      <td>0.0340</td>\n",
       "      <td>0.926000</td>\n",
       "      <td>10</td>\n",
       "      <td>0.0868</td>\n",
       "      <td>-29.061</td>\n",
       "      <td>1</td>\n",
       "      <td>0.0571</td>\n",
       "      <td>81.051</td>\n",
       "      <td>4</td>\n",
       "      <td>0.0521</td>\n",
       "    </tr>\n",
       "    <tr>\n",
       "      <th>4</th>\n",
       "      <td>Johann Sebastian Bach</td>\n",
       "      <td>Markus Passion, BWV 247: Recitativo (Evangelis...</td>\n",
       "      <td>2dW6B6Xlus66GLbHW6KCtp</td>\n",
       "      <td>25</td>\n",
       "      <td>0.98100</td>\n",
       "      <td>0.504</td>\n",
       "      <td>55040</td>\n",
       "      <td>0.0816</td>\n",
       "      <td>0.000000</td>\n",
       "      <td>3</td>\n",
       "      <td>0.1400</td>\n",
       "      <td>-21.466</td>\n",
       "      <td>0</td>\n",
       "      <td>0.0806</td>\n",
       "      <td>74.789</td>\n",
       "      <td>1</td>\n",
       "      <td>0.2300</td>\n",
       "    </tr>\n",
       "  </tbody>\n",
       "</table>\n",
       "</div>"
      ],
      "text/plain": [
       "             artist_name                                         track_name  \\\n",
       "0        Frédéric Chopin        Waltz No. 7 in C-Sharp Minor, Op. 64, No. 2   \n",
       "1       Rhapsody Of Fire                           March Against the Tyrant   \n",
       "2  Johann Sebastian Bach  Orchestral Suite No. 4 in D Major, BWV 1069: I...   \n",
       "3        Frédéric Chopin      Nocturnes, Op. 9: II. Andante in E-Flat Major   \n",
       "4  Johann Sebastian Bach  Markus Passion, BWV 247: Recitativo (Evangelis...   \n",
       "\n",
       "                 track_id  popularity  acousticness  danceability  \\\n",
       "0  4WjvJ6Ok5CLXokNX4YHbSS          50       0.99400         0.305   \n",
       "1  2xCPy6z5qUIwHMHyRBRVSx          48       0.00438         0.434   \n",
       "2  1PY3j1faZLsURvoTXZ5rSw           6       0.92700         0.614   \n",
       "3  0uwQ5v4To5HC2zhYTu2Qvb           8       0.98900         0.409   \n",
       "4  2dW6B6Xlus66GLbHW6KCtp          25       0.98100         0.504   \n",
       "\n",
       "   duration_ms  energy  instrumentalness  key  liveness  loudness  mode  \\\n",
       "0       218093  0.0272          0.771000    1    0.1150   -31.167     0   \n",
       "1       562693  0.8840          0.000676    7    0.2700    -6.342     1   \n",
       "2       197693  0.1970          0.810000   11    0.1390   -19.924     0   \n",
       "3       339583  0.0340          0.926000   10    0.0868   -29.061     1   \n",
       "4        55040  0.0816          0.000000    3    0.1400   -21.466     0   \n",
       "\n",
       "   speechiness   tempo  time_signature  valence  \n",
       "0       0.0420  79.243               3   0.1510  \n",
       "1       0.0687  89.967               4   0.2160  \n",
       "2       0.0346  81.294               4   0.7590  \n",
       "3       0.0571  81.051               4   0.0521  \n",
       "4       0.0806  74.789               1   0.2300  "
      ]
     },
     "execution_count": 14,
     "metadata": {},
     "output_type": "execute_result"
    }
   ],
   "source": [
    "# merge both dataframes\n",
    "# the 'inner' method will make sure that we only keep track IDs present in both datasets\n",
    "df = pd.merge(df_tracks,df_audio_features,on='track_id',how='inner')\n",
    "print(\"Shape of the dataset:\", df_audio_features.shape)\n",
    "df.head()"
   ]
  },
  {
   "cell_type": "code",
   "execution_count": 15,
   "metadata": {},
   "outputs": [
    {
     "name": "stdout",
     "output_type": "stream",
     "text": [
      "<class 'pandas.core.frame.DataFrame'>\n",
      "Int64Index: 5040 entries, 0 to 5039\n",
      "Data columns (total 17 columns):\n",
      "artist_name         5040 non-null object\n",
      "track_name          5040 non-null object\n",
      "track_id            5040 non-null object\n",
      "popularity          5040 non-null int64\n",
      "acousticness        5040 non-null float64\n",
      "danceability        5040 non-null float64\n",
      "duration_ms         5040 non-null int64\n",
      "energy              5040 non-null float64\n",
      "instrumentalness    5040 non-null float64\n",
      "key                 5040 non-null int64\n",
      "liveness            5040 non-null float64\n",
      "loudness            5040 non-null float64\n",
      "mode                5040 non-null int64\n",
      "speechiness         5040 non-null float64\n",
      "tempo               5040 non-null float64\n",
      "time_signature      5040 non-null int64\n",
      "valence             5040 non-null float64\n",
      "dtypes: float64(9), int64(5), object(3)\n",
      "memory usage: 708.8+ KB\n"
     ]
    }
   ],
   "source": [
    "df.info()"
   ]
  },
  {
   "cell_type": "code",
   "execution_count": 16,
   "metadata": {},
   "outputs": [
    {
     "data": {
      "text/html": [
       "<div>\n",
       "<style scoped>\n",
       "    .dataframe tbody tr th:only-of-type {\n",
       "        vertical-align: middle;\n",
       "    }\n",
       "\n",
       "    .dataframe tbody tr th {\n",
       "        vertical-align: top;\n",
       "    }\n",
       "\n",
       "    .dataframe thead th {\n",
       "        text-align: right;\n",
       "    }\n",
       "</style>\n",
       "<table border=\"1\" class=\"dataframe\">\n",
       "  <thead>\n",
       "    <tr style=\"text-align: right;\">\n",
       "      <th></th>\n",
       "      <th>artist_name</th>\n",
       "      <th>track_name</th>\n",
       "      <th>track_id</th>\n",
       "      <th>popularity</th>\n",
       "      <th>acousticness</th>\n",
       "      <th>danceability</th>\n",
       "      <th>duration_ms</th>\n",
       "      <th>energy</th>\n",
       "      <th>instrumentalness</th>\n",
       "      <th>key</th>\n",
       "      <th>liveness</th>\n",
       "      <th>loudness</th>\n",
       "      <th>mode</th>\n",
       "      <th>speechiness</th>\n",
       "      <th>tempo</th>\n",
       "      <th>time_signature</th>\n",
       "      <th>valence</th>\n",
       "    </tr>\n",
       "  </thead>\n",
       "  <tbody>\n",
       "  </tbody>\n",
       "</table>\n",
       "</div>"
      ],
      "text/plain": [
       "Empty DataFrame\n",
       "Columns: [artist_name, track_name, track_id, popularity, acousticness, danceability, duration_ms, energy, instrumentalness, key, liveness, loudness, mode, speechiness, tempo, time_signature, valence]\n",
       "Index: []"
      ]
     },
     "execution_count": 16,
     "metadata": {},
     "output_type": "execute_result"
    }
   ],
   "source": [
    "df[df.duplicated(subset=['artist_name','track_name'],keep=False)]"
   ]
  },
  {
   "cell_type": "code",
   "execution_count": 17,
   "metadata": {},
   "outputs": [],
   "source": [
    "df.to_csv('SpotifyAudioFeaturesclassical.csv')"
   ]
  }
 ],
 "metadata": {
  "kernelspec": {
   "display_name": "Python 3",
   "language": "python",
   "name": "python3"
  },
  "language_info": {
   "codemirror_mode": {
    "name": "ipython",
    "version": 3
   },
   "file_extension": ".py",
   "mimetype": "text/x-python",
   "name": "python",
   "nbconvert_exporter": "python",
   "pygments_lexer": "ipython3",
   "version": "3.6.7"
  }
 },
 "nbformat": 4,
 "nbformat_minor": 2
}
