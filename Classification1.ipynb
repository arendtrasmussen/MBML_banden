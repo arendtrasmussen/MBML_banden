{
 "cells": [
  {
   "cell_type": "markdown",
   "metadata": {},
   "source": [
    "# Classification of genre - logistic regression and hierarchical model"
   ]
  },
  {
   "cell_type": "markdown",
   "metadata": {},
   "source": [
    "Importing required libraries:"
   ]
  },
  {
   "cell_type": "code",
   "execution_count": 1,
   "metadata": {},
   "outputs": [],
   "source": [
    "import numpy as np\n",
    "import pandas as pd\n",
    "from matplotlib import pyplot as plt\n",
    "from sklearn import linear_model\n",
    "import pystan\n",
    "import pystan_utils\n",
    "from sklearn.utils import shuffle\n",
    "\n",
    "# fix random generator seed (for reproducibility of results)\n",
    "np.random.seed(42)\n",
    "\n",
    "# matplotlib style options\n",
    "plt.style.use('ggplot')\n",
    "%matplotlib inline\n",
    "plt.rcParams['figure.figsize'] = (16, 10)"
   ]
  },
  {
   "cell_type": "markdown",
   "metadata": {},
   "source": [
    "Loading data:"
   ]
  },
  {
   "cell_type": "code",
   "execution_count": 4,
   "metadata": {},
   "outputs": [],
   "source": [
    "#### pop = 1 ####\n",
    "pop1 = pd.read_csv(\"SpotifyAudioFeatures2017.csv\")\n",
    "pop2 = pd.read_csv(\"SpotifyAudioFeatures2018.csv\")\n",
    "pop3 = pd.read_csv(\"SpotifyAudioFeatures2019.csv\")\n",
    "df_pop = pd.concat([pop1, pop2,pop3])\n",
    "df_pop[\"genre\"] = [1]*len(df_pop)\n",
    "\n",
    "#### metal = 2 ####\n",
    "met1 = pd.read_csv(\"SpotifyAudioFeatures2017metal.csv\")\n",
    "met2 = pd.read_csv(\"SpotifyAudioFeatures2018metal.csv\")\n",
    "met3 = pd.read_csv(\"SpotifyAudioFeatures2019metal.csv\")\n",
    "df_met = pd.concat([met1, met2, met3])\n",
    "#df_met = pd.read_csv(\"SpotifyAudioFeatures201720182019metal.csv\")\n",
    "df_met[\"genre\"] = [2]*len(df_met)\n",
    "\n",
    "#### classical = 3 ####\n",
    "df_clas = pd.read_csv(\"SpotifyAudioFeaturesclassical.csv\")\n",
    "df_clas[\"genre\"] = [3]*len(df_clas)\n",
    "\n",
    "#### rap = 4 ####\n",
    "rap1 = pd.read_csv(\"SpotifyAudioFeatures2017rap.csv\")\n",
    "rap2 = pd.read_csv(\"SpotifyAudioFeatures2018rap.csv\")\n",
    "rap3 = pd.read_csv(\"SpotifyAudioFeatures2019rap.csv\")\n",
    "df_rap = pd.concat([rap1, rap2, rap3])\n",
    "#df_rap = pd.read_csv(\"SpotifyAudioFeatures201720182019rap.csv\")\n",
    "df_rap[\"genre\"] = [4]*len(df_rap)\n",
    "\n",
    "df = pd.concat([df_rap,df_met,df_clas,df_pop])\n",
    "#df.to_csv(\"genredata.csv\")"
   ]
  },
  {
   "cell_type": "code",
   "execution_count": 5,
   "metadata": {},
   "outputs": [
    {
     "name": "stdout",
     "output_type": "stream",
     "text": [
      "Shape of pop (1):  (6018, 19)\n",
      "Shape of metal (2):  (6010, 19)\n",
      "Shape of classical (3):  (5040, 19)\n",
      "Shape of rap (4):  (5928, 19)\n"
     ]
    }
   ],
   "source": [
    "print(\"Shape of pop (1): \", df_pop.shape)\n",
    "print(\"Shape of metal (2): \", df_met.shape)\n",
    "print(\"Shape of classical (3): \", df_clas.shape) \n",
    "print(\"Shape of rap (4): \",df_rap.shape)"
   ]
  },
  {
   "cell_type": "code",
   "execution_count": 6,
   "metadata": {
    "scrolled": true
   },
   "outputs": [
    {
     "data": {
      "text/html": [
       "<div>\n",
       "<style scoped>\n",
       "    .dataframe tbody tr th:only-of-type {\n",
       "        vertical-align: middle;\n",
       "    }\n",
       "\n",
       "    .dataframe tbody tr th {\n",
       "        vertical-align: top;\n",
       "    }\n",
       "\n",
       "    .dataframe thead th {\n",
       "        text-align: right;\n",
       "    }\n",
       "</style>\n",
       "<table border=\"1\" class=\"dataframe\">\n",
       "  <thead>\n",
       "    <tr style=\"text-align: right;\">\n",
       "      <th></th>\n",
       "      <th>Unnamed: 0</th>\n",
       "      <th>artist_name</th>\n",
       "      <th>track_name</th>\n",
       "      <th>track_id</th>\n",
       "      <th>popularity</th>\n",
       "      <th>acousticness</th>\n",
       "      <th>danceability</th>\n",
       "      <th>duration_ms</th>\n",
       "      <th>energy</th>\n",
       "      <th>instrumentalness</th>\n",
       "      <th>key</th>\n",
       "      <th>liveness</th>\n",
       "      <th>loudness</th>\n",
       "      <th>mode</th>\n",
       "      <th>speechiness</th>\n",
       "      <th>tempo</th>\n",
       "      <th>time_signature</th>\n",
       "      <th>valence</th>\n",
       "      <th>genre</th>\n",
       "    </tr>\n",
       "  </thead>\n",
       "  <tbody>\n",
       "    <tr>\n",
       "      <th>0</th>\n",
       "      <td>0</td>\n",
       "      <td>Metro Boomin</td>\n",
       "      <td>Up To Something (feat. Travis Scott &amp; Young Thug)</td>\n",
       "      <td>4RGacGFT2ztXhGgzeaYzIR</td>\n",
       "      <td>66</td>\n",
       "      <td>0.3190</td>\n",
       "      <td>0.799</td>\n",
       "      <td>184360</td>\n",
       "      <td>0.616</td>\n",
       "      <td>0.000000</td>\n",
       "      <td>1</td>\n",
       "      <td>0.1340</td>\n",
       "      <td>-8.809</td>\n",
       "      <td>1</td>\n",
       "      <td>0.1570</td>\n",
       "      <td>114.014</td>\n",
       "      <td>4</td>\n",
       "      <td>0.6670</td>\n",
       "      <td>4</td>\n",
       "    </tr>\n",
       "    <tr>\n",
       "      <th>1</th>\n",
       "      <td>1</td>\n",
       "      <td>Bryson Tiller</td>\n",
       "      <td>Run Me Dry</td>\n",
       "      <td>5GG3knKdxKWrNboRijxeKF</td>\n",
       "      <td>70</td>\n",
       "      <td>0.3930</td>\n",
       "      <td>0.646</td>\n",
       "      <td>169267</td>\n",
       "      <td>0.756</td>\n",
       "      <td>0.000032</td>\n",
       "      <td>9</td>\n",
       "      <td>0.2020</td>\n",
       "      <td>-9.017</td>\n",
       "      <td>0</td>\n",
       "      <td>0.4870</td>\n",
       "      <td>193.881</td>\n",
       "      <td>4</td>\n",
       "      <td>0.5960</td>\n",
       "      <td>4</td>\n",
       "    </tr>\n",
       "    <tr>\n",
       "      <th>2</th>\n",
       "      <td>2</td>\n",
       "      <td>Denzel Curry</td>\n",
       "      <td>SUPER SAIYAN SUPERMAN | ZUPER ZA1YAN ZUPERMAN</td>\n",
       "      <td>3HXSQWIyz7CUEI96kUurwn</td>\n",
       "      <td>63</td>\n",
       "      <td>0.0543</td>\n",
       "      <td>0.760</td>\n",
       "      <td>132813</td>\n",
       "      <td>0.715</td>\n",
       "      <td>0.000009</td>\n",
       "      <td>1</td>\n",
       "      <td>0.1190</td>\n",
       "      <td>-7.128</td>\n",
       "      <td>1</td>\n",
       "      <td>0.0428</td>\n",
       "      <td>142.035</td>\n",
       "      <td>4</td>\n",
       "      <td>0.0479</td>\n",
       "      <td>4</td>\n",
       "    </tr>\n",
       "    <tr>\n",
       "      <th>3</th>\n",
       "      <td>3</td>\n",
       "      <td>Joey Bada$$</td>\n",
       "      <td>TEMPTATION</td>\n",
       "      <td>7L9g4cPfohScjJ8mGwLQWr</td>\n",
       "      <td>70</td>\n",
       "      <td>0.3970</td>\n",
       "      <td>0.775</td>\n",
       "      <td>244198</td>\n",
       "      <td>0.707</td>\n",
       "      <td>0.000000</td>\n",
       "      <td>10</td>\n",
       "      <td>0.8740</td>\n",
       "      <td>-5.339</td>\n",
       "      <td>0</td>\n",
       "      <td>0.1520</td>\n",
       "      <td>104.979</td>\n",
       "      <td>4</td>\n",
       "      <td>0.7800</td>\n",
       "      <td>4</td>\n",
       "    </tr>\n",
       "    <tr>\n",
       "      <th>4</th>\n",
       "      <td>4</td>\n",
       "      <td>Offset</td>\n",
       "      <td>Legacy (feat. Travis Scott &amp; 21 Savage)</td>\n",
       "      <td>7pMRoGLEJuFM2wl5pt0R99</td>\n",
       "      <td>85</td>\n",
       "      <td>0.1780</td>\n",
       "      <td>0.844</td>\n",
       "      <td>244941</td>\n",
       "      <td>0.513</td>\n",
       "      <td>0.000000</td>\n",
       "      <td>1</td>\n",
       "      <td>0.0845</td>\n",
       "      <td>-8.769</td>\n",
       "      <td>1</td>\n",
       "      <td>0.3350</td>\n",
       "      <td>128.085</td>\n",
       "      <td>4</td>\n",
       "      <td>0.3440</td>\n",
       "      <td>4</td>\n",
       "    </tr>\n",
       "  </tbody>\n",
       "</table>\n",
       "</div>"
      ],
      "text/plain": [
       "   Unnamed: 0    artist_name  \\\n",
       "0           0   Metro Boomin   \n",
       "1           1  Bryson Tiller   \n",
       "2           2   Denzel Curry   \n",
       "3           3    Joey Bada$$   \n",
       "4           4         Offset   \n",
       "\n",
       "                                          track_name                track_id  \\\n",
       "0  Up To Something (feat. Travis Scott & Young Thug)  4RGacGFT2ztXhGgzeaYzIR   \n",
       "1                                         Run Me Dry  5GG3knKdxKWrNboRijxeKF   \n",
       "2      SUPER SAIYAN SUPERMAN | ZUPER ZA1YAN ZUPERMAN  3HXSQWIyz7CUEI96kUurwn   \n",
       "3                                         TEMPTATION  7L9g4cPfohScjJ8mGwLQWr   \n",
       "4            Legacy (feat. Travis Scott & 21 Savage)  7pMRoGLEJuFM2wl5pt0R99   \n",
       "\n",
       "   popularity  acousticness  danceability  duration_ms  energy  \\\n",
       "0          66        0.3190         0.799       184360   0.616   \n",
       "1          70        0.3930         0.646       169267   0.756   \n",
       "2          63        0.0543         0.760       132813   0.715   \n",
       "3          70        0.3970         0.775       244198   0.707   \n",
       "4          85        0.1780         0.844       244941   0.513   \n",
       "\n",
       "   instrumentalness  key  liveness  loudness  mode  speechiness    tempo  \\\n",
       "0          0.000000    1    0.1340    -8.809     1       0.1570  114.014   \n",
       "1          0.000032    9    0.2020    -9.017     0       0.4870  193.881   \n",
       "2          0.000009    1    0.1190    -7.128     1       0.0428  142.035   \n",
       "3          0.000000   10    0.8740    -5.339     0       0.1520  104.979   \n",
       "4          0.000000    1    0.0845    -8.769     1       0.3350  128.085   \n",
       "\n",
       "   time_signature  valence  genre  \n",
       "0               4   0.6670      4  \n",
       "1               4   0.5960      4  \n",
       "2               4   0.0479      4  \n",
       "3               4   0.7800      4  \n",
       "4               4   0.3440      4  "
      ]
     },
     "execution_count": 6,
     "metadata": {},
     "output_type": "execute_result"
    }
   ],
   "source": [
    "# load csv\n",
    "df_tracks = pd.read_csv(\"genredata.csv\")\n",
    "df_tracks = df\n",
    "#df_tracks = df_tracks.drop(['Unnamed: 0','Unnamed: 0.1'], axis=1)\n",
    "df_tracks = df_tracks.dropna(axis = 0)\n",
    "df_tracks.head()"
   ]
  },
  {
   "cell_type": "markdown",
   "metadata": {},
   "source": [
    "Preprocessing data:"
   ]
  },
  {
   "cell_type": "code",
   "execution_count": 48,
   "metadata": {},
   "outputs": [
    {
     "data": {
      "text/plain": [
       "(13200, 19)"
      ]
     },
     "execution_count": 48,
     "metadata": {},
     "output_type": "execute_result"
    }
   ],
   "source": [
    "#df_tracks = shuffle(df_tracks)\n",
    "grouped = df_tracks.groupby(['artist_name','track_name'], as_index=True).size()\n",
    "grouped[grouped > 1].count()\n",
    "df_tracks.drop_duplicates(subset=['artist_name','track_name'], inplace=True)\n",
    "\n",
    "# doing the same grouping as before to verify the solution\n",
    "grouped_after_dropping = df_tracks.groupby(['artist_name','track_name'], as_index=True).size()\n",
    "grouped_after_dropping[grouped_after_dropping > 1].count()\n",
    "\n",
    "df_tracks[df_tracks.duplicated(subset=['artist_name','track_name'],keep=False)].count()\n",
    "df = df_tracks\n",
    "#df = shuffle(df)\n",
    "df.shape\n",
    "#ind = df[\"Unnamed: 0\"]\n",
    "#df.to_csv(\"genredata.csv\")"
   ]
  },
  {
   "cell_type": "markdown",
   "metadata": {},
   "source": [
    "# Working with dataset \"genredata.csv\""
   ]
  },
  {
   "cell_type": "code",
   "execution_count": 1,
   "metadata": {},
   "outputs": [],
   "source": [
    "import numpy as np\n",
    "import pandas as pd\n",
    "from matplotlib import pyplot as plt\n",
    "from sklearn import linear_model\n",
    "import pystan\n",
    "import pystan_utils\n",
    "from sklearn.utils import shuffle\n",
    "\n",
    "# fix random generator seed (for reproducibility of results)\n",
    "np.random.seed(42)\n",
    "\n",
    "# matplotlib style options\n",
    "plt.style.use('ggplot')\n",
    "%matplotlib inline\n",
    "plt.rcParams['figure.figsize'] = (16, 10)"
   ]
  },
  {
   "cell_type": "code",
   "execution_count": 2,
   "metadata": {},
   "outputs": [
    {
     "data": {
      "text/plain": [
       "6018"
      ]
     },
     "execution_count": 2,
     "metadata": {},
     "output_type": "execute_result"
    }
   ],
   "source": [
    "df = pd.read_csv(\"genredata.csv\")\n",
    "len(df[df[\"genre\"]==1])"
   ]
  },
  {
   "cell_type": "code",
   "execution_count": 3,
   "metadata": {
    "scrolled": true
   },
   "outputs": [
    {
     "data": {
      "image/png": "[encoded data removed]",
      "text/plain": [
       "<Figure size 432x288 with 1 Axes>"
      ]
     },
     "metadata": {},
     "output_type": "display_data"
    }
   ],
   "source": [
    "plt.hist(df['genre'])\n",
    "plt.ylabel('Count')\n",
    "plt.title('Genre frequency')\n",
    "plt.xticks(rotation=90)\n",
    "plt.show()"
   ]
  },
  {
   "cell_type": "code",
   "execution_count": 4,
   "metadata": {},
   "outputs": [],
   "source": [
    "import seaborn as sb"
   ]
  },
  {
   "cell_type": "code",
   "execution_count": 5,
   "metadata": {},
   "outputs": [
    {
     "data": {
      "image/png": "[encoded data removed]",
      "text/plain": [
       "<Figure size 432x288 with 1 Axes>"
      ]
     },
     "metadata": {},
     "output_type": "display_data"
    }
   ],
   "source": [
    "ax = sb.kdeplot(df[\"genre\"], shade=True, color=\"r\") #Show distribution of genres (classes)"
   ]
  },
  {
   "cell_type": "code",
   "execution_count": 6,
   "metadata": {},
   "outputs": [
    {
     "name": "stdout",
     "output_type": "stream",
     "text": [
      "   Unnamed: 0  Unnamed: 0.1  popularity  acousticness  danceability  \\\n",
      "0           0             0          67       0.13900         0.725   \n",
      "1           1             1          71       0.01580         0.870   \n",
      "2           2             2          71       0.12500         0.813   \n",
      "3           3             3          70       0.00980         0.922   \n",
      "4           4             4          74       0.00022         0.524   \n",
      "\n",
      "   duration_ms  energy  instrumentalness  key  liveness  loudness  mode  \\\n",
      "0       181867   0.659          0.000000    9    0.1060    -4.537     1   \n",
      "1       191410   0.656          0.000000    8    0.1060    -5.081     1   \n",
      "2       224533   0.703          0.000001   11    0.2370    -5.077     0   \n",
      "3       261615   0.583          0.000000    5    0.0962    -4.982     1   \n",
      "4       184867   0.939          0.000000    9    0.6230    -3.994     1   \n",
      "\n",
      "   speechiness    tempo  time_signature  valence  genre  \n",
      "0       0.2460  160.062               4    0.560      4  \n",
      "1       0.1170  162.835               4    0.416      4  \n",
      "2       0.2680   94.828               4    0.241      4  \n",
      "3       0.0753  136.043               4    0.494      4  \n",
      "4       0.1130  150.184               4    0.661      4  \n",
      "(18325, 14)\n",
      "(18325,)\n"
     ]
    }
   ],
   "source": [
    "# separate between features/inputs (X) and target/output variables (y)\n",
    "mat = df.drop(['artist_name','track_name','track_id'],axis = 1)\n",
    "print(mat.head())\n",
    "mat = mat.values\n",
    "X = mat[:,2:-1].astype(\"float\")\n",
    "print(X.shape)\n",
    "y = mat[:,-1].astype(\"int\")\n",
    "print(y.shape)\n",
    "ind = mat[:,0].astype(\"int\")+1\n"
   ]
  },
  {
   "cell_type": "code",
   "execution_count": 7,
   "metadata": {},
   "outputs": [],
   "source": [
    "# standardize input features\n",
    "X_mean = X.mean(axis=0)\n",
    "X_std = X.std(axis=0)\n",
    "X = (X - X_mean) / X_std"
   ]
  },
  {
   "cell_type": "markdown",
   "metadata": {},
   "source": [
    "Train/test split:"
   ]
  },
  {
   "cell_type": "code",
   "execution_count": 8,
   "metadata": {},
   "outputs": [
    {
     "name": "stdout",
     "output_type": "stream",
     "text": [
      "num train: 12094\n",
      "num test: 6231\n"
     ]
    }
   ],
   "source": [
    "train_perc = 0.66 # percentage of training data\n",
    "split_point = int(train_perc*len(y))\n",
    "perm = np.random.permutation(len(y))\n",
    "ix_train = perm[:split_point]\n",
    "ix_test = perm[split_point:]\n",
    "X_train = X[ix_train,:]\n",
    "X_test = X[ix_test,:]\n",
    "ind_train = ind[ix_train]\n",
    "ind_test = ind[ix_test]\n",
    "y_train = y[ix_train]\n",
    "y_test = y[ix_test]\n",
    "print(\"num train: %d\" % len(y_train))\n",
    "print(\"num test: %d\" % len(y_test))"
   ]
  },
  {
   "cell_type": "code",
   "execution_count": 9,
   "metadata": {},
   "outputs": [
    {
     "data": {
      "text/plain": [
       "array([ 7495, 18249,  9574, ..., 15004,  3138, 17835])"
      ]
     },
     "execution_count": 9,
     "metadata": {},
     "output_type": "execute_result"
    }
   ],
   "source": [
    "ix_train"
   ]
  },
  {
   "cell_type": "markdown",
   "metadata": {},
   "source": [
    "Our baseline logistic regression model from sklearn:"
   ]
  },
  {
   "cell_type": "code",
   "execution_count": 10,
   "metadata": {},
   "outputs": [
    {
     "name": "stdout",
     "output_type": "stream",
     "text": [
      "Predictions: [1 2 4 ... 2 4 1]\n",
      "True values: [4 2 4 ... 2 4 1]\n",
      "Accuracy: 0.7896003851709196\n"
     ]
    }
   ],
   "source": [
    "# create and fit logistic regression model\n",
    "logreg = linear_model.LogisticRegression(solver='lbfgs', multi_class='multinomial')\n",
    "logreg.fit(X_train, y_train)\n",
    "\n",
    "# make predictions for test set\n",
    "y_hat = logreg.predict(X_test)\n",
    "print(\"Predictions:\", y_hat)\n",
    "print(\"True values:\", y_test)\n",
    "\n",
    "# evaluate prediction accuracy\n",
    "print(\"Accuracy:\", 1.0*np.sum(y_hat == y_test) / len(y_test))"
   ]
  },
  {
   "cell_type": "markdown",
   "metadata": {},
   "source": [
    "## Hierarchical logistic regression in STAN\n",
    "\n",
    "Our dataset consists of multiple observations from various tracks. However, when we build our original logistic regression in STAN, our specification assumes that all tracks share a unique set of bias (alpha) coefficients (beta). In other words, this is equivalent to assuming, for example, that all tracks are equally biased towards a given genre (e.g. pop). This is obviously a very strong assumption. We should allow different tracks to have different biases (alpha).\n",
    "\n",
    "This can be done by placing a hierarchical prior on the intercepts (alpha). The generative process then becomes:\n",
    "\n",
    "1. For each class $c \\in \\{1,\\dots,C\\}$\n",
    "    2. Draw global mean parameters $\\mu_c \\sim \\mathcal{N}(0,10)$\n",
    "    3. Draw global variance parameters $\\sigma_c \\sim \\mbox{Cauchy}(0,10)$\n",
    "    5. Draw coefficients $\\boldsymbol\\beta_c \\sim \\mathcal{N}(\\textbf{0},10 \\, \\textbf{I})$ (this the same as before...)\n",
    "    6. For each track $i \\in \\{1,\\dots,I\\}$\n",
    "        4. Draw $\\alpha_{i,c}$ such that $\\alpha_{i,c} \\sim \\mathcal{N}(\\mu_c,\\sigma_c)$\n",
    "\n",
    "6. For each data point $n=\\{1,\\dots,N\\}$\n",
    "    7. Draw target class $y_n \\sim \\mbox{Multinomial}(\\mbox{Softmax}(\\textbf{x}_n,\\boldsymbol\\alpha_{i_n},\\boldsymbol\\beta_1,\\dots,\\boldsymbol\\beta_C))$\n",
    "    \n",
    "where $i_n$ is the track identifier for track $n$, and $\\boldsymbol\\mu=\\{\\mu_1\\dots\\mu_C\\}$ and $\\boldsymbol\\sigma=\\{\\sigma_1\\dots\\sigma_C\\}$."
   ]
  },
  {
   "cell_type": "code",
   "execution_count": 42,
   "metadata": {},
   "outputs": [],
   "source": [
    "# define Stan model\n",
    "model_definition = \"\"\"\n",
    "data {\n",
    "    int<lower = 1> N;\n",
    "    int<lower = 1> D;\n",
    "    int<lower = 1> C;\n",
    "    int<lower = 1> I;\n",
    "    int ind[N];\n",
    "    matrix[N,D] X;\n",
    "    int<lower=1,upper=C> y[N];\n",
    "}\n",
    "\n",
    "parameters {\n",
    "    vector<lower=1>[C] mu_prior;\n",
    "    vector<lower=1>[C] sigma_prior;\n",
    "    \n",
    "    matrix[I,C] alpha;\n",
    "    matrix[C,D] beta;  \n",
    "    \n",
    "}\n",
    "\n",
    "model {\n",
    "    for (c in 1:C) {\n",
    "        mu_prior[c] ~ cauchy(c,0.5);\n",
    "        sigma_prior[c] ~ cauchy(0,1);\n",
    "        beta[c] ~ normal(2,4); \n",
    "        for (i in 1:I){\n",
    "            alpha[i,c] ~ normal(mu_prior[c],sigma_prior[c]);\n",
    "        }\n",
    "    }\n",
    "    for (n in 1:N){\n",
    "        y[n] ~ categorical(softmax(alpha[ind[n],:]' + beta * X[n]'));\n",
    "        \n",
    "    }    \n",
    "}\n",
    "\"\"\""
   ]
  },
  {
   "cell_type": "markdown",
   "metadata": {},
   "source": [
    "Prepare input data for STAN, compile STAN program and run inference using ADVI (much faster in this case):"
   ]
  },
  {
   "cell_type": "code",
   "execution_count": 43,
   "metadata": {},
   "outputs": [
    {
     "name": "stdout",
     "output_type": "stream",
     "text": [
      "N=12094, D=14, C=4, I=5040\n"
     ]
    }
   ],
   "source": [
    "# prepare data for Stan model\n",
    "N, D = X_train.shape\n",
    "C = int(y_train.max())\n",
    "I = ind.max()\n",
    "print(\"N=%d, D=%d, C=%d, I=%d\" % (N,D,C,I))\n",
    "data = {'N': N, 'D': D, 'C': C, 'I':I, 'ind':ind_train, 'X': X_train, 'y': y_train}"
   ]
  },
  {
   "cell_type": "code",
   "execution_count": 44,
   "metadata": {},
   "outputs": [
    {
     "name": "stderr",
     "output_type": "stream",
     "text": [
      "INFO:pystan:COMPILING THE C++ CODE FOR MODEL anon_model_1acaeb94f70f4038bfb0b12b2bf6c2d9 NOW.\n",
      "WARNING:pystan:Automatic Differentiation Variational Inference (ADVI) is an EXPERIMENTAL ALGORITHM.\n",
      "WARNING:pystan:ADVI samples may be found on the filesystem in the file `C:\\Users\\CHRIST~1\\AppData\\Local\\Temp\\tmp66obo44v\\output.csv`\n"
     ]
    },
    {
     "name": "stdout",
     "output_type": "stream",
     "text": [
      "Wall time: 12min 7s\n"
     ]
    }
   ],
   "source": [
    "%%time\n",
    "# create Stan model object\n",
    "sm = pystan.StanModel(model_code=model_definition)\n",
    "fit = sm.vb(data=data, iter=10000, algorithm=\"meanfield\", grad_samples=10, seed=42, verbose=True)"
   ]
  },
  {
   "cell_type": "markdown",
   "metadata": {},
   "source": [
    "Lets plot the posterior distributions of some of the parameters of our model (you may have called these variables something else...):"
   ]
  },
  {
   "cell_type": "code",
   "execution_count": 45,
   "metadata": {},
   "outputs": [
    {
     "data": {
      "image/png": "[encoded data removed]",
      "text/plain": [
       "<Figure size 432x288 with 1 Axes>"
      ]
     },
     "metadata": {},
     "output_type": "display_data"
    }
   ],
   "source": [
    "pystan_utils.vb_plot_variables(fit, \"mu_prior\")"
   ]
  },
  {
   "cell_type": "code",
   "execution_count": 46,
   "metadata": {},
   "outputs": [
    {
     "data": {
      "image/png": "[encoded data removed]",
      "text/plain": [
       "<Figure size 432x288 with 1 Axes>"
      ]
     },
     "metadata": {},
     "output_type": "display_data"
    }
   ],
   "source": [
    "pystan_utils.vb_plot_variables(fit, \"sigma_prior\")"
   ]
  },
  {
   "cell_type": "markdown",
   "metadata": {},
   "source": [
    "We can now use the inferred posteriors to make predictions. Lets first use the \"pystan_utils\" package to extract the expected values of the posterior distribution of the model parameters:"
   ]
  },
  {
   "cell_type": "code",
   "execution_count": 47,
   "metadata": {},
   "outputs": [],
   "source": [
    "# get fitted parameters\n",
    "mu_prior = pystan_utils.vb_extract_variable(fit, \"mu_prior\", var_type=\"vector\")\n",
    "sigma_prior = pystan_utils.vb_extract_variable(fit, \"sigma_prior\", var_type=\"vector\")\n",
    "alpha = pystan_utils.vb_extract_variable(fit, \"alpha\", var_type=\"matrix\", dims=(C,I))\n",
    "beta = pystan_utils.vb_extract_variable(fit, \"beta\", var_type=\"matrix\", dims=(C,D))"
   ]
  },
  {
   "cell_type": "markdown",
   "metadata": {},
   "source": [
    "Using expected values of the parameters, we can make predictions for the testset. However, we need to account for the fact that we now have different bias parameters per track. "
   ]
  },
  {
   "cell_type": "code",
   "execution_count": 48,
   "metadata": {},
   "outputs": [
    {
     "name": "stdout",
     "output_type": "stream",
     "text": [
      "predictions: [4 2 4 ... 2 4 4]\n",
      "true values: [4 2 4 ... 2 4 1]\n",
      "Accuracy: 0.6947520462205103\n"
     ]
    }
   ],
   "source": [
    "# make predictions for test set\n",
    "y_hat = alpha[:,ind_test-1] + np.dot(beta, X_test.T)\n",
    "y_hat = np.argmax(y_hat, axis=0) + 1\n",
    "print(\"predictions:\", y_hat)\n",
    "print(\"true values:\", y_test)\n",
    "\n",
    "# evaluate prediction accuracy\n",
    "print(\"Accuracy:\", 1.0*np.sum(y_hat == y_test) / len(y_test))"
   ]
  },
  {
   "cell_type": "markdown",
   "metadata": {},
   "source": [
    "Given the posterior distributions inferred by STAN, we can even analyse the biases of different individuals identified by our model:"
   ]
  },
  {
   "cell_type": "code",
   "execution_count": null,
   "metadata": {},
   "outputs": [],
   "source": [
    "for i in range(I):\n",
    "    print(i, alpha[:,i])"
   ]
  },
  {
   "cell_type": "markdown",
   "metadata": {},
   "source": [
    "Perhaps a histogram allows for a better global analysis:"
   ]
  },
  {
   "cell_type": "code",
   "execution_count": null,
   "metadata": {},
   "outputs": [],
   "source": [
    "# histogram of biases towards mode 4 (car)\n",
    "plt.hist(alpha[3,:])\n",
    "plt.title(\"Biases towards mode 4\")\n",
    "plt.xlabel(\"alpha[4]\")\n",
    "plt.show()"
   ]
  },
  {
   "cell_type": "markdown",
   "metadata": {},
   "source": [
    "We can observe that, for most individuals the biases is around 0. However, we can also see that a few individuals really love their cars!\n",
    "\n",
    "Reflection exercise: can you think of ways in which you could use this model to try to identify policies (e.g. price changes or making terminals more efficient) that would allow to shift people's travel mode choices away from the car (e.g. towards public transport)?"
   ]
  },
  {
   "cell_type": "code",
   "execution_count": null,
   "metadata": {},
   "outputs": [],
   "source": []
  }
 ],
 "metadata": {
  "kernelspec": {
   "display_name": "Python 3",
   "language": "python",
   "name": "python3"
  },
  "language_info": {
   "codemirror_mode": {
    "name": "ipython",
    "version": 3
   },
   "file_extension": ".py",
   "mimetype": "text/x-python",
   "name": "python",
   "nbconvert_exporter": "python",
   "pygments_lexer": "ipython3",
   "version": "3.6.5"
  }
 },
 "nbformat": 4,
 "nbformat_minor": 2
}
