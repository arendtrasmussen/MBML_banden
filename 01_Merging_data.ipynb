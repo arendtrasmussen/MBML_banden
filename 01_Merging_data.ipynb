{
 "cells": [
  {
   "cell_type": "markdown",
   "metadata": {},
   "source": [
    "Christian Arendt Rasmussen s144466, Frederikke Lehmann s154109 & Clara Foss s154312"
   ]
  },
  {
   "cell_type": "markdown",
   "metadata": {},
   "source": [
    "# Merging the data from the different genres to one big dataframe"
   ]
  },
  {
   "cell_type": "markdown",
   "metadata": {},
   "source": [
    "For the purpose of this project in the course 42186 Model-based machine learning F19 , we have chosen to work with data from Spotify. We have extracted the data ourselves using the Spotipy Python library inspired by the Kaggle data set (https://www.kaggle.com/nadintamer/top-tracks-of-2017/version/1). We have around 13200 observations, consisting of random tracks from the genres \"pop\", \"metal\", \"classical\" and \"rap\", respectively. Each song has a set of audio features, including popularity danceability, energy, tempo, key, etc., and this leads us to our research question:"
   ]
  },
  {
   "cell_type": "markdown",
   "metadata": {},
   "source": [
    "### Research question\n",
    "How can the popularity of a Spotify track be predicted with hierarchical regression using the observed audio features, with genre as the level, and how does this compare with a simpler baseline model?"
   ]
  },
  {
   "cell_type": "markdown",
   "metadata": {},
   "source": [
    "#### Importing packages"
   ]
  },
  {
   "cell_type": "code",
   "execution_count": 1,
   "metadata": {},
   "outputs": [],
   "source": [
    "import numpy as np\n",
    "import pandas as pd\n",
    "from matplotlib import pyplot as plt\n",
    "from sklearn import linear_model\n",
    "import pystan\n",
    "import pystan_utils\n",
    "from sklearn.utils import shuffle\n",
    "np.random.seed(42)\n",
    "plt.style.use('ggplot')\n",
    "%matplotlib inline\n",
    "plt.rcParams['figure.figsize'] = (6, 4)\n",
    "from IPython.display import Image"
   ]
  },
  {
   "cell_type": "markdown",
   "metadata": {},
   "source": [
    "#### Loading data"
   ]
  },
  {
   "cell_type": "code",
   "execution_count": 2,
   "metadata": {},
   "outputs": [],
   "source": [
    "#### pop = 1 ####\n",
    "pop1 = pd.read_csv(\"SpotifyAudioFeatures2017.csv\")\n",
    "pop2 = pd.read_csv(\"SpotifyAudioFeatures2018.csv\")\n",
    "pop3 = pd.read_csv(\"SpotifyAudioFeatures2019.csv\")\n",
    "df_pop = pd.concat([pop1, pop2,pop3])\n",
    "df_pop[\"genre\"] = [1]*len(df_pop)\n",
    "\n",
    "#### metal = 2 ####\n",
    "met1 = pd.read_csv(\"SpotifyAudioFeatures2017metal.csv\")\n",
    "met2 = pd.read_csv(\"SpotifyAudioFeatures2018metal.csv\")\n",
    "met3 = pd.read_csv(\"SpotifyAudioFeatures2019metal.csv\")\n",
    "df_met = pd.concat([met1, met2, met3])\n",
    "df_met[\"genre\"] = [2]*len(df_met)\n",
    "\n",
    "#### classical = 3 ####\n",
    "df_clas = pd.read_csv(\"SpotifyAudioFeaturesclassical.csv\")\n",
    "df_clas[\"genre\"] = [3]*len(df_clas)\n",
    "\n",
    "#### rap = 4 ####\n",
    "rap1 = pd.read_csv(\"SpotifyAudioFeatures2017rap.csv\")\n",
    "rap2 = pd.read_csv(\"SpotifyAudioFeatures2018rap.csv\")\n",
    "rap3 = pd.read_csv(\"SpotifyAudioFeatures2019rap.csv\")\n",
    "df_rap = pd.concat([rap1, rap2, rap3])\n",
    "df_rap[\"genre\"] = [4]*len(df_rap)\n",
    "\n",
    "df = pd.concat([df_clas,df_rap,df_pop,df_met])\n",
    "df = shuffle(df)"
   ]
  },
  {
   "cell_type": "code",
   "execution_count": 3,
   "metadata": {
    "scrolled": true
   },
   "outputs": [
    {
     "name": "stdout",
     "output_type": "stream",
     "text": [
      "Shape of pop (1):  (6018, 19)\n",
      "Shape of metal (2):  (5804, 19)\n",
      "Shape of classical (3):  (5040, 19)\n",
      "Shape of rap (4):  (5928, 19)\n",
      "Total number of observations:  22790\n"
     ]
    }
   ],
   "source": [
    "print(\"Shape of pop (1): \", df_pop.shape)\n",
    "print(\"Shape of metal (2): \", df_met.shape)\n",
    "print(\"Shape of classical (3): \", df_clas.shape) \n",
    "print(\"Shape of rap (4): \",df_rap.shape)\n",
    "print(\"Total number of observations: \", df_pop.shape[0]+df_met.shape[0]+df_clas.shape[0]+df_rap.shape[0])"
   ]
  },
  {
   "cell_type": "markdown",
   "metadata": {},
   "source": [
    "#### Removing irrelevant columns and showing the the structure of the data"
   ]
  },
  {
   "cell_type": "code",
   "execution_count": 4,
   "metadata": {
    "scrolled": false
   },
   "outputs": [
    {
     "data": {
      "text/html": [
       "<div>\n",
       "<style scoped>\n",
       "    .dataframe tbody tr th:only-of-type {\n",
       "        vertical-align: middle;\n",
       "    }\n",
       "\n",
       "    .dataframe tbody tr th {\n",
       "        vertical-align: top;\n",
       "    }\n",
       "\n",
       "    .dataframe thead th {\n",
       "        text-align: right;\n",
       "    }\n",
       "</style>\n",
       "<table border=\"1\" class=\"dataframe\">\n",
       "  <thead>\n",
       "    <tr style=\"text-align: right;\">\n",
       "      <th></th>\n",
       "      <th>artist_name</th>\n",
       "      <th>track_name</th>\n",
       "      <th>track_id</th>\n",
       "      <th>popularity</th>\n",
       "      <th>acousticness</th>\n",
       "      <th>danceability</th>\n",
       "      <th>duration_ms</th>\n",
       "      <th>energy</th>\n",
       "      <th>instrumentalness</th>\n",
       "      <th>key</th>\n",
       "      <th>liveness</th>\n",
       "      <th>loudness</th>\n",
       "      <th>mode</th>\n",
       "      <th>speechiness</th>\n",
       "      <th>tempo</th>\n",
       "      <th>time_signature</th>\n",
       "      <th>valence</th>\n",
       "      <th>genre</th>\n",
       "    </tr>\n",
       "  </thead>\n",
       "  <tbody>\n",
       "    <tr>\n",
       "      <th>911</th>\n",
       "      <td>Greta Van Fleet</td>\n",
       "      <td>When The Curtain Falls</td>\n",
       "      <td>2ZMI0QNoqU9fQZFirR9WpK</td>\n",
       "      <td>70</td>\n",
       "      <td>0.029700</td>\n",
       "      <td>0.535</td>\n",
       "      <td>222960</td>\n",
       "      <td>0.9750</td>\n",
       "      <td>0.126000</td>\n",
       "      <td>0</td>\n",
       "      <td>0.0482</td>\n",
       "      <td>-2.959</td>\n",
       "      <td>1</td>\n",
       "      <td>0.0647</td>\n",
       "      <td>96.004</td>\n",
       "      <td>4</td>\n",
       "      <td>0.689</td>\n",
       "      <td>1</td>\n",
       "    </tr>\n",
       "    <tr>\n",
       "      <th>819</th>\n",
       "      <td>J. Cole</td>\n",
       "      <td>Power Trip</td>\n",
       "      <td>7FOJvA3PxiIU0DN3JjQ7jT</td>\n",
       "      <td>73</td>\n",
       "      <td>0.322000</td>\n",
       "      <td>0.667</td>\n",
       "      <td>241160</td>\n",
       "      <td>0.6100</td>\n",
       "      <td>0.000203</td>\n",
       "      <td>1</td>\n",
       "      <td>0.4260</td>\n",
       "      <td>-7.054</td>\n",
       "      <td>1</td>\n",
       "      <td>0.2170</td>\n",
       "      <td>99.991</td>\n",
       "      <td>4</td>\n",
       "      <td>0.465</td>\n",
       "      <td>4</td>\n",
       "    </tr>\n",
       "    <tr>\n",
       "      <th>4634</th>\n",
       "      <td>Sergei Prokofiev</td>\n",
       "      <td>Sonata No. 1 in F Minor for Violin and Piano, ...</td>\n",
       "      <td>3IgpUdDBDHFc6oBcFl0m2W</td>\n",
       "      <td>4</td>\n",
       "      <td>0.958000</td>\n",
       "      <td>0.237</td>\n",
       "      <td>406080</td>\n",
       "      <td>0.0744</td>\n",
       "      <td>0.107000</td>\n",
       "      <td>8</td>\n",
       "      <td>0.1050</td>\n",
       "      <td>-22.668</td>\n",
       "      <td>1</td>\n",
       "      <td>0.0399</td>\n",
       "      <td>103.970</td>\n",
       "      <td>4</td>\n",
       "      <td>0.038</td>\n",
       "      <td>3</td>\n",
       "    </tr>\n",
       "    <tr>\n",
       "      <th>984</th>\n",
       "      <td>Noah Kahan</td>\n",
       "      <td>Hurt Somebody (With Julia Michaels)</td>\n",
       "      <td>7vA2Y79Q4bBqdzBCfHeGEe</td>\n",
       "      <td>77</td>\n",
       "      <td>0.338000</td>\n",
       "      <td>0.633</td>\n",
       "      <td>168640</td>\n",
       "      <td>0.5590</td>\n",
       "      <td>0.000000</td>\n",
       "      <td>6</td>\n",
       "      <td>0.2620</td>\n",
       "      <td>-5.135</td>\n",
       "      <td>1</td>\n",
       "      <td>0.3130</td>\n",
       "      <td>114.983</td>\n",
       "      <td>4</td>\n",
       "      <td>0.473</td>\n",
       "      <td>2</td>\n",
       "    </tr>\n",
       "    <tr>\n",
       "      <th>3115</th>\n",
       "      <td>Dream Theater</td>\n",
       "      <td>Dystopian Overture</td>\n",
       "      <td>1NLujLBH0yxoR31ZlvHK7k</td>\n",
       "      <td>43</td>\n",
       "      <td>0.000974</td>\n",
       "      <td>0.272</td>\n",
       "      <td>290880</td>\n",
       "      <td>0.8190</td>\n",
       "      <td>0.851000</td>\n",
       "      <td>4</td>\n",
       "      <td>0.3750</td>\n",
       "      <td>-6.609</td>\n",
       "      <td>1</td>\n",
       "      <td>0.0338</td>\n",
       "      <td>113.290</td>\n",
       "      <td>4</td>\n",
       "      <td>0.195</td>\n",
       "      <td>3</td>\n",
       "    </tr>\n",
       "  </tbody>\n",
       "</table>\n",
       "</div>"
      ],
      "text/plain": [
       "           artist_name                                         track_name  \\\n",
       "911    Greta Van Fleet                             When The Curtain Falls   \n",
       "819            J. Cole                                         Power Trip   \n",
       "4634  Sergei Prokofiev  Sonata No. 1 in F Minor for Violin and Piano, ...   \n",
       "984         Noah Kahan                Hurt Somebody (With Julia Michaels)   \n",
       "3115     Dream Theater                                 Dystopian Overture   \n",
       "\n",
       "                    track_id  popularity  acousticness  danceability  \\\n",
       "911   2ZMI0QNoqU9fQZFirR9WpK          70      0.029700         0.535   \n",
       "819   7FOJvA3PxiIU0DN3JjQ7jT          73      0.322000         0.667   \n",
       "4634  3IgpUdDBDHFc6oBcFl0m2W           4      0.958000         0.237   \n",
       "984   7vA2Y79Q4bBqdzBCfHeGEe          77      0.338000         0.633   \n",
       "3115  1NLujLBH0yxoR31ZlvHK7k          43      0.000974         0.272   \n",
       "\n",
       "      duration_ms  energy  instrumentalness  key  liveness  loudness  mode  \\\n",
       "911        222960  0.9750          0.126000    0    0.0482    -2.959     1   \n",
       "819        241160  0.6100          0.000203    1    0.4260    -7.054     1   \n",
       "4634       406080  0.0744          0.107000    8    0.1050   -22.668     1   \n",
       "984        168640  0.5590          0.000000    6    0.2620    -5.135     1   \n",
       "3115       290880  0.8190          0.851000    4    0.3750    -6.609     1   \n",
       "\n",
       "      speechiness    tempo  time_signature  valence  genre  \n",
       "911        0.0647   96.004               4    0.689      1  \n",
       "819        0.2170   99.991               4    0.465      4  \n",
       "4634       0.0399  103.970               4    0.038      3  \n",
       "984        0.3130  114.983               4    0.473      2  \n",
       "3115       0.0338  113.290               4    0.195      3  "
      ]
     },
     "execution_count": 4,
     "metadata": {},
     "output_type": "execute_result"
    }
   ],
   "source": [
    "df_tracks = df\n",
    "df_tracks = df_tracks.drop(['Unnamed: 0'], axis=1)\n",
    "df_tracks = df_tracks.dropna(axis = 0)\n",
    "df_tracks.head()"
   ]
  },
  {
   "cell_type": "markdown",
   "metadata": {},
   "source": [
    "#### Check the number of observations within each genres, before removing duplicates for the entire data set"
   ]
  },
  {
   "cell_type": "code",
   "execution_count": 5,
   "metadata": {},
   "outputs": [
    {
     "data": {
      "image/png": "[encoded data removed]",
      "text/plain": [
       "<Figure size 432x288 with 1 Axes>"
      ]
     },
     "metadata": {
      "needs_background": "light"
     },
     "output_type": "display_data"
    }
   ],
   "source": [
    "plt.hist(df['genre'])\n",
    "plt.ylabel('Count')\n",
    "plt.title('Genre frequency')\n",
    "plt.xticks(np.arange(1,5,step=1),[\"Pop (1)\",\"Metal (2)\",\"Classical (3)\",\"Rap (4)\"])\n",
    "plt.show()"
   ]
  },
  {
   "cell_type": "markdown",
   "metadata": {},
   "source": [
    "#### Preprocessing data - removing duplicated  tracks"
   ]
  },
  {
   "cell_type": "code",
   "execution_count": 6,
   "metadata": {},
   "outputs": [
    {
     "name": "stdout",
     "output_type": "stream",
     "text": [
      "Shape after filtering:  (15253, 18)\n"
     ]
    }
   ],
   "source": [
    "#df_tracks = shuffle(df_tracks)\n",
    "grouped = df_tracks.groupby(['artist_name','track_name'], as_index=True).size()\n",
    "#grouped[grouped > 1].count()\n",
    "df_tracks.drop_duplicates(subset=['artist_name','track_name'], inplace=True)\n",
    "\n",
    "# doing the same grouping as before to verify the solution\n",
    "grouped_after_dropping = df_tracks.groupby(['artist_name','track_name'], as_index=True).size()\n",
    "#grouped_after_dropping[grouped_after_dropping > 1].count()\n",
    "\n",
    "df_tracks[df_tracks.duplicated(subset=['artist_name','track_name'],keep=False)].count()\n",
    "df = df_tracks\n",
    "#df = shuffle(df)\n",
    "print(\"Shape after filtering: \", df.shape)\n"
   ]
  },
  {
   "cell_type": "markdown",
   "metadata": {},
   "source": [
    "#### The number of observations within each genre after removing duplicates"
   ]
  },
  {
   "cell_type": "code",
   "execution_count": 7,
   "metadata": {
    "scrolled": true
   },
   "outputs": [
    {
     "data": {
      "image/png": "[encoded data removed]",
      "text/plain": [
       "<Figure size 432x288 with 1 Axes>"
      ]
     },
     "metadata": {
      "needs_background": "light"
     },
     "output_type": "display_data"
    }
   ],
   "source": [
    "plt.hist(df['genre'])\n",
    "plt.ylabel('Count')\n",
    "plt.title('Genre frequency')\n",
    "plt.xticks(np.arange(1,5,step=1),[\"Pop (1)\",\"Metal (2)\",\"Classical (3)\",\"Rap (4)\"])\n",
    "plt.show()"
   ]
  },
  {
   "cell_type": "markdown",
   "metadata": {},
   "source": [
    "#### Loading to csv"
   ]
  },
  {
   "cell_type": "code",
   "execution_count": 8,
   "metadata": {},
   "outputs": [],
   "source": [
    "# Saving the spotify data\n",
    "df.to_csv(\"genredatav2.csv\")"
   ]
  }
 ],
 "metadata": {
  "kernelspec": {
   "display_name": "Python 3",
   "language": "python",
   "name": "python3"
  },
  "language_info": {
   "codemirror_mode": {
    "name": "ipython",
    "version": 3
   },
   "file_extension": ".py",
   "mimetype": "text/x-python",
   "name": "python",
   "nbconvert_exporter": "python",
   "pygments_lexer": "ipython3",
   "version": "3.6.7"
  }
 },
 "nbformat": 4,
 "nbformat_minor": 2
}
