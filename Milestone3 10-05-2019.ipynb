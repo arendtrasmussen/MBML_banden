{
 "cells": [
  {
   "cell_type": "markdown",
   "metadata": {},
   "source": [
    "Christian Arendt Rasmussen s144466, Frederikke Lehmann s154109 & Clara Foss s154312"
   ]
  },
  {
   "cell_type": "markdown",
   "metadata": {},
   "source": [
    "# Prediction of music track popularity using hierarchical regression"
   ]
  },
  {
   "cell_type": "markdown",
   "metadata": {},
   "source": [
    "For the purpose of this project in the course 42186 Model-based machine learning F19 , we have chosen to work with data from Spotify. We have extracted the data ourselves using the Spotipy Python library inspired by the Kaggle data set (https://www.kaggle.com/nadintamer/top-tracks-of-2017/version/1). We have around 23000 observations (filtering dublets with reduce this dramatically), consisting of random tracks from the genres \"pop\", \"metal\", \"classical\" and \"rap\", respectively. Each song has a set of audio features, including popularity danceability, energy, tempo, key, etc., and this leads us to our research question:"
   ]
  },
  {
   "cell_type": "markdown",
   "metadata": {},
   "source": [
    "### Research question\n",
    "How can the popularity of a track be predicted with hierarchical regression using the observed audio features, with genre as the level?"
   ]
  },
  {
   "cell_type": "markdown",
   "metadata": {},
   "source": [
    "#### Importing packages"
   ]
  },
  {
   "cell_type": "code",
   "execution_count": 121,
   "metadata": {},
   "outputs": [],
   "source": [
    "import numpy as np\n",
    "import pandas as pd\n",
    "from matplotlib import pyplot as plt\n",
    "from sklearn import linear_model\n",
    "import pystan\n",
    "import pystan_utils\n",
    "from sklearn.utils import shuffle\n",
    "np.random.seed(42)\n",
    "plt.style.use('ggplot')\n",
    "%matplotlib inline\n",
    "plt.rcParams['figure.figsize'] = (6, 4)\n",
    "from IPython.display import Image"
   ]
  },
  {
   "cell_type": "markdown",
   "metadata": {},
   "source": [
    "#### Loading data"
   ]
  },
  {
   "cell_type": "code",
   "execution_count": 122,
   "metadata": {},
   "outputs": [
    {
     "data": {
      "text/html": [
       "<div>\n",
       "<style scoped>\n",
       "    .dataframe tbody tr th:only-of-type {\n",
       "        vertical-align: middle;\n",
       "    }\n",
       "\n",
       "    .dataframe tbody tr th {\n",
       "        vertical-align: top;\n",
       "    }\n",
       "\n",
       "    .dataframe thead th {\n",
       "        text-align: right;\n",
       "    }\n",
       "</style>\n",
       "<table border=\"1\" class=\"dataframe\">\n",
       "  <thead>\n",
       "    <tr style=\"text-align: right;\">\n",
       "      <th></th>\n",
       "      <th>Unnamed: 0</th>\n",
       "      <th>Unnamed: 0.1</th>\n",
       "      <th>artist_name</th>\n",
       "      <th>track_name</th>\n",
       "      <th>track_id</th>\n",
       "      <th>popularity</th>\n",
       "      <th>acousticness</th>\n",
       "      <th>danceability</th>\n",
       "      <th>duration_ms</th>\n",
       "      <th>energy</th>\n",
       "      <th>instrumentalness</th>\n",
       "      <th>key</th>\n",
       "      <th>liveness</th>\n",
       "      <th>loudness</th>\n",
       "      <th>mode</th>\n",
       "      <th>speechiness</th>\n",
       "      <th>tempo</th>\n",
       "      <th>time_signature</th>\n",
       "      <th>valence</th>\n",
       "      <th>genre</th>\n",
       "    </tr>\n",
       "  </thead>\n",
       "  <tbody>\n",
       "    <tr>\n",
       "      <th>0</th>\n",
       "      <td>485</td>\n",
       "      <td>485</td>\n",
       "      <td>Soolking</td>\n",
       "      <td>Vroom vroom</td>\n",
       "      <td>6Y4h3C3S6J1l3mlH4IgcZk</td>\n",
       "      <td>65</td>\n",
       "      <td>0.265000</td>\n",
       "      <td>0.794</td>\n",
       "      <td>177493</td>\n",
       "      <td>0.872</td>\n",
       "      <td>0.000000</td>\n",
       "      <td>2</td>\n",
       "      <td>0.1970</td>\n",
       "      <td>-4.285</td>\n",
       "      <td>1</td>\n",
       "      <td>0.0692</td>\n",
       "      <td>99.968</td>\n",
       "      <td>4</td>\n",
       "      <td>0.524</td>\n",
       "      <td>4</td>\n",
       "    </tr>\n",
       "    <tr>\n",
       "      <th>1</th>\n",
       "      <td>100</td>\n",
       "      <td>100</td>\n",
       "      <td>Godsmack</td>\n",
       "      <td>When Legends Rise</td>\n",
       "      <td>367RiGuLVLO3DTer4NuRLJ</td>\n",
       "      <td>57</td>\n",
       "      <td>0.000293</td>\n",
       "      <td>0.428</td>\n",
       "      <td>172826</td>\n",
       "      <td>0.914</td>\n",
       "      <td>0.000013</td>\n",
       "      <td>4</td>\n",
       "      <td>0.0869</td>\n",
       "      <td>-4.273</td>\n",
       "      <td>0</td>\n",
       "      <td>0.2810</td>\n",
       "      <td>124.115</td>\n",
       "      <td>4</td>\n",
       "      <td>0.468</td>\n",
       "      <td>2</td>\n",
       "    </tr>\n",
       "    <tr>\n",
       "      <th>2</th>\n",
       "      <td>4037</td>\n",
       "      <td>4037</td>\n",
       "      <td>Paul Gilbert</td>\n",
       "      <td>Fuzz Universe</td>\n",
       "      <td>1pxPtN4qoMvX8KmGscOxYr</td>\n",
       "      <td>37</td>\n",
       "      <td>0.001980</td>\n",
       "      <td>0.325</td>\n",
       "      <td>423453</td>\n",
       "      <td>0.945</td>\n",
       "      <td>0.412000</td>\n",
       "      <td>6</td>\n",
       "      <td>0.3470</td>\n",
       "      <td>-5.331</td>\n",
       "      <td>0</td>\n",
       "      <td>0.0519</td>\n",
       "      <td>131.923</td>\n",
       "      <td>4</td>\n",
       "      <td>0.372</td>\n",
       "      <td>3</td>\n",
       "    </tr>\n",
       "    <tr>\n",
       "      <th>3</th>\n",
       "      <td>4417</td>\n",
       "      <td>4417</td>\n",
       "      <td>Bloodbound</td>\n",
       "      <td>Moria</td>\n",
       "      <td>5CtKdgmm86gjAETNUqDJHQ</td>\n",
       "      <td>49</td>\n",
       "      <td>0.000554</td>\n",
       "      <td>0.493</td>\n",
       "      <td>340622</td>\n",
       "      <td>0.963</td>\n",
       "      <td>0.000036</td>\n",
       "      <td>8</td>\n",
       "      <td>0.0910</td>\n",
       "      <td>-5.421</td>\n",
       "      <td>1</td>\n",
       "      <td>0.1770</td>\n",
       "      <td>75.020</td>\n",
       "      <td>4</td>\n",
       "      <td>0.199</td>\n",
       "      <td>3</td>\n",
       "    </tr>\n",
       "    <tr>\n",
       "      <th>4</th>\n",
       "      <td>2631</td>\n",
       "      <td>2631</td>\n",
       "      <td>Katinka</td>\n",
       "      <td>Før Jeg Mødte Dig</td>\n",
       "      <td>1t4nON7nEOskoxzNqBRf6t</td>\n",
       "      <td>28</td>\n",
       "      <td>0.323000</td>\n",
       "      <td>0.476</td>\n",
       "      <td>269997</td>\n",
       "      <td>0.524</td>\n",
       "      <td>0.000003</td>\n",
       "      <td>7</td>\n",
       "      <td>0.2540</td>\n",
       "      <td>-7.600</td>\n",
       "      <td>1</td>\n",
       "      <td>0.0344</td>\n",
       "      <td>119.836</td>\n",
       "      <td>4</td>\n",
       "      <td>0.301</td>\n",
       "      <td>1</td>\n",
       "    </tr>\n",
       "  </tbody>\n",
       "</table>\n",
       "</div>"
      ],
      "text/plain": [
       "   Unnamed: 0  Unnamed: 0.1   artist_name         track_name  \\\n",
       "0         485           485      Soolking        Vroom vroom   \n",
       "1         100           100      Godsmack  When Legends Rise   \n",
       "2        4037          4037  Paul Gilbert      Fuzz Universe   \n",
       "3        4417          4417    Bloodbound              Moria   \n",
       "4        2631          2631       Katinka  Før Jeg Mødte Dig   \n",
       "\n",
       "                 track_id  popularity  acousticness  danceability  \\\n",
       "0  6Y4h3C3S6J1l3mlH4IgcZk          65      0.265000         0.794   \n",
       "1  367RiGuLVLO3DTer4NuRLJ          57      0.000293         0.428   \n",
       "2  1pxPtN4qoMvX8KmGscOxYr          37      0.001980         0.325   \n",
       "3  5CtKdgmm86gjAETNUqDJHQ          49      0.000554         0.493   \n",
       "4  1t4nON7nEOskoxzNqBRf6t          28      0.323000         0.476   \n",
       "\n",
       "   duration_ms  energy  instrumentalness  key  liveness  loudness  mode  \\\n",
       "0       177493   0.872          0.000000    2    0.1970    -4.285     1   \n",
       "1       172826   0.914          0.000013    4    0.0869    -4.273     0   \n",
       "2       423453   0.945          0.412000    6    0.3470    -5.331     0   \n",
       "3       340622   0.963          0.000036    8    0.0910    -5.421     1   \n",
       "4       269997   0.524          0.000003    7    0.2540    -7.600     1   \n",
       "\n",
       "   speechiness    tempo  time_signature  valence  genre  \n",
       "0       0.0692   99.968               4    0.524      4  \n",
       "1       0.2810  124.115               4    0.468      2  \n",
       "2       0.0519  131.923               4    0.372      3  \n",
       "3       0.1770   75.020               4    0.199      3  \n",
       "4       0.0344  119.836               4    0.301      1  "
      ]
     },
     "execution_count": 122,
     "metadata": {},
     "output_type": "execute_result"
    }
   ],
   "source": [
    "df = pd.read_csv(\"genredata2.csv\")\n",
    "df.head()"
   ]
  },
  {
   "cell_type": "code",
   "execution_count": 123,
   "metadata": {
    "scrolled": false
   },
   "outputs": [
    {
     "data": {
      "image/png": "[encoded data removed]",
      "text/plain": [
       "<Figure size 432x288 with 1 Axes>"
      ]
     },
     "metadata": {},
     "output_type": "display_data"
    }
   ],
   "source": [
    "plt.hist(df['genre'])\n",
    "plt.ylabel('Count')\n",
    "plt.title('Genre frequency')\n",
    "plt.xticks(np.arange(1,5,step=1),[\"Pop (1)\",\"Metal (2)\",\"Classical (3)\",\"Rap (4)\"])\n",
    "plt.show()"
   ]
  },
  {
   "cell_type": "markdown",
   "metadata": {},
   "source": []
  },
  {
   "cell_type": "markdown",
   "metadata": {},
   "source": [
    "#### Subset to make model less time-consuming"
   ]
  },
  {
   "cell_type": "code",
   "execution_count": 124,
   "metadata": {},
   "outputs": [],
   "source": [
    "#df = df[:200]\n",
    "# separate between features/inputs (X) and target/output variables (y)\n",
    "mat = df.drop(['Unnamed: 0','Unnamed: 0.1','artist_name','track_name','track_id'],axis = 1)\n",
    "mat = mat.values\n",
    "\n",
    "X = mat[:,1:-1].astype(\"float\")\n",
    "y = mat[:,0].astype(\"int\")\n",
    "ind = mat[:,-1].astype(\"int\")\n",
    "\n",
    "# standardize input features\n",
    "X_mean = X.mean(axis=0)\n",
    "X_std = X.std(axis=0)\n",
    "X = (X - X_mean) / X_std\n",
    "\n",
    "y_mean = y.mean()\n",
    "y_std = y.std()"
   ]
  },
  {
   "cell_type": "markdown",
   "metadata": {},
   "source": [
    "#### Splitting data into train and test set"
   ]
  },
  {
   "cell_type": "code",
   "execution_count": 125,
   "metadata": {},
   "outputs": [
    {
     "name": "stdout",
     "output_type": "stream",
     "text": [
      "Length of training set: 10560\n",
      "Length of test set: 2640\n"
     ]
    }
   ],
   "source": [
    "train_perc = 0.8 # percentage of training data\n",
    "split_point = int(train_perc*len(y))\n",
    "perm = np.random.permutation(len(y))\n",
    "ix_train = perm[:split_point]\n",
    "ix_test = perm[split_point:]\n",
    "X_train = X[ix_train,:]\n",
    "X_test = X[ix_test,:]\n",
    "ind_train = ind[ix_train]\n",
    "ind_test = ind[ix_test]\n",
    "y_train = y[ix_train]\n",
    "y_test = y[ix_test]\n",
    "print(\"Length of training set: %d\" % len(y_train))\n",
    "print(\"Length of test set: %d\" % len(y_test))"
   ]
  },
  {
   "cell_type": "code",
   "execution_count": 126,
   "metadata": {},
   "outputs": [
    {
     "name": "stdout",
     "output_type": "stream",
     "text": [
      "(10560, 13)\n",
      "47.00965909090909\n"
     ]
    }
   ],
   "source": [
    "print(X_train.shape)\n",
    "print(np.mean(y_train))"
   ]
  },
  {
   "cell_type": "markdown",
   "metadata": {},
   "source": [
    "## Baseline model - Simple Linear Regression"
   ]
  },
  {
   "cell_type": "markdown",
   "metadata": {},
   "source": [
    "The generative process then becomes:\n",
    "\n",
    "1. For each of the the 13 audio features $d \\in \\{1,\\dots,D\\}$  \n",
    "    1. Draw a global mean parameter $\\mu Prior_{d} \\sim \\mathcal{N}(0,10)$\n",
    "    2. Draw a global variance parameter $\\sigma Prior_{d} \\sim \\mbox{Cauchy}(0,10)$\n",
    "    3. For each of the four music genres $i \\in \\{1,\\dots,I\\}$\n",
    "      1. Draw $\\beta_{d,i} \\sim \\mathcal{N}(\\mu Prior_{d},\\sigma Prior_{d})$\n",
    "      2. Draw $\\sigma_i \\sim \\mathcal{N}(0,10)$\n",
    "      3. Draw $Intercept_i \\sim \\mathcal{N}(0,10)$\n",
    "    \n",
    "    \n",
    "2. For each track $n=\\{1,\\dots,N\\}$\n",
    "    1. Draw target popularity $y_n \\sim Normal(Intercept_{i}+\\beta_{d,i}[:,ind[n]]' * X[n]',\\sigma_{i}[ind[n]])$ (where ind[n] collects the correct beta value for the tracks genre) "
   ]
  },
  {
   "cell_type": "code",
   "execution_count": 127,
   "metadata": {},
   "outputs": [
    {
     "ename": "FileNotFoundError",
     "evalue": "[Errno 2] No such file or directory: 'PGM_1.PNG'",
     "output_type": "error",
     "traceback": [
      "\u001b[1;31m---------------------------------------------------------------------------\u001b[0m",
      "\u001b[1;31mFileNotFoundError\u001b[0m                         Traceback (most recent call last)",
      "\u001b[1;32m<ipython-input-127-51e9c08a6f36>\u001b[0m in \u001b[0;36m<module>\u001b[1;34m()\u001b[0m\n\u001b[0;32m      1\u001b[0m \u001b[1;31m# Vi skal lige opdatere PGM'en på draw.io\u001b[0m\u001b[1;33m\u001b[0m\u001b[1;33m\u001b[0m\u001b[0m\n\u001b[1;32m----> 2\u001b[1;33m \u001b[0mImage\u001b[0m\u001b[1;33m(\u001b[0m\u001b[0mfilename\u001b[0m\u001b[1;33m=\u001b[0m\u001b[1;34m'PGM_1.PNG'\u001b[0m\u001b[1;33m)\u001b[0m\u001b[1;33m\u001b[0m\u001b[0m\n\u001b[0m",
      "\u001b[1;32m~\\Anaconda3\\lib\\site-packages\\IPython\\core\\display.py\u001b[0m in \u001b[0;36m__init__\u001b[1;34m(self, data, url, filename, format, embed, width, height, retina, unconfined, metadata)\u001b[0m\n\u001b[0;32m   1149\u001b[0m         \u001b[0mself\u001b[0m\u001b[1;33m.\u001b[0m\u001b[0munconfined\u001b[0m \u001b[1;33m=\u001b[0m \u001b[0munconfined\u001b[0m\u001b[1;33m\u001b[0m\u001b[0m\n\u001b[0;32m   1150\u001b[0m         super(Image, self).__init__(data=data, url=url, filename=filename, \n\u001b[1;32m-> 1151\u001b[1;33m                 metadata=metadata)\n\u001b[0m\u001b[0;32m   1152\u001b[0m \u001b[1;33m\u001b[0m\u001b[0m\n\u001b[0;32m   1153\u001b[0m         \u001b[1;32mif\u001b[0m \u001b[0mself\u001b[0m\u001b[1;33m.\u001b[0m\u001b[0mwidth\u001b[0m \u001b[1;32mis\u001b[0m \u001b[1;32mNone\u001b[0m \u001b[1;32mand\u001b[0m \u001b[0mself\u001b[0m\u001b[1;33m.\u001b[0m\u001b[0mmetadata\u001b[0m\u001b[1;33m.\u001b[0m\u001b[0mget\u001b[0m\u001b[1;33m(\u001b[0m\u001b[1;34m'width'\u001b[0m\u001b[1;33m,\u001b[0m \u001b[1;33m{\u001b[0m\u001b[1;33m}\u001b[0m\u001b[1;33m)\u001b[0m\u001b[1;33m:\u001b[0m\u001b[1;33m\u001b[0m\u001b[0m\n",
      "\u001b[1;32m~\\Anaconda3\\lib\\site-packages\\IPython\\core\\display.py\u001b[0m in \u001b[0;36m__init__\u001b[1;34m(self, data, url, filename, metadata)\u001b[0m\n\u001b[0;32m    607\u001b[0m             \u001b[0mself\u001b[0m\u001b[1;33m.\u001b[0m\u001b[0mmetadata\u001b[0m \u001b[1;33m=\u001b[0m \u001b[1;33m{\u001b[0m\u001b[1;33m}\u001b[0m\u001b[1;33m\u001b[0m\u001b[0m\n\u001b[0;32m    608\u001b[0m \u001b[1;33m\u001b[0m\u001b[0m\n\u001b[1;32m--> 609\u001b[1;33m         \u001b[0mself\u001b[0m\u001b[1;33m.\u001b[0m\u001b[0mreload\u001b[0m\u001b[1;33m(\u001b[0m\u001b[1;33m)\u001b[0m\u001b[1;33m\u001b[0m\u001b[0m\n\u001b[0m\u001b[0;32m    610\u001b[0m         \u001b[0mself\u001b[0m\u001b[1;33m.\u001b[0m\u001b[0m_check_data\u001b[0m\u001b[1;33m(\u001b[0m\u001b[1;33m)\u001b[0m\u001b[1;33m\u001b[0m\u001b[0m\n\u001b[0;32m    611\u001b[0m \u001b[1;33m\u001b[0m\u001b[0m\n",
      "\u001b[1;32m~\\Anaconda3\\lib\\site-packages\\IPython\\core\\display.py\u001b[0m in \u001b[0;36mreload\u001b[1;34m(self)\u001b[0m\n\u001b[0;32m   1180\u001b[0m         \u001b[1;34m\"\"\"Reload the raw data from file or URL.\"\"\"\u001b[0m\u001b[1;33m\u001b[0m\u001b[0m\n\u001b[0;32m   1181\u001b[0m         \u001b[1;32mif\u001b[0m \u001b[0mself\u001b[0m\u001b[1;33m.\u001b[0m\u001b[0membed\u001b[0m\u001b[1;33m:\u001b[0m\u001b[1;33m\u001b[0m\u001b[0m\n\u001b[1;32m-> 1182\u001b[1;33m             \u001b[0msuper\u001b[0m\u001b[1;33m(\u001b[0m\u001b[0mImage\u001b[0m\u001b[1;33m,\u001b[0m\u001b[0mself\u001b[0m\u001b[1;33m)\u001b[0m\u001b[1;33m.\u001b[0m\u001b[0mreload\u001b[0m\u001b[1;33m(\u001b[0m\u001b[1;33m)\u001b[0m\u001b[1;33m\u001b[0m\u001b[0m\n\u001b[0m\u001b[0;32m   1183\u001b[0m             \u001b[1;32mif\u001b[0m \u001b[0mself\u001b[0m\u001b[1;33m.\u001b[0m\u001b[0mretina\u001b[0m\u001b[1;33m:\u001b[0m\u001b[1;33m\u001b[0m\u001b[0m\n\u001b[0;32m   1184\u001b[0m                 \u001b[0mself\u001b[0m\u001b[1;33m.\u001b[0m\u001b[0m_retina_shape\u001b[0m\u001b[1;33m(\u001b[0m\u001b[1;33m)\u001b[0m\u001b[1;33m\u001b[0m\u001b[0m\n",
      "\u001b[1;32m~\\Anaconda3\\lib\\site-packages\\IPython\\core\\display.py\u001b[0m in \u001b[0;36mreload\u001b[1;34m(self)\u001b[0m\n\u001b[0;32m    632\u001b[0m         \u001b[1;34m\"\"\"Reload the raw data from file or URL.\"\"\"\u001b[0m\u001b[1;33m\u001b[0m\u001b[0m\n\u001b[0;32m    633\u001b[0m         \u001b[1;32mif\u001b[0m \u001b[0mself\u001b[0m\u001b[1;33m.\u001b[0m\u001b[0mfilename\u001b[0m \u001b[1;32mis\u001b[0m \u001b[1;32mnot\u001b[0m \u001b[1;32mNone\u001b[0m\u001b[1;33m:\u001b[0m\u001b[1;33m\u001b[0m\u001b[0m\n\u001b[1;32m--> 634\u001b[1;33m             \u001b[1;32mwith\u001b[0m \u001b[0mopen\u001b[0m\u001b[1;33m(\u001b[0m\u001b[0mself\u001b[0m\u001b[1;33m.\u001b[0m\u001b[0mfilename\u001b[0m\u001b[1;33m,\u001b[0m \u001b[0mself\u001b[0m\u001b[1;33m.\u001b[0m\u001b[0m_read_flags\u001b[0m\u001b[1;33m)\u001b[0m \u001b[1;32mas\u001b[0m \u001b[0mf\u001b[0m\u001b[1;33m:\u001b[0m\u001b[1;33m\u001b[0m\u001b[0m\n\u001b[0m\u001b[0;32m    635\u001b[0m                 \u001b[0mself\u001b[0m\u001b[1;33m.\u001b[0m\u001b[0mdata\u001b[0m \u001b[1;33m=\u001b[0m \u001b[0mf\u001b[0m\u001b[1;33m.\u001b[0m\u001b[0mread\u001b[0m\u001b[1;33m(\u001b[0m\u001b[1;33m)\u001b[0m\u001b[1;33m\u001b[0m\u001b[0m\n\u001b[0;32m    636\u001b[0m         \u001b[1;32melif\u001b[0m \u001b[0mself\u001b[0m\u001b[1;33m.\u001b[0m\u001b[0murl\u001b[0m \u001b[1;32mis\u001b[0m \u001b[1;32mnot\u001b[0m \u001b[1;32mNone\u001b[0m\u001b[1;33m:\u001b[0m\u001b[1;33m\u001b[0m\u001b[0m\n",
      "\u001b[1;31mFileNotFoundError\u001b[0m: [Errno 2] No such file or directory: 'PGM_1.PNG'"
     ]
    }
   ],
   "source": [
    "# Vi skal lige opdatere PGM'en på draw.io\n",
    "Image(filename='PGM_1.PNG')"
   ]
  },
  {
   "cell_type": "code",
   "execution_count": 128,
   "metadata": {},
   "outputs": [],
   "source": [
    "# define Stan model\n",
    "model_definition_normal = \"\"\"\n",
    "data {\n",
    "    int<lower = 1> N;\n",
    "    int<lower = 1> D;\n",
    "    int<lower = 1> C;\n",
    "    int<lower = 1> I;\n",
    "    int<lower = 1> ind[N];\n",
    "    matrix[N,D] X;\n",
    "    vector<lower=0,upper=C> [N] y;\n",
    "}\n",
    "\n",
    "parameters {\n",
    "    \n",
    "     \n",
    "   \n",
    "    vector[D] beta;               // coefficients for predictors\n",
    "    real intercept;          // intercept for audio feature for each class\n",
    "    real<lower=0> sigma;     // variance for each audio feature for each class \n",
    "    \n",
    "}\n",
    "\n",
    "model {\n",
    "\n",
    "    sigma ~ cauchy(50,100);\n",
    "    intercept ~ normal(50,100);\n",
    "    \n",
    "    for (d in 1:D){\n",
    "            beta[d] ~ normal(50,100);\n",
    "            \n",
    "            }\n",
    "\n",
    "    \n",
    "    for (n in 1:N){\n",
    "       y[n] ~ normal(intercept + beta[ind[n]]' * X[n]', sigma); \n",
    "       //y[n] ~ categorical(softmax(intercept[ind[n]] + beta * X[n]'));\n",
    "    }      \n",
    "    \n",
    "}\n",
    "\"\"\""
   ]
  },
  {
   "cell_type": "code",
   "execution_count": 129,
   "metadata": {},
   "outputs": [
    {
     "name": "stdout",
     "output_type": "stream",
     "text": [
      "N=10560, D=13, C=100, I=4\n"
     ]
    }
   ],
   "source": [
    "# prepare data for Stan model\n",
    "N, D = X_train.shape    # number of obs, number of columns\n",
    "C = int(y_train.max())  # max popularity rating\n",
    "I = ind.max()           # max number of genres\n",
    "print(\"N=%d, D=%d, C=%d, I=%d\" % (N,D,C,I))\n",
    "data = {'N': N, 'D': D, 'C': C, 'I':I, 'ind':ind_train, 'X': X_train, 'y': y_train}"
   ]
  },
  {
   "cell_type": "code",
   "execution_count": 130,
   "metadata": {},
   "outputs": [
    {
     "name": "stderr",
     "output_type": "stream",
     "text": [
      "INFO:pystan:COMPILING THE C++ CODE FOR MODEL anon_model_2b2995f01b62e0ceebc842d37d945f3a NOW.\n",
      "WARNING:pystan:Automatic Differentiation Variational Inference (ADVI) is an EXPERIMENTAL ALGORITHM.\n",
      "WARNING:pystan:ADVI samples may be found on the filesystem in the file `C:\\Users\\CHRIST~1\\AppData\\Local\\Temp\\tmp7vurdax3\\output.csv`\n"
     ]
    },
    {
     "name": "stdout",
     "output_type": "stream",
     "text": [
      "Wall time: 3min 53s\n"
     ]
    }
   ],
   "source": [
    "%%time\n",
    "# create Stan model object\n",
    "sm = pystan.StanModel(model_code=model_definition_normal)\n",
    "fit = sm.vb(data=data, iter=10000, algorithm=\"meanfield\", grad_samples=10, seed=42, verbose=True)"
   ]
  },
  {
   "cell_type": "code",
   "execution_count": 132,
   "metadata": {
    "scrolled": true
   },
   "outputs": [
    {
     "ename": "IndexError",
     "evalue": "list index out of range",
     "output_type": "error",
     "traceback": [
      "\u001b[1;31m---------------------------------------------------------------------------\u001b[0m",
      "\u001b[1;31mIndexError\u001b[0m                                Traceback (most recent call last)",
      "\u001b[1;32m<ipython-input-132-8785b02a77f4>\u001b[0m in \u001b[0;36m<module>\u001b[1;34m()\u001b[0m\n\u001b[1;32m----> 1\u001b[1;33m \u001b[0mpystan_utils\u001b[0m\u001b[1;33m.\u001b[0m\u001b[0mvb_plot_variables\u001b[0m\u001b[1;33m(\u001b[0m\u001b[0mfit\u001b[0m\u001b[1;33m,\u001b[0m \u001b[1;34m\"beta\"\u001b[0m\u001b[1;33m)\u001b[0m\u001b[1;33m\u001b[0m\u001b[0m\n\u001b[0m",
      "\u001b[1;32m~\\Documents\\42186 Model-based Machine Learning\\Project\\MBML_banden\\pystan_utils.py\u001b[0m in \u001b[0;36mvb_plot_variables\u001b[1;34m(fit, var_names)\u001b[0m\n\u001b[0;32m     48\u001b[0m \u001b[1;33m\u001b[0m\u001b[0m\n\u001b[0;32m     49\u001b[0m \u001b[1;32mdef\u001b[0m \u001b[0mvb_plot_variables\u001b[0m\u001b[1;33m(\u001b[0m\u001b[0mfit\u001b[0m\u001b[1;33m,\u001b[0m \u001b[0mvar_names\u001b[0m\u001b[1;33m)\u001b[0m\u001b[1;33m:\u001b[0m\u001b[1;33m\u001b[0m\u001b[0m\n\u001b[1;32m---> 50\u001b[1;33m     \u001b[0msamples\u001b[0m\u001b[1;33m,\u001b[0m \u001b[0mmeans\u001b[0m\u001b[1;33m,\u001b[0m \u001b[0mnames\u001b[0m \u001b[1;33m=\u001b[0m \u001b[0mvb_extract\u001b[0m\u001b[1;33m(\u001b[0m\u001b[0mfit\u001b[0m\u001b[1;33m)\u001b[0m\u001b[1;33m\u001b[0m\u001b[0m\n\u001b[0m\u001b[0;32m     51\u001b[0m \u001b[1;33m\u001b[0m\u001b[0m\n\u001b[0;32m     52\u001b[0m     \u001b[1;32mif\u001b[0m \u001b[0mtype\u001b[0m\u001b[1;33m(\u001b[0m\u001b[0mvar_names\u001b[0m\u001b[1;33m)\u001b[0m \u001b[1;33m==\u001b[0m \u001b[0mstr\u001b[0m\u001b[1;33m:\u001b[0m\u001b[1;33m\u001b[0m\u001b[0m\n",
      "\u001b[1;32m~\\Documents\\42186 Model-based Machine Learning\\Project\\MBML_banden\\pystan_utils.py\u001b[0m in \u001b[0;36mvb_extract\u001b[1;34m(fit)\u001b[0m\n\u001b[0;32m     17\u001b[0m     \u001b[1;32mfor\u001b[0m \u001b[0mi\u001b[0m \u001b[1;32min\u001b[0m \u001b[0mxrange\u001b[0m\u001b[1;33m(\u001b[0m\u001b[0mlen\u001b[0m\u001b[1;33m(\u001b[0m\u001b[0mvar_names\u001b[0m\u001b[1;33m)\u001b[0m\u001b[1;33m)\u001b[0m\u001b[1;33m:\u001b[0m\u001b[1;33m\u001b[0m\u001b[0m\n\u001b[0;32m     18\u001b[0m         \u001b[0msamples_dict\u001b[0m\u001b[1;33m[\u001b[0m\u001b[0mvar_names\u001b[0m\u001b[1;33m[\u001b[0m\u001b[0mi\u001b[0m\u001b[1;33m]\u001b[0m\u001b[1;33m]\u001b[0m \u001b[1;33m=\u001b[0m \u001b[0msamples\u001b[0m\u001b[1;33m[\u001b[0m\u001b[0mi\u001b[0m\u001b[1;33m,\u001b[0m\u001b[1;33m:\u001b[0m\u001b[1;33m]\u001b[0m\u001b[1;33m\u001b[0m\u001b[0m\n\u001b[1;32m---> 19\u001b[1;33m         \u001b[0mmeans_dict\u001b[0m\u001b[1;33m[\u001b[0m\u001b[0mvar_names\u001b[0m\u001b[1;33m[\u001b[0m\u001b[0mi\u001b[0m\u001b[1;33m]\u001b[0m\u001b[1;33m]\u001b[0m \u001b[1;33m=\u001b[0m \u001b[0mfit\u001b[0m\u001b[1;33m[\u001b[0m\u001b[1;34m\"mean_pars\"\u001b[0m\u001b[1;33m]\u001b[0m\u001b[1;33m[\u001b[0m\u001b[0mi\u001b[0m\u001b[1;33m]\u001b[0m\u001b[1;33m\u001b[0m\u001b[0m\n\u001b[0m\u001b[0;32m     20\u001b[0m \u001b[1;33m\u001b[0m\u001b[0m\n\u001b[0;32m     21\u001b[0m     \u001b[1;32mreturn\u001b[0m \u001b[0msamples_dict\u001b[0m\u001b[1;33m,\u001b[0m \u001b[0mmeans_dict\u001b[0m\u001b[1;33m,\u001b[0m \u001b[0mvar_names\u001b[0m\u001b[1;33m\u001b[0m\u001b[0m\n",
      "\u001b[1;31mIndexError\u001b[0m: list index out of range"
     ]
    }
   ],
   "source": [
    "pystan_utils.vb_plot_variables(fit, \"beta\")"
   ]
  },
  {
   "cell_type": "markdown",
   "metadata": {},
   "source": [
    "#### Predictions using pystan_utils"
   ]
  },
  {
   "cell_type": "code",
   "execution_count": 133,
   "metadata": {},
   "outputs": [],
   "source": [
    "# get fitted parameters\n",
    "intercept = pystan_utils.vb_extract_variable(fit, \"intercept\", var_type=\"real\")\n",
    "beta = pystan_utils.vb_extract_variable(fit, \"beta\", var_type=\"vector\", dims=(D))"
   ]
  },
  {
   "cell_type": "code",
   "execution_count": 134,
   "metadata": {
    "scrolled": true
   },
   "outputs": [
    {
     "name": "stdout",
     "output_type": "stream",
     "text": [
      "pred:  (2640,)\n",
      "betamatrix:  (13,)\n",
      "data:  (2640, 13)\n",
      "intercepts:  46.70776308299899\n"
     ]
    }
   ],
   "source": [
    "print(\"pred: \", np.dot(beta.T, X_test.T).shape)\n",
    "print(\"betamatrix: \", beta.T.shape)\n",
    "print(\"data: \", X_test.shape)\n",
    "print(\"intercepts: \", intercept)"
   ]
  },
  {
   "cell_type": "code",
   "execution_count": 135,
   "metadata": {},
   "outputs": [],
   "source": [
    "def compute_error(trues, predicted):\n",
    "    corr = np.corrcoef(predicted, trues)[0,1]\n",
    "    mae = np.mean(np.abs(predicted - trues))\n",
    "    rae = np.sum(np.abs(predicted - trues)) / np.sum(np.abs(trues - np.mean(trues)))\n",
    "    rmse = np.sqrt(np.mean((predicted - trues)**2))\n",
    "    r2 = max(0, 1 - np.sum((trues-predicted)**2) / np.sum((trues - np.mean(trues))**2))\n",
    "    return corr, mae, rae, rmse, r2"
   ]
  },
  {
   "cell_type": "code",
   "execution_count": 136,
   "metadata": {
    "scrolled": false
   },
   "outputs": [
    {
     "name": "stdout",
     "output_type": "stream",
     "text": [
      "predictions: [61.07392793 42.76125428 50.7780276  ... 36.43000315 40.60718885\n",
      " 43.24089787]\n",
      "true values: [75 64 26 ... 30  2 64]\n",
      "CorrCoef: 0.411\n",
      "MAE: 19.918\n",
      "RMSE: 23.703\n",
      "R2: 0.164\n",
      "[61.07392793 42.76125428 50.7780276  ... 36.43000315 40.60718885\n",
      " 43.24089787]\n"
     ]
    }
   ],
   "source": [
    "# convert back to the original scale\n",
    "y_hat = intercept + np.dot(beta.T, X_test.T)\n",
    "\n",
    "\n",
    "print(\"predictions:\", y_hat)\n",
    "print(\"true values:\", y_test)\n",
    "\n",
    "preds = y_hat\n",
    "y_true = y_test \n",
    "\n",
    "corr, mae, rae, rmse, r2 = compute_error(y_true, preds)\n",
    "print(\"CorrCoef: %.3f\\nMAE: %.3f\\nRMSE: %.3f\\nR2: %.3f\" % (corr, mae, rmse, r2))\n",
    "\n",
    "print(preds)"
   ]
  },
  {
   "cell_type": "code",
   "execution_count": 137,
   "metadata": {},
   "outputs": [],
   "source": [
    "import seaborn as sns"
   ]
  },
  {
   "cell_type": "code",
   "execution_count": 138,
   "metadata": {
    "scrolled": false
   },
   "outputs": [
    {
     "name": "stderr",
     "output_type": "stream",
     "text": [
      "C:\\Users\\Christian\\Anaconda3\\lib\\site-packages\\matplotlib\\axes\\_axes.py:6462: UserWarning: The 'normed' kwarg is deprecated, and has been replaced by the 'density' kwarg.\n",
      "  warnings.warn(\"The 'normed' kwarg is deprecated, and has been \"\n",
      "C:\\Users\\Christian\\Anaconda3\\lib\\site-packages\\matplotlib\\axes\\_axes.py:6462: UserWarning: The 'normed' kwarg is deprecated, and has been replaced by the 'density' kwarg.\n",
      "  warnings.warn(\"The 'normed' kwarg is deprecated, and has been \"\n"
     ]
    },
    {
     "data": {
      "text/plain": [
       "<function matplotlib.pyplot.show(*args, **kw)>"
      ]
     },
     "execution_count": 138,
     "metadata": {},
     "output_type": "execute_result"
    },
    {
     "data": {
      "image/png": "[encoded data removed]",
      "text/plain": [
       "<Figure size 1152x576 with 1 Axes>"
      ]
     },
     "metadata": {},
     "output_type": "display_data"
    }
   ],
   "source": [
    "plt.figure(figsize=(16, 8))\n",
    "true = sns.distplot(y_true, hist=True, kde=False, \n",
    "             bins=100, color = 'darkblue', \n",
    "             hist_kws={'edgecolor':'black'}, label = 'True popularity values'\n",
    "             )\n",
    "pred = sns.distplot(preds, hist=True, kde=False, \n",
    "             bins=100, color = 'darkred', \n",
    "             hist_kws={'edgecolor':'black'}, label = 'Predicted popularity values'\n",
    "             )\n",
    "plt.legend()\n",
    "plt.show"
   ]
  },
  {
   "cell_type": "markdown",
   "metadata": {},
   "source": [
    "### Basine model - resuts\n",
    "\n",
    "We get an RMSE of approximately 23.7. Next, we introduce hierarchical regression where we group by genre. "
   ]
  },
  {
   "cell_type": "markdown",
   "metadata": {},
   "source": [
    "## Hierachical Regression - Estimating y with a normal distribution in STAN\n",
    "The generative process then becomes:\n",
    "\n",
    "1. For each of the the 13 audio features $d \\in \\{1,\\dots,D\\}$  \n",
    "    1. Draw $\\beta_{d} \\sim \\mathcal{N}(0,10)$\n",
    "    2. Draw $\\sigma_{d} \\sim \\mathcal{N}(0,10)$\n",
    "    3. Draw $Intercept_{d} \\sim \\mathcal{N}(0,10)$\n",
    "    \n",
    "    \n",
    "2. For each track $n=\\{1,\\dots,N\\}$\n",
    "    1. Draw target popularity $y_n \\sim Normal(Intercept_{i}+\\beta_{d,i}[:,ind[n]]' * X[n]',\\sigma_{d}[ind[n]])$ (where ind[n] collects the correct beta value for the tracks genre) \n",
    "    \n",
    "\n"
   ]
  },
  {
   "cell_type": "markdown",
   "metadata": {},
   "source": [
    "### PGM:"
   ]
  },
  {
   "cell_type": "code",
   "execution_count": null,
   "metadata": {},
   "outputs": [],
   "source": [
    "# Vi skal lige opdatere PGM'en på draw.io\n",
    "Image(filename='PGM_2.PNG')"
   ]
  },
  {
   "cell_type": "code",
   "execution_count": 139,
   "metadata": {},
   "outputs": [],
   "source": [
    "# define Stan model\n",
    "model_definition_normal = \"\"\"\n",
    "data {\n",
    "    int<lower = 1> N;\n",
    "    int<lower = 1> D;\n",
    "    int<lower = 1> C;\n",
    "    int<lower = 1> I;\n",
    "    int<lower = 1> ind[N];\n",
    "    matrix[N,D] X;\n",
    "    vector<lower=0,upper=C> [N] y;\n",
    "}\n",
    "\n",
    "parameters {\n",
    "    \n",
    "     \n",
    "    vector[D] mu_prior;             // global intercept mean\n",
    "    vector<lower=0>[D] sigma_prior; // global variance mean\n",
    "    matrix[D,I] beta;               // coefficients for predictors\n",
    "    vector[I] intercept;          // intercept for audio feature for each class\n",
    "    vector<lower=0>[I] sigma;     // variance for each audio feature for each class \n",
    "    \n",
    "}\n",
    "\n",
    "model {\n",
    "    for (d in 1:D){\n",
    "        mu_prior[d] ~ normal(50,100); // Hyper-prior\n",
    "        sigma_prior[d] ~ cauchy(50,100); // Hyper-prior\n",
    "        for (i in 1:I) {\n",
    "            beta[d,i] ~ normal(mu_prior[d],sigma_prior[d]);\n",
    "            sigma[i] ~ cauchy(50,100);\n",
    "            intercept[i] ~ normal(50,100);\n",
    "            }\n",
    "        }\n",
    "\n",
    "    \n",
    "    for (n in 1:N){\n",
    "       y[n] ~ normal(intercept[ind[n]] + beta[:,ind[n]]' * X[n]', sigma[ind[n]]); \n",
    "       //y[n] ~ categorical(softmax(intercept[ind[n]] + beta * X[n]'));\n",
    "    }      \n",
    "    \n",
    "}\n",
    "\"\"\""
   ]
  },
  {
   "cell_type": "code",
   "execution_count": 140,
   "metadata": {},
   "outputs": [
    {
     "name": "stdout",
     "output_type": "stream",
     "text": [
      "N=10560, D=13, C=100, I=4\n"
     ]
    }
   ],
   "source": [
    "# prepare data for Stan model\n",
    "N, D = X_train.shape    # number of obs, number of columns\n",
    "C = int(y_train.max())  # max popularity rating\n",
    "I = ind.max()           # max number of genres\n",
    "print(\"N=%d, D=%d, C=%d, I=%d\" % (N,D,C,I))\n",
    "data = {'N': N, 'D': D, 'C': C, 'I':I, 'ind':ind_train, 'X': X_train, 'y': y_train}"
   ]
  },
  {
   "cell_type": "code",
   "execution_count": 141,
   "metadata": {
    "scrolled": true
   },
   "outputs": [
    {
     "name": "stderr",
     "output_type": "stream",
     "text": [
      "INFO:pystan:COMPILING THE C++ CODE FOR MODEL anon_model_d01d3b81a7081f8b96b29eaea1089343 NOW.\n",
      "WARNING:pystan:Automatic Differentiation Variational Inference (ADVI) is an EXPERIMENTAL ALGORITHM.\n",
      "WARNING:pystan:ADVI samples may be found on the filesystem in the file `C:\\Users\\CHRIST~1\\AppData\\Local\\Temp\\tmpj8_q72mf\\output.csv`\n"
     ]
    },
    {
     "name": "stdout",
     "output_type": "stream",
     "text": [
      "Wall time: 3min 42s\n"
     ]
    }
   ],
   "source": [
    "%%time\n",
    "# create Stan model object\n",
    "sm = pystan.StanModel(model_code=model_definition_normal)\n",
    "fit_h = sm.vb(data=data, iter=10000, algorithm=\"meanfield\", grad_samples=10, seed=42, verbose=True)"
   ]
  },
  {
   "cell_type": "code",
   "execution_count": null,
   "metadata": {},
   "outputs": [],
   "source": [
    "pl = fit.plot()fit.traceplot('beta')"
   ]
  },
  {
   "cell_type": "code",
   "execution_count": null,
   "metadata": {},
   "outputs": [],
   "source": [
    "pystan_utils.vb_plot_variables(fit, \"mu_prior\")"
   ]
  },
  {
   "cell_type": "code",
   "execution_count": null,
   "metadata": {
    "scrolled": false
   },
   "outputs": [],
   "source": [
    "pystan_utils.vb_plot_variables(fit, \"sigma_prior\")"
   ]
  },
  {
   "cell_type": "code",
   "execution_count": null,
   "metadata": {},
   "outputs": [],
   "source": [
    "pystan_utils.vb_plot_variables(fit, \"beta\")"
   ]
  },
  {
   "cell_type": "markdown",
   "metadata": {},
   "source": [
    "#### Predictions using pystan_utils"
   ]
  },
  {
   "cell_type": "code",
   "execution_count": 142,
   "metadata": {},
   "outputs": [],
   "source": [
    "# get fitted parameters\n",
    "mu_prior = pystan_utils.vb_extract_variable(fit_h, \"mu_prior\", var_type=\"vector\")\n",
    "sigma_prior = pystan_utils.vb_extract_variable(fit_h, \"sigma_prior\", var_type=\"vector\")\n",
    "intercept = pystan_utils.vb_extract_variable(fit_h, \"intercept\", var_type=\"vector\", dims=(I))\n",
    "beta = pystan_utils.vb_extract_variable(fit_h, \"beta\", var_type=\"matrix\", dims=(D,I))"
   ]
  },
  {
   "cell_type": "code",
   "execution_count": 143,
   "metadata": {
    "scrolled": true
   },
   "outputs": [
    {
     "name": "stdout",
     "output_type": "stream",
     "text": [
      "pred:  (4, 2640)\n",
      "betamatrix:  (4, 13)\n",
      "data:  (2640, 13)\n",
      "intercepts:  (4,)\n"
     ]
    }
   ],
   "source": [
    "print(\"pred: \", np.dot(beta.T, X_test.T).shape)\n",
    "print(\"betamatrix: \", beta.T.shape)\n",
    "print(\"data: \", X_test.shape)\n",
    "print(\"intercepts: \", intercept.shape)"
   ]
  },
  {
   "cell_type": "markdown",
   "metadata": {},
   "source": [
    "##### Accuracy test"
   ]
  },
  {
   "cell_type": "code",
   "execution_count": 144,
   "metadata": {},
   "outputs": [],
   "source": [
    "def compute_error(trues, predicted):\n",
    "    corr = np.corrcoef(predicted, trues)[0,1]\n",
    "    mae = np.mean(np.abs(predicted - trues))\n",
    "    rae = np.sum(np.abs(predicted - trues)) / np.sum(np.abs(trues - np.mean(trues)))\n",
    "    rmse = np.sqrt(np.mean((predicted - trues)**2))\n",
    "    r2 = max(0, 1 - np.sum((trues-predicted)**2) / np.sum((trues - np.mean(trues))**2))\n",
    "    return corr, mae, rae, rmse, r2"
   ]
  },
  {
   "cell_type": "code",
   "execution_count": 145,
   "metadata": {},
   "outputs": [
    {
     "name": "stdout",
     "output_type": "stream",
     "text": [
      "predictions: [68.94288277 57.87786749 18.17586282 ... 17.25711847 18.57516213\n",
      " 65.27716216]\n",
      "true values: [75 64 26 ... 30  2 64]\n",
      "CorrCoef: 0.803\n",
      "MAE: 12.169\n",
      "RMSE: 15.490\n",
      "R2: 0.643\n",
      "[68.94288277 57.87786749 18.17586282 ... 17.25711847 18.57516213\n",
      " 65.27716216]\n"
     ]
    }
   ],
   "source": [
    "# make predictions for test set\n",
    "y_hat = []\n",
    "for i in range(len(intercept)):\n",
    "        y_hat.append(intercept[i] + np.dot(beta.T, X_test.T)[i])\n",
    "        \n",
    "y_hat = np.matrix(y_hat)\n",
    "\n",
    "\n",
    "#Extracting the right prediction\n",
    "yhat = np.zeros(y_hat.shape[1])\n",
    "for n in range(y_hat.shape[1]):\n",
    "    preds[n] = y_hat[ind_test[n]-1,n]\n",
    "    \n",
    "\n",
    "print(\"predictions:\", preds)\n",
    "print(\"true values:\", y_test)\n",
    "\n",
    "# True popularity values\n",
    "y_true = y_test \n",
    "\n",
    "corr, mae, rae, rmse, r2 = compute_error(y_true, preds)\n",
    "print(\"CorrCoef: %.3f\\nMAE: %.3f\\nRMSE: %.3f\\nR2: %.3f\" % (corr, mae, rmse, r2))\n",
    "\n",
    "print(preds)"
   ]
  },
  {
   "cell_type": "code",
   "execution_count": 146,
   "metadata": {},
   "outputs": [
    {
     "name": "stderr",
     "output_type": "stream",
     "text": [
      "C:\\Users\\Christian\\Anaconda3\\lib\\site-packages\\matplotlib\\axes\\_axes.py:6462: UserWarning: The 'normed' kwarg is deprecated, and has been replaced by the 'density' kwarg.\n",
      "  warnings.warn(\"The 'normed' kwarg is deprecated, and has been \"\n",
      "C:\\Users\\Christian\\Anaconda3\\lib\\site-packages\\matplotlib\\axes\\_axes.py:6462: UserWarning: The 'normed' kwarg is deprecated, and has been replaced by the 'density' kwarg.\n",
      "  warnings.warn(\"The 'normed' kwarg is deprecated, and has been \"\n"
     ]
    },
    {
     "data": {
      "text/plain": [
       "<function matplotlib.pyplot.show(*args, **kw)>"
      ]
     },
     "execution_count": 146,
     "metadata": {},
     "output_type": "execute_result"
    },
    {
     "data": {
      "image/png": "[encoded data removed]",
      "text/plain": [
       "<Figure size 1152x576 with 1 Axes>"
      ]
     },
     "metadata": {},
     "output_type": "display_data"
    }
   ],
   "source": [
    "plt.figure(figsize=(16, 8))\n",
    "true = sns.distplot(y_true, hist=True, kde=False, \n",
    "             bins=100, color = 'darkblue', \n",
    "             hist_kws={'edgecolor':'black'}, label = 'True popularity values'\n",
    "             )\n",
    "pred = sns.distplot(preds, hist=True, kde=False, \n",
    "             bins=100, color = 'darkred', \n",
    "             hist_kws={'edgecolor':'black'}, label = 'Predicted popularity values'\n",
    "             )\n",
    "plt.legend()\n",
    "plt.show"
   ]
  },
  {
   "cell_type": "markdown",
   "metadata": {},
   "source": [
    "Would be nice to extract the song title/artist to see if the popularity makes sense"
   ]
  },
  {
   "cell_type": "markdown",
   "metadata": {},
   "source": [
    "## 2nd Model - Hierarchical Regression in STAN\n",
    "The generative process then becomes:\n",
    "\n",
    "1. For each of the the 13 audio features $d \\in \\{1,\\dots,D\\}$  \n",
    "    1. Draw a global mean parameter $\\mu Prior_{d} \\sim \\mathcal{N}(0,10)$\n",
    "    2. Draw a global variance parameter $\\sigma Prior_{d} \\sim \\mbox{Cauchy}(0,10)$\n",
    "    3. For each of the four music genres $i \\in \\{1,\\dots,I\\}$\n",
    "      1. Draw $\\beta_{d,i} \\sim \\mathcal{N}(\\mu Prior_{d},\\sigma Prior_{d})$\n",
    "      2. Draw $\\sigma_i \\sim \\mathcal{N}(0,10)$\n",
    "      3. Draw $Intercept_i \\sim \\mathcal{N}(0,10)$\n",
    "    \n",
    "    \n",
    "2. For each track $n=\\{1,\\dots,N\\}$\n",
    "      1. Draw target popularity $y_n \\sim beta(\\exp(Intercept_{i}+\\beta1_{d,i}[:,ind[n]]' * X[n]'),\\exp(Intercept_{i}+\\beta1_{d,i}[:,ind[n]]' * X[n]'))$ (where ind[n] collects the correct beta value for the tracks genre\n",
    "\n"
   ]
  },
  {
   "cell_type": "code",
   "execution_count": null,
   "metadata": {},
   "outputs": [],
   "source": [
    "# define Stan model\n",
    "model_definition_beta = \"\"\"\n",
    "data {\n",
    "    int<lower = 1> N;\n",
    "    int<lower = 1> D;\n",
    "    int<lower = 1> C;\n",
    "    int<lower = 1> I;\n",
    "    int<lower = 1> ind[N];\n",
    "    matrix[N,D] X;\n",
    "    int<lower=0,upper=C> y[N];\n",
    "}\n",
    "\n",
    "parameters {\n",
    "    \n",
    "     \n",
    "    vector[D] mu_prior;                    // global intercept mean\n",
    "    vector<lower=0>[D] sigma_prior;        // global variance mean\n",
    "    matrix[D,I] beta1;            // coefficients for predictors\n",
    "    matrix[D,I] beta2;            // coefficients for predictors\n",
    "    vector[I] intercept1;         // intercept for audio feature for each class\n",
    "    vector[I] intercept2;         // intercept for audio feature for each class\n",
    "    vector[N] mu;\n",
    "    vector[N] phi;\n",
    "    real A;\n",
    "    real B;\n",
    "}\n",
    "\n",
    "model {\n",
    "    \n",
    "    for (d in 1:D){\n",
    "        mu_prior[d] ~ normal(50,100);      // Hyper-prior\n",
    "        print(mu_prior[d])\n",
    "        sigma_prior[d] ~ cauchy(50,100);   // Hyper-prior\n",
    "        for (i in 1:I) {\n",
    "            beta1[d,i] ~ normal(mu_prior[d],sigma_prior[d]);\n",
    "            beta2[d,i] ~ normal(mu_prior[d],sigma_prior[d]);\n",
    "            intercept1[i] ~ normal(50,100);\n",
    "            intercept2[i] ~ normal(50,100);\n",
    "            }\n",
    "        }\n",
    " \n",
    "    for (n in 1:N) {\n",
    "        mu[n]=inv_logit(beta1[:,ind[n]]*X[n,:]);   \n",
    "        phi[n]=exp(X[n,]);\n",
    "    }\n",
    "\n",
    "    A = mu .* phi;\n",
    "    B = (1.0 - mu) .* phi;\n",
    "    \n",
    "    for (n in 1:N){\n",
    "        \n",
    "        y[n] ~ beta(A, B);\n",
    "    \n",
    "    //for (n in 1:N){\n",
    "      //  y[n] ~ beta(exp(intercept1[ind[n]] + beta1[:,ind[n]]' * X[n]'), exp(intercept2[ind[n]] + beta2[:,ind[n]]' * X[n]'));\n",
    "        \n",
    "        \n",
    "    }    \n",
    "}\n",
    "\"\"\""
   ]
  },
  {
   "cell_type": "markdown",
   "metadata": {},
   "source": [
    "Prepare input data for STAN, compile STAN program and run inference using ADVI (much faster in this case):"
   ]
  },
  {
   "cell_type": "code",
   "execution_count": null,
   "metadata": {},
   "outputs": [],
   "source": [
    "# prepare data for Stan model\n",
    "N, D = X_train.shape    # number of obs, number of columns\n",
    "C = int(y_train.max())  # max popularity rating\n",
    "I = ind.max()           # max number of genres\n",
    "print(\"N=%d, D=%d, C=%d, I=%d\" % (N,D,C,I))\n",
    "data = {'N': N, 'D': D, 'C': C, 'I':I, 'ind':ind_train, 'X': X_train, 'y': y_train}"
   ]
  },
  {
   "cell_type": "code",
   "execution_count": null,
   "metadata": {},
   "outputs": [],
   "source": [
    "print(np.min(X_train))\n",
    "print(np.argmin(X_train, axis=0))\n",
    "\n",
    "X_train[30,]"
   ]
  },
  {
   "cell_type": "code",
   "execution_count": null,
   "metadata": {},
   "outputs": [],
   "source": [
    "%%time\n",
    "# create Stan model object\n",
    "sm = pystan.StanModel(model_code=model_definition_beta)\n",
    "fit = sm.vb(data=data, iter=10000, algorithm=\"meanfield\", grad_samples=10, seed=42, verbose=True)"
   ]
  },
  {
   "cell_type": "code",
   "execution_count": null,
   "metadata": {},
   "outputs": [],
   "source": [
    "pystan_utils.vb_plot_variables(fit, \"mu_prior\")"
   ]
  },
  {
   "cell_type": "code",
   "execution_count": null,
   "metadata": {
    "scrolled": true
   },
   "outputs": [],
   "source": [
    "pystan_utils.vb_plot_variables(fit, \"sigma_prior\")"
   ]
  },
  {
   "cell_type": "code",
   "execution_count": null,
   "metadata": {
    "scrolled": true
   },
   "outputs": [],
   "source": [
    "pystan_utils.vb_plot_variables(fit, \"beta1\")"
   ]
  },
  {
   "cell_type": "code",
   "execution_count": null,
   "metadata": {},
   "outputs": [],
   "source": [
    "pystan_utils.vb_plot_variables(fit, \"beta2\")"
   ]
  },
  {
   "cell_type": "markdown",
   "metadata": {},
   "source": [
    "#### Predictions using pystan_utils"
   ]
  },
  {
   "cell_type": "code",
   "execution_count": null,
   "metadata": {},
   "outputs": [],
   "source": [
    "# get fitted parameters\n",
    "mu_prior = pystan_utils.vb_extract_variable(fit, \"mu_prior\", var_type=\"vector\")\n",
    "sigma_prior = pystan_utils.vb_extract_variable(fit, \"sigma_prior\", var_type=\"vector\")\n",
    "intercept1 = pystan_utils.vb_extract_variable(fit, \"intercept1\", var_type=\"vector\", dims=(I))\n",
    "intercept2 = pystan_utils.vb_extract_variable(fit, \"intercept2\", var_type=\"vector\", dims=(I))\n",
    "beta1 = pystan_utils.vb_extract_variable(fit, \"beta1\", var_type=\"matrix\", dims=(D,I))\n",
    "beta2 = pystan_utils.vb_extract_variable(fit, \"beta2\", var_type=\"matrix\", dims=(D,I))"
   ]
  },
  {
   "cell_type": "markdown",
   "metadata": {},
   "source": [
    "Using expected values of the parameters, we can make predictions for the testset. However, we need to account for the fact that we now have different bias parameters per track. "
   ]
  },
  {
   "cell_type": "code",
   "execution_count": null,
   "metadata": {},
   "outputs": [],
   "source": [
    "# make predictions for test set\n",
    "y_hat = alpha[:,ind_test-1] + np.dot(beta, X_test.T)\n",
    "y_hat = np.argmax(y_hat, axis=0) + 1\n",
    "print(\"predictions:\", y_hat)\n",
    "print(\"true values:\", y_test)\n",
    "\n",
    "# evaluate prediction accuracy\n",
    "print(\"Accuracy:\", 1.0*np.sum(y_hat == y_test) / len(y_test))"
   ]
  },
  {
   "cell_type": "code",
   "execution_count": null,
   "metadata": {},
   "outputs": [],
   "source": [
    "print(y_hat[0:20])"
   ]
  },
  {
   "cell_type": "code",
   "execution_count": null,
   "metadata": {},
   "outputs": [],
   "source": []
  }
 ],
 "metadata": {
  "kernelspec": {
   "display_name": "Python 3",
   "language": "python",
   "name": "python3"
  },
  "language_info": {
   "codemirror_mode": {
    "name": "ipython",
    "version": 3
   },
   "file_extension": ".py",
   "mimetype": "text/x-python",
   "name": "python",
   "nbconvert_exporter": "python",
   "pygments_lexer": "ipython3",
   "version": "3.6.5"
  }
 },
 "nbformat": 4,
 "nbformat_minor": 2
}
